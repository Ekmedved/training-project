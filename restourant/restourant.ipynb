{
 "cells": [
  {
   "cell_type": "markdown",
   "metadata": {},
   "source": [
    "# Description of the project"
   ]
  },
  {
   "cell_type": "markdown",
   "metadata": {},
   "source": [
    "You have decided to open a small cafe in Moscow. It is original - guests should be served by robots. The project is promising, but expensive. Together with your partners, you decided to approach investors. They are interested in the current state of affairs on the market - can you gain popularity for a long time, when all the onlookers have seen enough of the robot waiters?\n",
    "You are an analytics guru and your partners ask you to prepare a market study. You have open data about public catering establishments in Moscow."
   ]
  },
  {
   "cell_type": "code",
   "execution_count": 1,
   "metadata": {},
   "outputs": [],
   "source": [
    "# Import packages\n",
    "import pandas as pd\n",
    "import matplotlib.pyplot as plt \n",
    "import seaborn as sns\n",
    "from plotly import graph_objects as go\n",
    "import plotly.express as px\n",
    "from pymystem3 import Mystem\n",
    "from io import BytesIO\n",
    "import requests\n",
    "m = Mystem()"
   ]
  },
  {
   "cell_type": "code",
   "execution_count": 2,
   "metadata": {},
   "outputs": [
    {
     "name": "stdout",
     "output_type": "stream",
     "text": [
      "<class 'pandas.core.frame.DataFrame'>\n",
      "Int64Index: 15366 entries, 0 to 15365\n",
      "Data columns (total 6 columns):\n",
      " #   Column       Non-Null Count  Dtype \n",
      "---  ------       --------------  ----- \n",
      " 0   id           15366 non-null  int64 \n",
      " 1   object_name  15366 non-null  object\n",
      " 2   chain        15366 non-null  object\n",
      " 3   object_type  15366 non-null  object\n",
      " 4   address      15366 non-null  object\n",
      " 5   number       15366 non-null  int64 \n",
      "dtypes: int64(2), object(4)\n",
      "memory usage: 840.3+ KB\n"
     ]
    }
   ],
   "source": [
    "# Info\n",
    "rest_data = pd.read_csv('rest_data.csv', index_col=0)\n",
    "rest_data.info()"
   ]
  },
  {
   "cell_type": "code",
   "execution_count": 3,
   "metadata": {},
   "outputs": [
    {
     "data": {
      "text/html": [
       "<div>\n",
       "<style scoped>\n",
       "    .dataframe tbody tr th:only-of-type {\n",
       "        vertical-align: middle;\n",
       "    }\n",
       "\n",
       "    .dataframe tbody tr th {\n",
       "        vertical-align: top;\n",
       "    }\n",
       "\n",
       "    .dataframe thead th {\n",
       "        text-align: right;\n",
       "    }\n",
       "</style>\n",
       "<table border=\"1\" class=\"dataframe\">\n",
       "  <thead>\n",
       "    <tr style=\"text-align: right;\">\n",
       "      <th></th>\n",
       "      <th>id</th>\n",
       "      <th>object_name</th>\n",
       "      <th>chain</th>\n",
       "      <th>object_type</th>\n",
       "      <th>address</th>\n",
       "      <th>number</th>\n",
       "    </tr>\n",
       "  </thead>\n",
       "  <tbody>\n",
       "    <tr>\n",
       "      <th>0</th>\n",
       "      <td>151635</td>\n",
       "      <td>СМЕТАНА</td>\n",
       "      <td>нет</td>\n",
       "      <td>кафе</td>\n",
       "      <td>город Москва, улица Егора Абакумова, дом 9</td>\n",
       "      <td>48</td>\n",
       "    </tr>\n",
       "    <tr>\n",
       "      <th>1</th>\n",
       "      <td>77874</td>\n",
       "      <td>Родник</td>\n",
       "      <td>нет</td>\n",
       "      <td>кафе</td>\n",
       "      <td>город Москва, улица Талалихина, дом 2/1, корпус 1</td>\n",
       "      <td>35</td>\n",
       "    </tr>\n",
       "    <tr>\n",
       "      <th>2</th>\n",
       "      <td>24309</td>\n",
       "      <td>Кафе «Академия»</td>\n",
       "      <td>нет</td>\n",
       "      <td>кафе</td>\n",
       "      <td>город Москва, Абельмановская улица, дом 6</td>\n",
       "      <td>95</td>\n",
       "    </tr>\n",
       "    <tr>\n",
       "      <th>3</th>\n",
       "      <td>21894</td>\n",
       "      <td>ПИЦЦЕТОРИЯ</td>\n",
       "      <td>да</td>\n",
       "      <td>кафе</td>\n",
       "      <td>город Москва, Абрамцевская улица, дом 1</td>\n",
       "      <td>40</td>\n",
       "    </tr>\n",
       "    <tr>\n",
       "      <th>4</th>\n",
       "      <td>119365</td>\n",
       "      <td>Кафе «Вишневая метель»</td>\n",
       "      <td>нет</td>\n",
       "      <td>кафе</td>\n",
       "      <td>город Москва, Абрамцевская улица, дом 9, корпус 1</td>\n",
       "      <td>50</td>\n",
       "    </tr>\n",
       "  </tbody>\n",
       "</table>\n",
       "</div>"
      ],
      "text/plain": [
       "       id             object_name chain object_type  \\\n",
       "0  151635                 СМЕТАНА   нет        кафе   \n",
       "1   77874                  Родник   нет        кафе   \n",
       "2   24309         Кафе «Академия»   нет        кафе   \n",
       "3   21894              ПИЦЦЕТОРИЯ    да        кафе   \n",
       "4  119365  Кафе «Вишневая метель»   нет        кафе   \n",
       "\n",
       "                                             address  number  \n",
       "0         город Москва, улица Егора Абакумова, дом 9      48  \n",
       "1  город Москва, улица Талалихина, дом 2/1, корпус 1      35  \n",
       "2          город Москва, Абельмановская улица, дом 6      95  \n",
       "3            город Москва, Абрамцевская улица, дом 1      40  \n",
       "4  город Москва, Абрамцевская улица, дом 9, корпус 1      50  "
      ]
     },
     "execution_count": 3,
     "metadata": {},
     "output_type": "execute_result"
    }
   ],
   "source": [
    "# First  5 rows\n",
    "rest_data.head()"
   ]
  },
  {
   "cell_type": "code",
   "execution_count": 4,
   "metadata": {},
   "outputs": [
    {
     "data": {
      "text/html": [
       "<div>\n",
       "<style scoped>\n",
       "    .dataframe tbody tr th:only-of-type {\n",
       "        vertical-align: middle;\n",
       "    }\n",
       "\n",
       "    .dataframe tbody tr th {\n",
       "        vertical-align: top;\n",
       "    }\n",
       "\n",
       "    .dataframe thead th {\n",
       "        text-align: right;\n",
       "    }\n",
       "</style>\n",
       "<table border=\"1\" class=\"dataframe\">\n",
       "  <thead>\n",
       "    <tr style=\"text-align: right;\">\n",
       "      <th></th>\n",
       "      <th>id</th>\n",
       "      <th>number</th>\n",
       "    </tr>\n",
       "  </thead>\n",
       "  <tbody>\n",
       "    <tr>\n",
       "      <th>count</th>\n",
       "      <td>15366.000000</td>\n",
       "      <td>15366.000000</td>\n",
       "    </tr>\n",
       "    <tr>\n",
       "      <th>mean</th>\n",
       "      <td>119720.066901</td>\n",
       "      <td>59.547182</td>\n",
       "    </tr>\n",
       "    <tr>\n",
       "      <th>std</th>\n",
       "      <td>73036.130732</td>\n",
       "      <td>74.736833</td>\n",
       "    </tr>\n",
       "    <tr>\n",
       "      <th>min</th>\n",
       "      <td>838.000000</td>\n",
       "      <td>0.000000</td>\n",
       "    </tr>\n",
       "    <tr>\n",
       "      <th>25%</th>\n",
       "      <td>28524.000000</td>\n",
       "      <td>12.000000</td>\n",
       "    </tr>\n",
       "    <tr>\n",
       "      <th>50%</th>\n",
       "      <td>144974.500000</td>\n",
       "      <td>40.000000</td>\n",
       "    </tr>\n",
       "    <tr>\n",
       "      <th>75%</th>\n",
       "      <td>184262.250000</td>\n",
       "      <td>80.000000</td>\n",
       "    </tr>\n",
       "    <tr>\n",
       "      <th>max</th>\n",
       "      <td>223439.000000</td>\n",
       "      <td>1700.000000</td>\n",
       "    </tr>\n",
       "  </tbody>\n",
       "</table>\n",
       "</div>"
      ],
      "text/plain": [
       "                  id        number\n",
       "count   15366.000000  15366.000000\n",
       "mean   119720.066901     59.547182\n",
       "std     73036.130732     74.736833\n",
       "min       838.000000      0.000000\n",
       "25%     28524.000000     12.000000\n",
       "50%    144974.500000     40.000000\n",
       "75%    184262.250000     80.000000\n",
       "max    223439.000000   1700.000000"
      ]
     },
     "execution_count": 4,
     "metadata": {},
     "output_type": "execute_result"
    }
   ],
   "source": [
    "# Describe\n",
    "rest_data.describe()"
   ]
  },
  {
   "cell_type": "code",
   "execution_count": 5,
   "metadata": {},
   "outputs": [
    {
     "data": {
      "text/plain": [
       "0"
      ]
     },
     "execution_count": 5,
     "metadata": {},
     "output_type": "execute_result"
    }
   ],
   "source": [
    "# Number of duplicates\n",
    "rest_data.duplicated().sum()"
   ]
  },
  {
   "cell_type": "code",
   "execution_count": 6,
   "metadata": {},
   "outputs": [
    {
     "data": {
      "text/plain": [
       "id             0\n",
       "object_name    0\n",
       "chain          0\n",
       "object_type    0\n",
       "address        0\n",
       "number         0\n",
       "dtype: int64"
      ]
     },
     "execution_count": 6,
     "metadata": {},
     "output_type": "execute_result"
    }
   ],
   "source": [
    "# Numbers of empty\n",
    "rest_data.isna().sum()"
   ]
  },
  {
   "cell_type": "code",
   "execution_count": 7,
   "metadata": {},
   "outputs": [
    {
     "data": {
      "text/html": [
       "<div>\n",
       "<style scoped>\n",
       "    .dataframe tbody tr th:only-of-type {\n",
       "        vertical-align: middle;\n",
       "    }\n",
       "\n",
       "    .dataframe tbody tr th {\n",
       "        vertical-align: top;\n",
       "    }\n",
       "\n",
       "    .dataframe thead th {\n",
       "        text-align: right;\n",
       "    }\n",
       "</style>\n",
       "<table border=\"1\" class=\"dataframe\">\n",
       "  <thead>\n",
       "    <tr style=\"text-align: right;\">\n",
       "      <th></th>\n",
       "      <th>id</th>\n",
       "      <th>object_name</th>\n",
       "      <th>chain</th>\n",
       "      <th>object_type</th>\n",
       "      <th>address</th>\n",
       "      <th>number</th>\n",
       "    </tr>\n",
       "  </thead>\n",
       "  <tbody>\n",
       "    <tr>\n",
       "      <th>4</th>\n",
       "      <td>119365</td>\n",
       "      <td>Кафе «Вишневая метель»</td>\n",
       "      <td>нет</td>\n",
       "      <td>кафе</td>\n",
       "      <td>город Москва, Абрамцевская улица, дом 9, корпус 1</td>\n",
       "      <td>50</td>\n",
       "    </tr>\n",
       "    <tr>\n",
       "      <th>7</th>\n",
       "      <td>20957</td>\n",
       "      <td>Буфет МТУСИ</td>\n",
       "      <td>нет</td>\n",
       "      <td>столовая</td>\n",
       "      <td>город Москва, Авиамоторная улица, дом 8, строе...</td>\n",
       "      <td>90</td>\n",
       "    </tr>\n",
       "    <tr>\n",
       "      <th>8</th>\n",
       "      <td>20958</td>\n",
       "      <td>КПФ СЕМЬЯ-1</td>\n",
       "      <td>нет</td>\n",
       "      <td>столовая</td>\n",
       "      <td>город Москва, Авиамоторная улица, дом 8, строе...</td>\n",
       "      <td>150</td>\n",
       "    </tr>\n",
       "    <tr>\n",
       "      <th>9</th>\n",
       "      <td>28858</td>\n",
       "      <td>Столовая МТУСИ</td>\n",
       "      <td>нет</td>\n",
       "      <td>столовая</td>\n",
       "      <td>город Москва, Авиамоторная улица, дом 8, строе...</td>\n",
       "      <td>120</td>\n",
       "    </tr>\n",
       "    <tr>\n",
       "      <th>16</th>\n",
       "      <td>144107</td>\n",
       "      <td>Суши Wok</td>\n",
       "      <td>да</td>\n",
       "      <td>предприятие быстрого обслуживания</td>\n",
       "      <td>город Москва, Азовская улица, дом 3</td>\n",
       "      <td>7</td>\n",
       "    </tr>\n",
       "    <tr>\n",
       "      <th>...</th>\n",
       "      <td>...</td>\n",
       "      <td>...</td>\n",
       "      <td>...</td>\n",
       "      <td>...</td>\n",
       "      <td>...</td>\n",
       "      <td>...</td>\n",
       "    </tr>\n",
       "    <tr>\n",
       "      <th>15361</th>\n",
       "      <td>208537</td>\n",
       "      <td>Шоколадница</td>\n",
       "      <td>да</td>\n",
       "      <td>кафе</td>\n",
       "      <td>город Москва, 3-й Крутицкий переулок, дом 18</td>\n",
       "      <td>50</td>\n",
       "    </tr>\n",
       "    <tr>\n",
       "      <th>15362</th>\n",
       "      <td>209264</td>\n",
       "      <td>Шоколадница</td>\n",
       "      <td>да</td>\n",
       "      <td>кафе</td>\n",
       "      <td>город Москва, улица Земляной Вал, дом 33</td>\n",
       "      <td>10</td>\n",
       "    </tr>\n",
       "    <tr>\n",
       "      <th>15363</th>\n",
       "      <td>209186</td>\n",
       "      <td>Шоколадница</td>\n",
       "      <td>да</td>\n",
       "      <td>кафе</td>\n",
       "      <td>город Москва, улица Земляной Вал, дом 33</td>\n",
       "      <td>20</td>\n",
       "    </tr>\n",
       "    <tr>\n",
       "      <th>15364</th>\n",
       "      <td>221900</td>\n",
       "      <td>Шоколадница</td>\n",
       "      <td>да</td>\n",
       "      <td>кафе</td>\n",
       "      <td>город Москва, поселение Московский, Киевское ш...</td>\n",
       "      <td>36</td>\n",
       "    </tr>\n",
       "    <tr>\n",
       "      <th>15365</th>\n",
       "      <td>222535</td>\n",
       "      <td>Шоколадница</td>\n",
       "      <td>да</td>\n",
       "      <td>кафе</td>\n",
       "      <td>город Москва, Ходынский бульвар, дом 4</td>\n",
       "      <td>10</td>\n",
       "    </tr>\n",
       "  </tbody>\n",
       "</table>\n",
       "<p>8446 rows × 6 columns</p>\n",
       "</div>"
      ],
      "text/plain": [
       "           id             object_name chain  \\\n",
       "4      119365  Кафе «Вишневая метель»   нет   \n",
       "7       20957             Буфет МТУСИ   нет   \n",
       "8       20958             КПФ СЕМЬЯ-1   нет   \n",
       "9       28858          Столовая МТУСИ   нет   \n",
       "16     144107                Суши Wok    да   \n",
       "...       ...                     ...   ...   \n",
       "15361  208537             Шоколадница    да   \n",
       "15362  209264             Шоколадница    да   \n",
       "15363  209186             Шоколадница    да   \n",
       "15364  221900             Шоколадница    да   \n",
       "15365  222535             Шоколадница    да   \n",
       "\n",
       "                             object_type  \\\n",
       "4                                   кафе   \n",
       "7                               столовая   \n",
       "8                               столовая   \n",
       "9                               столовая   \n",
       "16     предприятие быстрого обслуживания   \n",
       "...                                  ...   \n",
       "15361                               кафе   \n",
       "15362                               кафе   \n",
       "15363                               кафе   \n",
       "15364                               кафе   \n",
       "15365                               кафе   \n",
       "\n",
       "                                                 address  number  \n",
       "4      город Москва, Абрамцевская улица, дом 9, корпус 1      50  \n",
       "7      город Москва, Авиамоторная улица, дом 8, строе...      90  \n",
       "8      город Москва, Авиамоторная улица, дом 8, строе...     150  \n",
       "9      город Москва, Авиамоторная улица, дом 8, строе...     120  \n",
       "16                   город Москва, Азовская улица, дом 3       7  \n",
       "...                                                  ...     ...  \n",
       "15361       город Москва, 3-й Крутицкий переулок, дом 18      50  \n",
       "15362           город Москва, улица Земляной Вал, дом 33      10  \n",
       "15363           город Москва, улица Земляной Вал, дом 33      20  \n",
       "15364  город Москва, поселение Московский, Киевское ш...      36  \n",
       "15365             город Москва, Ходынский бульвар, дом 4      10  \n",
       "\n",
       "[8446 rows x 6 columns]"
      ]
     },
     "execution_count": 7,
     "metadata": {},
     "output_type": "execute_result"
    }
   ],
   "source": [
    "rest_data[rest_data['address'].duplicated(keep=False)]"
   ]
  },
  {
   "cell_type": "code",
   "execution_count": 8,
   "metadata": {},
   "outputs": [
    {
     "data": {
      "text/html": [
       "<div>\n",
       "<style scoped>\n",
       "    .dataframe tbody tr th:only-of-type {\n",
       "        vertical-align: middle;\n",
       "    }\n",
       "\n",
       "    .dataframe tbody tr th {\n",
       "        vertical-align: top;\n",
       "    }\n",
       "\n",
       "    .dataframe thead th {\n",
       "        text-align: right;\n",
       "    }\n",
       "</style>\n",
       "<table border=\"1\" class=\"dataframe\">\n",
       "  <thead>\n",
       "    <tr style=\"text-align: right;\">\n",
       "      <th></th>\n",
       "      <th>id</th>\n",
       "      <th>object_name</th>\n",
       "      <th>chain</th>\n",
       "      <th>object_type</th>\n",
       "      <th>address</th>\n",
       "      <th>number</th>\n",
       "    </tr>\n",
       "  </thead>\n",
       "  <tbody>\n",
       "    <tr>\n",
       "      <th>0</th>\n",
       "      <td>151635</td>\n",
       "      <td>СМЕТАНА</td>\n",
       "      <td>Несетевое</td>\n",
       "      <td>кафе</td>\n",
       "      <td>город Москва, улица Егора Абакумова, дом 9</td>\n",
       "      <td>48</td>\n",
       "    </tr>\n",
       "    <tr>\n",
       "      <th>1</th>\n",
       "      <td>77874</td>\n",
       "      <td>Родник</td>\n",
       "      <td>Несетевое</td>\n",
       "      <td>кафе</td>\n",
       "      <td>город Москва, улица Талалихина, дом 2/1, корпус 1</td>\n",
       "      <td>35</td>\n",
       "    </tr>\n",
       "    <tr>\n",
       "      <th>2</th>\n",
       "      <td>24309</td>\n",
       "      <td>Кафе «Академия»</td>\n",
       "      <td>Несетевое</td>\n",
       "      <td>кафе</td>\n",
       "      <td>город Москва, Абельмановская улица, дом 6</td>\n",
       "      <td>95</td>\n",
       "    </tr>\n",
       "    <tr>\n",
       "      <th>3</th>\n",
       "      <td>21894</td>\n",
       "      <td>ПИЦЦЕТОРИЯ</td>\n",
       "      <td>Сетевое</td>\n",
       "      <td>кафе</td>\n",
       "      <td>город Москва, Абрамцевская улица, дом 1</td>\n",
       "      <td>40</td>\n",
       "    </tr>\n",
       "    <tr>\n",
       "      <th>4</th>\n",
       "      <td>119365</td>\n",
       "      <td>Кафе «Вишневая метель»</td>\n",
       "      <td>Несетевое</td>\n",
       "      <td>кафе</td>\n",
       "      <td>город Москва, Абрамцевская улица, дом 9, корпус 1</td>\n",
       "      <td>50</td>\n",
       "    </tr>\n",
       "    <tr>\n",
       "      <th>...</th>\n",
       "      <td>...</td>\n",
       "      <td>...</td>\n",
       "      <td>...</td>\n",
       "      <td>...</td>\n",
       "      <td>...</td>\n",
       "      <td>...</td>\n",
       "    </tr>\n",
       "    <tr>\n",
       "      <th>15361</th>\n",
       "      <td>208537</td>\n",
       "      <td>Шоколадница</td>\n",
       "      <td>Сетевое</td>\n",
       "      <td>кафе</td>\n",
       "      <td>город Москва, 3-й Крутицкий переулок, дом 18</td>\n",
       "      <td>50</td>\n",
       "    </tr>\n",
       "    <tr>\n",
       "      <th>15362</th>\n",
       "      <td>209264</td>\n",
       "      <td>Шоколадница</td>\n",
       "      <td>Сетевое</td>\n",
       "      <td>кафе</td>\n",
       "      <td>город Москва, улица Земляной Вал, дом 33</td>\n",
       "      <td>10</td>\n",
       "    </tr>\n",
       "    <tr>\n",
       "      <th>15363</th>\n",
       "      <td>209186</td>\n",
       "      <td>Шоколадница</td>\n",
       "      <td>Сетевое</td>\n",
       "      <td>кафе</td>\n",
       "      <td>город Москва, улица Земляной Вал, дом 33</td>\n",
       "      <td>20</td>\n",
       "    </tr>\n",
       "    <tr>\n",
       "      <th>15364</th>\n",
       "      <td>221900</td>\n",
       "      <td>Шоколадница</td>\n",
       "      <td>Сетевое</td>\n",
       "      <td>кафе</td>\n",
       "      <td>город Москва, поселение Московский, Киевское ш...</td>\n",
       "      <td>36</td>\n",
       "    </tr>\n",
       "    <tr>\n",
       "      <th>15365</th>\n",
       "      <td>222535</td>\n",
       "      <td>Шоколадница</td>\n",
       "      <td>Сетевое</td>\n",
       "      <td>кафе</td>\n",
       "      <td>город Москва, Ходынский бульвар, дом 4</td>\n",
       "      <td>10</td>\n",
       "    </tr>\n",
       "  </tbody>\n",
       "</table>\n",
       "<p>15366 rows × 6 columns</p>\n",
       "</div>"
      ],
      "text/plain": [
       "           id             object_name      chain object_type  \\\n",
       "0      151635                 СМЕТАНА  Несетевое        кафе   \n",
       "1       77874                  Родник  Несетевое        кафе   \n",
       "2       24309         Кафе «Академия»  Несетевое        кафе   \n",
       "3       21894              ПИЦЦЕТОРИЯ    Сетевое        кафе   \n",
       "4      119365  Кафе «Вишневая метель»  Несетевое        кафе   \n",
       "...       ...                     ...        ...         ...   \n",
       "15361  208537             Шоколадница    Сетевое        кафе   \n",
       "15362  209264             Шоколадница    Сетевое        кафе   \n",
       "15363  209186             Шоколадница    Сетевое        кафе   \n",
       "15364  221900             Шоколадница    Сетевое        кафе   \n",
       "15365  222535             Шоколадница    Сетевое        кафе   \n",
       "\n",
       "                                                 address  number  \n",
       "0             город Москва, улица Егора Абакумова, дом 9      48  \n",
       "1      город Москва, улица Талалихина, дом 2/1, корпус 1      35  \n",
       "2              город Москва, Абельмановская улица, дом 6      95  \n",
       "3                город Москва, Абрамцевская улица, дом 1      40  \n",
       "4      город Москва, Абрамцевская улица, дом 9, корпус 1      50  \n",
       "...                                                  ...     ...  \n",
       "15361       город Москва, 3-й Крутицкий переулок, дом 18      50  \n",
       "15362           город Москва, улица Земляной Вал, дом 33      10  \n",
       "15363           город Москва, улица Земляной Вал, дом 33      20  \n",
       "15364  город Москва, поселение Московский, Киевское ш...      36  \n",
       "15365             город Москва, Ходынский бульвар, дом 4      10  \n",
       "\n",
       "[15366 rows x 6 columns]"
      ]
     },
     "execution_count": 8,
     "metadata": {},
     "output_type": "execute_result"
    }
   ],
   "source": [
    "rest_data.loc[(rest_data.chain == 'да'), 'chain'] = 'Сетевое'\n",
    "rest_data.loc[(rest_data.chain == 'нет'), 'chain'] = 'Несетевое'\n",
    "rest_data"
   ]
  },
  {
   "cell_type": "markdown",
   "metadata": {},
   "source": [
    "The dataset has 6 columns with 15366 observations. These columns contain information about the names of objects, their identifiers, network/non-network point status, type of object, address and number of seats. In the network status column, the value was changed from “yes” to “network” and from “no” to “non-network”, as this will allow us to build more informative graphs in the future and for visual perception of information in the table. The table contains duplicates by address, but they cannot be removed from the table, since a selective analysis was carried out using external sources - it was found that these are mainly canteens in universities located in the same academic building."
   ]
  },
  {
   "cell_type": "code",
   "execution_count": 9,
   "metadata": {},
   "outputs": [
    {
     "data": {
      "text/html": [
       "<div>\n",
       "<style scoped>\n",
       "    .dataframe tbody tr th:only-of-type {\n",
       "        vertical-align: middle;\n",
       "    }\n",
       "\n",
       "    .dataframe tbody tr th {\n",
       "        vertical-align: top;\n",
       "    }\n",
       "\n",
       "    .dataframe thead th {\n",
       "        text-align: right;\n",
       "    }\n",
       "</style>\n",
       "<table border=\"1\" class=\"dataframe\">\n",
       "  <thead>\n",
       "    <tr style=\"text-align: right;\">\n",
       "      <th></th>\n",
       "      <th>object_type</th>\n",
       "      <th>number_of_object</th>\n",
       "    </tr>\n",
       "  </thead>\n",
       "  <tbody>\n",
       "    <tr>\n",
       "      <th>0</th>\n",
       "      <td>бар</td>\n",
       "      <td>856</td>\n",
       "    </tr>\n",
       "    <tr>\n",
       "      <th>1</th>\n",
       "      <td>буфет</td>\n",
       "      <td>585</td>\n",
       "    </tr>\n",
       "    <tr>\n",
       "      <th>2</th>\n",
       "      <td>закусочная</td>\n",
       "      <td>360</td>\n",
       "    </tr>\n",
       "    <tr>\n",
       "      <th>3</th>\n",
       "      <td>кафе</td>\n",
       "      <td>6099</td>\n",
       "    </tr>\n",
       "    <tr>\n",
       "      <th>4</th>\n",
       "      <td>кафетерий</td>\n",
       "      <td>398</td>\n",
       "    </tr>\n",
       "    <tr>\n",
       "      <th>5</th>\n",
       "      <td>магазин (отдел кулинарии)</td>\n",
       "      <td>273</td>\n",
       "    </tr>\n",
       "    <tr>\n",
       "      <th>6</th>\n",
       "      <td>предприятие быстрого обслуживания</td>\n",
       "      <td>1923</td>\n",
       "    </tr>\n",
       "    <tr>\n",
       "      <th>7</th>\n",
       "      <td>ресторан</td>\n",
       "      <td>2285</td>\n",
       "    </tr>\n",
       "    <tr>\n",
       "      <th>8</th>\n",
       "      <td>столовая</td>\n",
       "      <td>2587</td>\n",
       "    </tr>\n",
       "  </tbody>\n",
       "</table>\n",
       "</div>"
      ],
      "text/plain": [
       "                         object_type  number_of_object\n",
       "0                                бар               856\n",
       "1                              буфет               585\n",
       "2                         закусочная               360\n",
       "3                               кафе              6099\n",
       "4                          кафетерий               398\n",
       "5          магазин (отдел кулинарии)               273\n",
       "6  предприятие быстрого обслуживания              1923\n",
       "7                           ресторан              2285\n",
       "8                           столовая              2587"
      ]
     },
     "execution_count": 9,
     "metadata": {},
     "output_type": "execute_result"
    }
   ],
   "source": [
    "# I am exploring the ratio of types of public catering facilities by quantity. I'll make a graph.\n",
    "object_type_pivot_table = rest_data.groupby(by='object_type').count().reset_index()\n",
    "object_type_pivot_table.drop(object_type_pivot_table.columns[[1, 2, 3, 4]], axis = 1, inplace = True)\n",
    "object_type_pivot_table.reset_index()\n",
    "object_type_pivot_table.columns = ['object_type', 'number_of_object']\n",
    "object_type_pivot_table"
   ]
  },
  {
   "cell_type": "code",
   "execution_count": 10,
   "metadata": {},
   "outputs": [
    {
     "data": {
      "text/plain": [
       "15366"
      ]
     },
     "execution_count": 10,
     "metadata": {},
     "output_type": "execute_result"
    }
   ],
   "source": [
    "object_type_pivot_table['number_of_object'].sum()"
   ]
  },
  {
   "cell_type": "code",
   "execution_count": 11,
   "metadata": {},
   "outputs": [
    {
     "data": {
      "text/html": [
       "<div>\n",
       "<style scoped>\n",
       "    .dataframe tbody tr th:only-of-type {\n",
       "        vertical-align: middle;\n",
       "    }\n",
       "\n",
       "    .dataframe tbody tr th {\n",
       "        vertical-align: top;\n",
       "    }\n",
       "\n",
       "    .dataframe thead th {\n",
       "        text-align: right;\n",
       "    }\n",
       "</style>\n",
       "<table border=\"1\" class=\"dataframe\">\n",
       "  <thead>\n",
       "    <tr style=\"text-align: right;\">\n",
       "      <th></th>\n",
       "      <th>object_type</th>\n",
       "      <th>number_of_object</th>\n",
       "      <th>ratio</th>\n",
       "    </tr>\n",
       "  </thead>\n",
       "  <tbody>\n",
       "    <tr>\n",
       "      <th>3</th>\n",
       "      <td>кафе</td>\n",
       "      <td>6099</td>\n",
       "      <td>39.69</td>\n",
       "    </tr>\n",
       "    <tr>\n",
       "      <th>8</th>\n",
       "      <td>столовая</td>\n",
       "      <td>2587</td>\n",
       "      <td>16.84</td>\n",
       "    </tr>\n",
       "    <tr>\n",
       "      <th>7</th>\n",
       "      <td>ресторан</td>\n",
       "      <td>2285</td>\n",
       "      <td>14.87</td>\n",
       "    </tr>\n",
       "    <tr>\n",
       "      <th>6</th>\n",
       "      <td>предприятие быстрого обслуживания</td>\n",
       "      <td>1923</td>\n",
       "      <td>12.51</td>\n",
       "    </tr>\n",
       "    <tr>\n",
       "      <th>0</th>\n",
       "      <td>бар</td>\n",
       "      <td>856</td>\n",
       "      <td>5.57</td>\n",
       "    </tr>\n",
       "    <tr>\n",
       "      <th>1</th>\n",
       "      <td>буфет</td>\n",
       "      <td>585</td>\n",
       "      <td>3.81</td>\n",
       "    </tr>\n",
       "    <tr>\n",
       "      <th>4</th>\n",
       "      <td>кафетерий</td>\n",
       "      <td>398</td>\n",
       "      <td>2.59</td>\n",
       "    </tr>\n",
       "    <tr>\n",
       "      <th>2</th>\n",
       "      <td>закусочная</td>\n",
       "      <td>360</td>\n",
       "      <td>2.34</td>\n",
       "    </tr>\n",
       "    <tr>\n",
       "      <th>5</th>\n",
       "      <td>магазин (отдел кулинарии)</td>\n",
       "      <td>273</td>\n",
       "      <td>1.78</td>\n",
       "    </tr>\n",
       "  </tbody>\n",
       "</table>\n",
       "</div>"
      ],
      "text/plain": [
       "                         object_type  number_of_object  ratio\n",
       "3                               кафе              6099  39.69\n",
       "8                           столовая              2587  16.84\n",
       "7                           ресторан              2285  14.87\n",
       "6  предприятие быстрого обслуживания              1923  12.51\n",
       "0                                бар               856   5.57\n",
       "1                              буфет               585   3.81\n",
       "4                          кафетерий               398   2.59\n",
       "2                         закусочная               360   2.34\n",
       "5          магазин (отдел кулинарии)               273   1.78"
      ]
     },
     "execution_count": 11,
     "metadata": {},
     "output_type": "execute_result"
    }
   ],
   "source": [
    "object_type_pivot_table['ratio'] = round(object_type_pivot_table['number_of_object'] / object_type_pivot_table['number_of_object'].sum() * 100, 2)\n",
    "object_type_pivot_table = object_type_pivot_table.sort_values(by='ratio', ascending=False)\n",
    "object_type_pivot_table"
   ]
  },
  {
   "cell_type": "code",
   "execution_count": 12,
   "metadata": {},
   "outputs": [
    {
     "data": {
      "image/png": "[encoded data removed]",
      "text/plain": [
       "<Figure size 1080x648 with 1 Axes>"
      ]
     },
     "metadata": {},
     "output_type": "display_data"
    }
   ],
   "source": [
    "\n",
    "plt.style.use('ggplot')\n",
    "plt.figure(figsize=(15, 9))\n",
    "sns.set_style(\"whitegrid\")\n",
    "plt.xticks(rotation=30)\n",
    "ax = sns.barplot(x='object_type', y='ratio', data=object_type_pivot_table)\n",
    "ax.set_title('Graph of the ratio of types of public catering facilities by quantity')\n",
    "ax.set_xlabel('Type of establishment')\n",
    "ax.set_ylabel('Share of the total, %')\n",
    "# ax.xticks(rotation=45)\n",
    "plt.show()"
   ]
  },
  {
   "cell_type": "markdown",
   "metadata": {},
   "source": [
    "The most popular types of food establishments are cafes, canteens and restaurants, which occupy 39.7%, 16.85% and 14.87%, respectively, of the total number of establishments in the set. The smallest share is occupied by shops (culinary department) and eateries, which occupy less than 2.5%."
   ]
  },
  {
   "cell_type": "code",
   "execution_count": 13,
   "metadata": {},
   "outputs": [
    {
     "data": {
      "text/html": [
       "<div>\n",
       "<style scoped>\n",
       "    .dataframe tbody tr th:only-of-type {\n",
       "        vertical-align: middle;\n",
       "    }\n",
       "\n",
       "    .dataframe tbody tr th {\n",
       "        vertical-align: top;\n",
       "    }\n",
       "\n",
       "    .dataframe thead th {\n",
       "        text-align: right;\n",
       "    }\n",
       "</style>\n",
       "<table border=\"1\" class=\"dataframe\">\n",
       "  <thead>\n",
       "    <tr style=\"text-align: right;\">\n",
       "      <th></th>\n",
       "      <th>chain</th>\n",
       "      <th>number_of_object</th>\n",
       "    </tr>\n",
       "  </thead>\n",
       "  <tbody>\n",
       "    <tr>\n",
       "      <th>0</th>\n",
       "      <td>Несетевое</td>\n",
       "      <td>12398</td>\n",
       "    </tr>\n",
       "    <tr>\n",
       "      <th>1</th>\n",
       "      <td>Сетевое</td>\n",
       "      <td>2968</td>\n",
       "    </tr>\n",
       "  </tbody>\n",
       "</table>\n",
       "</div>"
      ],
      "text/plain": [
       "       chain  number_of_object\n",
       "0  Несетевое             12398\n",
       "1    Сетевое              2968"
      ]
     },
     "execution_count": 13,
     "metadata": {},
     "output_type": "execute_result"
    }
   ],
   "source": [
    "### I am researching the ratio of chain and non-chain establishments by quantity. I'll build a graph\n",
    "chain_pivot_table = rest_data.groupby(by='chain').count().reset_index()\n",
    "chain_pivot_table.drop(chain_pivot_table.columns[[2, 3, 4, 5]], axis = 1, inplace = True)\n",
    "chain_pivot_table.reset_index()\n",
    "chain_pivot_table.columns = ['chain', 'number_of_object']\n",
    "chain_pivot_table"
   ]
  },
  {
   "cell_type": "code",
   "execution_count": 14,
   "metadata": {},
   "outputs": [
    {
     "data": {
      "text/html": [
       "<div>\n",
       "<style scoped>\n",
       "    .dataframe tbody tr th:only-of-type {\n",
       "        vertical-align: middle;\n",
       "    }\n",
       "\n",
       "    .dataframe tbody tr th {\n",
       "        vertical-align: top;\n",
       "    }\n",
       "\n",
       "    .dataframe thead th {\n",
       "        text-align: right;\n",
       "    }\n",
       "</style>\n",
       "<table border=\"1\" class=\"dataframe\">\n",
       "  <thead>\n",
       "    <tr style=\"text-align: right;\">\n",
       "      <th></th>\n",
       "      <th>chain</th>\n",
       "      <th>number_of_object</th>\n",
       "      <th>ratio</th>\n",
       "    </tr>\n",
       "  </thead>\n",
       "  <tbody>\n",
       "    <tr>\n",
       "      <th>0</th>\n",
       "      <td>Несетевое</td>\n",
       "      <td>12398</td>\n",
       "      <td>80.68</td>\n",
       "    </tr>\n",
       "    <tr>\n",
       "      <th>1</th>\n",
       "      <td>Сетевое</td>\n",
       "      <td>2968</td>\n",
       "      <td>19.32</td>\n",
       "    </tr>\n",
       "  </tbody>\n",
       "</table>\n",
       "</div>"
      ],
      "text/plain": [
       "       chain  number_of_object  ratio\n",
       "0  Несетевое             12398  80.68\n",
       "1    Сетевое              2968  19.32"
      ]
     },
     "execution_count": 14,
     "metadata": {},
     "output_type": "execute_result"
    }
   ],
   "source": [
    "chain_pivot_table['ratio'] = round(chain_pivot_table['number_of_object'] / chain_pivot_table['number_of_object'].sum() * 100, 2)\n",
    "chain_pivot_table"
   ]
  },
  {
   "cell_type": "code",
   "execution_count": 15,
   "metadata": {},
   "outputs": [
    {
     "data": {
      "application/vnd.plotly.v1+json": {
       "config": {
        "plotlyServerURL": "https://plot.ly"
       },
       "data": [
        {
         "labels": [
          "Несетевое",
          "Сетевое"
         ],
         "textinfo": "label+percent",
         "type": "pie",
         "values": [
          80.68,
          19.32
         ]
        }
       ],
       "layout": {
        "template": {
         "data": {
          "bar": [
           {
            "error_x": {
             "color": "#2a3f5f"
            },
            "error_y": {
             "color": "#2a3f5f"
            },
            "marker": {
             "line": {
              "color": "#E5ECF6",
              "width": 0.5
             },
             "pattern": {
              "fillmode": "overlay",
              "size": 10,
              "solidity": 0.2
             }
            },
            "type": "bar"
           }
          ],
          "barpolar": [
           {
            "marker": {
             "line": {
              "color": "#E5ECF6",
              "width": 0.5
             },
             "pattern": {
              "fillmode": "overlay",
              "size": 10,
              "solidity": 0.2
             }
            },
            "type": "barpolar"
           }
          ],
          "carpet": [
           {
            "aaxis": {
             "endlinecolor": "#2a3f5f",
             "gridcolor": "white",
             "linecolor": "white",
             "minorgridcolor": "white",
             "startlinecolor": "#2a3f5f"
            },
            "baxis": {
             "endlinecolor": "#2a3f5f",
             "gridcolor": "white",
             "linecolor": "white",
             "minorgridcolor": "white",
             "startlinecolor": "#2a3f5f"
            },
            "type": "carpet"
           }
          ],
          "choropleth": [
           {
            "colorbar": {
             "outlinewidth": 0,
             "ticks": ""
            },
            "type": "choropleth"
           }
          ],
          "contour": [
           {
            "colorbar": {
             "outlinewidth": 0,
             "ticks": ""
            },
            "colorscale": [
             [
              0,
              "#0d0887"
             ],
             [
              0.1111111111111111,
              "#46039f"
             ],
             [
              0.2222222222222222,
              "#7201a8"
             ],
             [
              0.3333333333333333,
              "#9c179e"
             ],
             [
              0.4444444444444444,
              "#bd3786"
             ],
             [
              0.5555555555555556,
              "#d8576b"
             ],
             [
              0.6666666666666666,
              "#ed7953"
             ],
             [
              0.7777777777777778,
              "#fb9f3a"
             ],
             [
              0.8888888888888888,
              "#fdca26"
             ],
             [
              1,
              "#f0f921"
             ]
            ],
            "type": "contour"
           }
          ],
          "contourcarpet": [
           {
            "colorbar": {
             "outlinewidth": 0,
             "ticks": ""
            },
            "type": "contourcarpet"
           }
          ],
          "heatmap": [
           {
            "colorbar": {
             "outlinewidth": 0,
             "ticks": ""
            },
            "colorscale": [
             [
              0,
              "#0d0887"
             ],
             [
              0.1111111111111111,
              "#46039f"
             ],
             [
              0.2222222222222222,
              "#7201a8"
             ],
             [
              0.3333333333333333,
              "#9c179e"
             ],
             [
              0.4444444444444444,
              "#bd3786"
             ],
             [
              0.5555555555555556,
              "#d8576b"
             ],
             [
              0.6666666666666666,
              "#ed7953"
             ],
             [
              0.7777777777777778,
              "#fb9f3a"
             ],
             [
              0.8888888888888888,
              "#fdca26"
             ],
             [
              1,
              "#f0f921"
             ]
            ],
            "type": "heatmap"
           }
          ],
          "heatmapgl": [
           {
            "colorbar": {
             "outlinewidth": 0,
             "ticks": ""
            },
            "colorscale": [
             [
              0,
              "#0d0887"
             ],
             [
              0.1111111111111111,
              "#46039f"
             ],
             [
              0.2222222222222222,
              "#7201a8"
             ],
             [
              0.3333333333333333,
              "#9c179e"
             ],
             [
              0.4444444444444444,
              "#bd3786"
             ],
             [
              0.5555555555555556,
              "#d8576b"
             ],
             [
              0.6666666666666666,
              "#ed7953"
             ],
             [
              0.7777777777777778,
              "#fb9f3a"
             ],
             [
              0.8888888888888888,
              "#fdca26"
             ],
             [
              1,
              "#f0f921"
             ]
            ],
            "type": "heatmapgl"
           }
          ],
          "histogram": [
           {
            "marker": {
             "pattern": {
              "fillmode": "overlay",
              "size": 10,
              "solidity": 0.2
             }
            },
            "type": "histogram"
           }
          ],
          "histogram2d": [
           {
            "colorbar": {
             "outlinewidth": 0,
             "ticks": ""
            },
            "colorscale": [
             [
              0,
              "#0d0887"
             ],
             [
              0.1111111111111111,
              "#46039f"
             ],
             [
              0.2222222222222222,
              "#7201a8"
             ],
             [
              0.3333333333333333,
              "#9c179e"
             ],
             [
              0.4444444444444444,
              "#bd3786"
             ],
             [
              0.5555555555555556,
              "#d8576b"
             ],
             [
              0.6666666666666666,
              "#ed7953"
             ],
             [
              0.7777777777777778,
              "#fb9f3a"
             ],
             [
              0.8888888888888888,
              "#fdca26"
             ],
             [
              1,
              "#f0f921"
             ]
            ],
            "type": "histogram2d"
           }
          ],
          "histogram2dcontour": [
           {
            "colorbar": {
             "outlinewidth": 0,
             "ticks": ""
            },
            "colorscale": [
             [
              0,
              "#0d0887"
             ],
             [
              0.1111111111111111,
              "#46039f"
             ],
             [
              0.2222222222222222,
              "#7201a8"
             ],
             [
              0.3333333333333333,
              "#9c179e"
             ],
             [
              0.4444444444444444,
              "#bd3786"
             ],
             [
              0.5555555555555556,
              "#d8576b"
             ],
             [
              0.6666666666666666,
              "#ed7953"
             ],
             [
              0.7777777777777778,
              "#fb9f3a"
             ],
             [
              0.8888888888888888,
              "#fdca26"
             ],
             [
              1,
              "#f0f921"
             ]
            ],
            "type": "histogram2dcontour"
           }
          ],
          "mesh3d": [
           {
            "colorbar": {
             "outlinewidth": 0,
             "ticks": ""
            },
            "type": "mesh3d"
           }
          ],
          "parcoords": [
           {
            "line": {
             "colorbar": {
              "outlinewidth": 0,
              "ticks": ""
             }
            },
            "type": "parcoords"
           }
          ],
          "pie": [
           {
            "automargin": true,
            "type": "pie"
           }
          ],
          "scatter": [
           {
            "marker": {
             "colorbar": {
              "outlinewidth": 0,
              "ticks": ""
             }
            },
            "type": "scatter"
           }
          ],
          "scatter3d": [
           {
            "line": {
             "colorbar": {
              "outlinewidth": 0,
              "ticks": ""
             }
            },
            "marker": {
             "colorbar": {
              "outlinewidth": 0,
              "ticks": ""
             }
            },
            "type": "scatter3d"
           }
          ],
          "scattercarpet": [
           {
            "marker": {
             "colorbar": {
              "outlinewidth": 0,
              "ticks": ""
             }
            },
            "type": "scattercarpet"
           }
          ],
          "scattergeo": [
           {
            "marker": {
             "colorbar": {
              "outlinewidth": 0,
              "ticks": ""
             }
            },
            "type": "scattergeo"
           }
          ],
          "scattergl": [
           {
            "marker": {
             "colorbar": {
              "outlinewidth": 0,
              "ticks": ""
             }
            },
            "type": "scattergl"
           }
          ],
          "scattermapbox": [
           {
            "marker": {
             "colorbar": {
              "outlinewidth": 0,
              "ticks": ""
             }
            },
            "type": "scattermapbox"
           }
          ],
          "scatterpolar": [
           {
            "marker": {
             "colorbar": {
              "outlinewidth": 0,
              "ticks": ""
             }
            },
            "type": "scatterpolar"
           }
          ],
          "scatterpolargl": [
           {
            "marker": {
             "colorbar": {
              "outlinewidth": 0,
              "ticks": ""
             }
            },
            "type": "scatterpolargl"
           }
          ],
          "scatterternary": [
           {
            "marker": {
             "colorbar": {
              "outlinewidth": 0,
              "ticks": ""
             }
            },
            "type": "scatterternary"
           }
          ],
          "surface": [
           {
            "colorbar": {
             "outlinewidth": 0,
             "ticks": ""
            },
            "colorscale": [
             [
              0,
              "#0d0887"
             ],
             [
              0.1111111111111111,
              "#46039f"
             ],
             [
              0.2222222222222222,
              "#7201a8"
             ],
             [
              0.3333333333333333,
              "#9c179e"
             ],
             [
              0.4444444444444444,
              "#bd3786"
             ],
             [
              0.5555555555555556,
              "#d8576b"
             ],
             [
              0.6666666666666666,
              "#ed7953"
             ],
             [
              0.7777777777777778,
              "#fb9f3a"
             ],
             [
              0.8888888888888888,
              "#fdca26"
             ],
             [
              1,
              "#f0f921"
             ]
            ],
            "type": "surface"
           }
          ],
          "table": [
           {
            "cells": {
             "fill": {
              "color": "#EBF0F8"
             },
             "line": {
              "color": "white"
             }
            },
            "header": {
             "fill": {
              "color": "#C8D4E3"
             },
             "line": {
              "color": "white"
             }
            },
            "type": "table"
           }
          ]
         },
         "layout": {
          "annotationdefaults": {
           "arrowcolor": "#2a3f5f",
           "arrowhead": 0,
           "arrowwidth": 1
          },
          "autotypenumbers": "strict",
          "coloraxis": {
           "colorbar": {
            "outlinewidth": 0,
            "ticks": ""
           }
          },
          "colorscale": {
           "diverging": [
            [
             0,
             "#8e0152"
            ],
            [
             0.1,
             "#c51b7d"
            ],
            [
             0.2,
             "#de77ae"
            ],
            [
             0.3,
             "#f1b6da"
            ],
            [
             0.4,
             "#fde0ef"
            ],
            [
             0.5,
             "#f7f7f7"
            ],
            [
             0.6,
             "#e6f5d0"
            ],
            [
             0.7,
             "#b8e186"
            ],
            [
             0.8,
             "#7fbc41"
            ],
            [
             0.9,
             "#4d9221"
            ],
            [
             1,
             "#276419"
            ]
           ],
           "sequential": [
            [
             0,
             "#0d0887"
            ],
            [
             0.1111111111111111,
             "#46039f"
            ],
            [
             0.2222222222222222,
             "#7201a8"
            ],
            [
             0.3333333333333333,
             "#9c179e"
            ],
            [
             0.4444444444444444,
             "#bd3786"
            ],
            [
             0.5555555555555556,
             "#d8576b"
            ],
            [
             0.6666666666666666,
             "#ed7953"
            ],
            [
             0.7777777777777778,
             "#fb9f3a"
            ],
            [
             0.8888888888888888,
             "#fdca26"
            ],
            [
             1,
             "#f0f921"
            ]
           ],
           "sequentialminus": [
            [
             0,
             "#0d0887"
            ],
            [
             0.1111111111111111,
             "#46039f"
            ],
            [
             0.2222222222222222,
             "#7201a8"
            ],
            [
             0.3333333333333333,
             "#9c179e"
            ],
            [
             0.4444444444444444,
             "#bd3786"
            ],
            [
             0.5555555555555556,
             "#d8576b"
            ],
            [
             0.6666666666666666,
             "#ed7953"
            ],
            [
             0.7777777777777778,
             "#fb9f3a"
            ],
            [
             0.8888888888888888,
             "#fdca26"
            ],
            [
             1,
             "#f0f921"
            ]
           ]
          },
          "colorway": [
           "#636efa",
           "#EF553B",
           "#00cc96",
           "#ab63fa",
           "#FFA15A",
           "#19d3f3",
           "#FF6692",
           "#B6E880",
           "#FF97FF",
           "#FECB52"
          ],
          "font": {
           "color": "#2a3f5f"
          },
          "geo": {
           "bgcolor": "white",
           "lakecolor": "white",
           "landcolor": "#E5ECF6",
           "showlakes": true,
           "showland": true,
           "subunitcolor": "white"
          },
          "hoverlabel": {
           "align": "left"
          },
          "hovermode": "closest",
          "mapbox": {
           "style": "light"
          },
          "paper_bgcolor": "white",
          "plot_bgcolor": "#E5ECF6",
          "polar": {
           "angularaxis": {
            "gridcolor": "white",
            "linecolor": "white",
            "ticks": ""
           },
           "bgcolor": "#E5ECF6",
           "radialaxis": {
            "gridcolor": "white",
            "linecolor": "white",
            "ticks": ""
           }
          },
          "scene": {
           "xaxis": {
            "backgroundcolor": "#E5ECF6",
            "gridcolor": "white",
            "gridwidth": 2,
            "linecolor": "white",
            "showbackground": true,
            "ticks": "",
            "zerolinecolor": "white"
           },
           "yaxis": {
            "backgroundcolor": "#E5ECF6",
            "gridcolor": "white",
            "gridwidth": 2,
            "linecolor": "white",
            "showbackground": true,
            "ticks": "",
            "zerolinecolor": "white"
           },
           "zaxis": {
            "backgroundcolor": "#E5ECF6",
            "gridcolor": "white",
            "gridwidth": 2,
            "linecolor": "white",
            "showbackground": true,
            "ticks": "",
            "zerolinecolor": "white"
           }
          },
          "shapedefaults": {
           "line": {
            "color": "#2a3f5f"
           }
          },
          "ternary": {
           "aaxis": {
            "gridcolor": "white",
            "linecolor": "white",
            "ticks": ""
           },
           "baxis": {
            "gridcolor": "white",
            "linecolor": "white",
            "ticks": ""
           },
           "bgcolor": "#E5ECF6",
           "caxis": {
            "gridcolor": "white",
            "linecolor": "white",
            "ticks": ""
           }
          },
          "title": {
           "x": 0.05
          },
          "xaxis": {
           "automargin": true,
           "gridcolor": "white",
           "linecolor": "white",
           "ticks": "",
           "title": {
            "standoff": 15
           },
           "zerolinecolor": "white",
           "zerolinewidth": 2
          },
          "yaxis": {
           "automargin": true,
           "gridcolor": "white",
           "linecolor": "white",
           "ticks": "",
           "title": {
            "standoff": 15
           },
           "zerolinecolor": "white",
           "zerolinewidth": 2
          }
         }
        },
        "title": {
         "text": "The ratio of chain and non-chain establishments"
        }
       }
      }
     },
     "metadata": {},
     "output_type": "display_data"
    }
   ],
   "source": [
    "fig = (go\n",
    "       .Figure(\n",
    "           data=[go.Pie(\n",
    "               labels=chain_pivot_table['chain'], \n",
    "               values=chain_pivot_table['ratio'],  \n",
    "               textinfo='label+percent')]\n",
    "       )\n",
    "      )\n",
    "\n",
    "fig.update(layout_title_text='The ratio of chain and non-chain establishments')\n",
    "fig.show()"
   ]
  },
  {
   "cell_type": "markdown",
   "metadata": {},
   "source": [
    "The number of chain and non-chain establishments was distributed in the ratio of 19.3% for chain establishments, versus 80.7% for non-chain establishments. The Pareto principle has practically been preserved."
   ]
  },
  {
   "cell_type": "code",
   "execution_count": 16,
   "metadata": {},
   "outputs": [],
   "source": [
    "chain_object_pivot_table = rest_data.groupby(by=['object_type', 'chain']).count().reset_index()\n",
    "chain_object_pivot_table.drop(chain_object_pivot_table.columns[[3, 4, 5]], axis = 1, inplace = True)\n",
    "chain_object_pivot_table.columns = ['object_type', 'chain', 'number_of_object']\n",
    "chain_object_pivot_table\n",
    "\n",
    "pd.options.mode.chained_assignment = None"
   ]
  },
  {
   "cell_type": "code",
   "execution_count": 17,
   "metadata": {},
   "outputs": [
    {
     "data": {
      "text/html": [
       "<div>\n",
       "<style scoped>\n",
       "    .dataframe tbody tr th:only-of-type {\n",
       "        vertical-align: middle;\n",
       "    }\n",
       "\n",
       "    .dataframe tbody tr th {\n",
       "        vertical-align: top;\n",
       "    }\n",
       "\n",
       "    .dataframe thead th {\n",
       "        text-align: right;\n",
       "    }\n",
       "</style>\n",
       "<table border=\"1\" class=\"dataframe\">\n",
       "  <thead>\n",
       "    <tr style=\"text-align: right;\">\n",
       "      <th></th>\n",
       "      <th>object_type</th>\n",
       "      <th>chain</th>\n",
       "      <th>number_of_object</th>\n",
       "      <th>ratio</th>\n",
       "    </tr>\n",
       "  </thead>\n",
       "  <tbody>\n",
       "    <tr>\n",
       "      <th>1</th>\n",
       "      <td>бар</td>\n",
       "      <td>Сетевое</td>\n",
       "      <td>37</td>\n",
       "      <td>0.24</td>\n",
       "    </tr>\n",
       "    <tr>\n",
       "      <th>3</th>\n",
       "      <td>буфет</td>\n",
       "      <td>Сетевое</td>\n",
       "      <td>11</td>\n",
       "      <td>0.07</td>\n",
       "    </tr>\n",
       "    <tr>\n",
       "      <th>5</th>\n",
       "      <td>закусочная</td>\n",
       "      <td>Сетевое</td>\n",
       "      <td>56</td>\n",
       "      <td>0.36</td>\n",
       "    </tr>\n",
       "    <tr>\n",
       "      <th>7</th>\n",
       "      <td>кафе</td>\n",
       "      <td>Сетевое</td>\n",
       "      <td>1396</td>\n",
       "      <td>9.08</td>\n",
       "    </tr>\n",
       "    <tr>\n",
       "      <th>9</th>\n",
       "      <td>кафетерий</td>\n",
       "      <td>Сетевое</td>\n",
       "      <td>52</td>\n",
       "      <td>0.34</td>\n",
       "    </tr>\n",
       "    <tr>\n",
       "      <th>11</th>\n",
       "      <td>магазин (отдел кулинарии)</td>\n",
       "      <td>Сетевое</td>\n",
       "      <td>78</td>\n",
       "      <td>0.51</td>\n",
       "    </tr>\n",
       "    <tr>\n",
       "      <th>13</th>\n",
       "      <td>предприятие быстрого обслуживания</td>\n",
       "      <td>Сетевое</td>\n",
       "      <td>791</td>\n",
       "      <td>5.15</td>\n",
       "    </tr>\n",
       "    <tr>\n",
       "      <th>15</th>\n",
       "      <td>ресторан</td>\n",
       "      <td>Сетевое</td>\n",
       "      <td>544</td>\n",
       "      <td>3.54</td>\n",
       "    </tr>\n",
       "    <tr>\n",
       "      <th>17</th>\n",
       "      <td>столовая</td>\n",
       "      <td>Сетевое</td>\n",
       "      <td>3</td>\n",
       "      <td>0.02</td>\n",
       "    </tr>\n",
       "  </tbody>\n",
       "</table>\n",
       "</div>"
      ],
      "text/plain": [
       "                          object_type    chain  number_of_object  ratio\n",
       "1                                 бар  Сетевое                37   0.24\n",
       "3                               буфет  Сетевое                11   0.07\n",
       "5                          закусочная  Сетевое                56   0.36\n",
       "7                                кафе  Сетевое              1396   9.08\n",
       "9                           кафетерий  Сетевое                52   0.34\n",
       "11          магазин (отдел кулинарии)  Сетевое                78   0.51\n",
       "13  предприятие быстрого обслуживания  Сетевое               791   5.15\n",
       "15                           ресторан  Сетевое               544   3.54\n",
       "17                           столовая  Сетевое                 3   0.02"
      ]
     },
     "execution_count": 17,
     "metadata": {},
     "output_type": "execute_result"
    }
   ],
   "source": [
    "chain_ratio = chain_object_pivot_table.query('chain == \"Сетевое\"')\n",
    "chain_sum = chain_object_pivot_table['number_of_object'].sum()\n",
    "chain_ratio['ratio'] = round(chain_ratio['number_of_object'] / chain_sum * 100, 2)\n",
    "chain_ratio"
   ]
  },
  {
   "cell_type": "code",
   "execution_count": 18,
   "metadata": {},
   "outputs": [
    {
     "data": {
      "application/vnd.plotly.v1+json": {
       "config": {
        "plotlyServerURL": "https://plot.ly"
       },
       "data": [
        {
         "alignmentgroup": "True",
         "hovertemplate": "chain=Несетевое<br>Object type=%{x}<br>Number of objects, pcs=%{y}<extra></extra>",
         "legendgroup": "Несетевое",
         "marker": {
          "color": "#636efa",
          "pattern": {
           "shape": ""
          }
         },
         "name": "Несетевое",
         "offsetgroup": "Несетевое",
         "orientation": "v",
         "showlegend": true,
         "textposition": "auto",
         "type": "bar",
         "x": [
          "бар",
          "буфет",
          "закусочная",
          "кафе",
          "кафетерий",
          "магазин (отдел кулинарии)",
          "предприятие быстрого обслуживания",
          "ресторан",
          "столовая"
         ],
         "xaxis": "x",
         "y": [
          819,
          574,
          304,
          4703,
          346,
          195,
          1132,
          1741,
          2584
         ],
         "yaxis": "y"
        },
        {
         "alignmentgroup": "True",
         "hovertemplate": "chain=Сетевое<br>Object type=%{x}<br>Number of objects, pcs=%{y}<extra></extra>",
         "legendgroup": "Сетевое",
         "marker": {
          "color": "#EF553B",
          "pattern": {
           "shape": ""
          }
         },
         "name": "Сетевое",
         "offsetgroup": "Сетевое",
         "orientation": "v",
         "showlegend": true,
         "textposition": "auto",
         "type": "bar",
         "x": [
          "бар",
          "буфет",
          "закусочная",
          "кафе",
          "кафетерий",
          "магазин (отдел кулинарии)",
          "предприятие быстрого обслуживания",
          "ресторан",
          "столовая"
         ],
         "xaxis": "x",
         "y": [
          37,
          11,
          56,
          1396,
          52,
          78,
          791,
          544,
          3
         ],
         "yaxis": "y"
        }
       ],
       "layout": {
        "barmode": "relative",
        "legend": {
         "title": {
          "text": "chain"
         },
         "tracegroupgap": 0
        },
        "template": {
         "data": {
          "bar": [
           {
            "error_x": {
             "color": "#2a3f5f"
            },
            "error_y": {
             "color": "#2a3f5f"
            },
            "marker": {
             "line": {
              "color": "#E5ECF6",
              "width": 0.5
             },
             "pattern": {
              "fillmode": "overlay",
              "size": 10,
              "solidity": 0.2
             }
            },
            "type": "bar"
           }
          ],
          "barpolar": [
           {
            "marker": {
             "line": {
              "color": "#E5ECF6",
              "width": 0.5
             },
             "pattern": {
              "fillmode": "overlay",
              "size": 10,
              "solidity": 0.2
             }
            },
            "type": "barpolar"
           }
          ],
          "carpet": [
           {
            "aaxis": {
             "endlinecolor": "#2a3f5f",
             "gridcolor": "white",
             "linecolor": "white",
             "minorgridcolor": "white",
             "startlinecolor": "#2a3f5f"
            },
            "baxis": {
             "endlinecolor": "#2a3f5f",
             "gridcolor": "white",
             "linecolor": "white",
             "minorgridcolor": "white",
             "startlinecolor": "#2a3f5f"
            },
            "type": "carpet"
           }
          ],
          "choropleth": [
           {
            "colorbar": {
             "outlinewidth": 0,
             "ticks": ""
            },
            "type": "choropleth"
           }
          ],
          "contour": [
           {
            "colorbar": {
             "outlinewidth": 0,
             "ticks": ""
            },
            "colorscale": [
             [
              0,
              "#0d0887"
             ],
             [
              0.1111111111111111,
              "#46039f"
             ],
             [
              0.2222222222222222,
              "#7201a8"
             ],
             [
              0.3333333333333333,
              "#9c179e"
             ],
             [
              0.4444444444444444,
              "#bd3786"
             ],
             [
              0.5555555555555556,
              "#d8576b"
             ],
             [
              0.6666666666666666,
              "#ed7953"
             ],
             [
              0.7777777777777778,
              "#fb9f3a"
             ],
             [
              0.8888888888888888,
              "#fdca26"
             ],
             [
              1,
              "#f0f921"
             ]
            ],
            "type": "contour"
           }
          ],
          "contourcarpet": [
           {
            "colorbar": {
             "outlinewidth": 0,
             "ticks": ""
            },
            "type": "contourcarpet"
           }
          ],
          "heatmap": [
           {
            "colorbar": {
             "outlinewidth": 0,
             "ticks": ""
            },
            "colorscale": [
             [
              0,
              "#0d0887"
             ],
             [
              0.1111111111111111,
              "#46039f"
             ],
             [
              0.2222222222222222,
              "#7201a8"
             ],
             [
              0.3333333333333333,
              "#9c179e"
             ],
             [
              0.4444444444444444,
              "#bd3786"
             ],
             [
              0.5555555555555556,
              "#d8576b"
             ],
             [
              0.6666666666666666,
              "#ed7953"
             ],
             [
              0.7777777777777778,
              "#fb9f3a"
             ],
             [
              0.8888888888888888,
              "#fdca26"
             ],
             [
              1,
              "#f0f921"
             ]
            ],
            "type": "heatmap"
           }
          ],
          "heatmapgl": [
           {
            "colorbar": {
             "outlinewidth": 0,
             "ticks": ""
            },
            "colorscale": [
             [
              0,
              "#0d0887"
             ],
             [
              0.1111111111111111,
              "#46039f"
             ],
             [
              0.2222222222222222,
              "#7201a8"
             ],
             [
              0.3333333333333333,
              "#9c179e"
             ],
             [
              0.4444444444444444,
              "#bd3786"
             ],
             [
              0.5555555555555556,
              "#d8576b"
             ],
             [
              0.6666666666666666,
              "#ed7953"
             ],
             [
              0.7777777777777778,
              "#fb9f3a"
             ],
             [
              0.8888888888888888,
              "#fdca26"
             ],
             [
              1,
              "#f0f921"
             ]
            ],
            "type": "heatmapgl"
           }
          ],
          "histogram": [
           {
            "marker": {
             "pattern": {
              "fillmode": "overlay",
              "size": 10,
              "solidity": 0.2
             }
            },
            "type": "histogram"
           }
          ],
          "histogram2d": [
           {
            "colorbar": {
             "outlinewidth": 0,
             "ticks": ""
            },
            "colorscale": [
             [
              0,
              "#0d0887"
             ],
             [
              0.1111111111111111,
              "#46039f"
             ],
             [
              0.2222222222222222,
              "#7201a8"
             ],
             [
              0.3333333333333333,
              "#9c179e"
             ],
             [
              0.4444444444444444,
              "#bd3786"
             ],
             [
              0.5555555555555556,
              "#d8576b"
             ],
             [
              0.6666666666666666,
              "#ed7953"
             ],
             [
              0.7777777777777778,
              "#fb9f3a"
             ],
             [
              0.8888888888888888,
              "#fdca26"
             ],
             [
              1,
              "#f0f921"
             ]
            ],
            "type": "histogram2d"
           }
          ],
          "histogram2dcontour": [
           {
            "colorbar": {
             "outlinewidth": 0,
             "ticks": ""
            },
            "colorscale": [
             [
              0,
              "#0d0887"
             ],
             [
              0.1111111111111111,
              "#46039f"
             ],
             [
              0.2222222222222222,
              "#7201a8"
             ],
             [
              0.3333333333333333,
              "#9c179e"
             ],
             [
              0.4444444444444444,
              "#bd3786"
             ],
             [
              0.5555555555555556,
              "#d8576b"
             ],
             [
              0.6666666666666666,
              "#ed7953"
             ],
             [
              0.7777777777777778,
              "#fb9f3a"
             ],
             [
              0.8888888888888888,
              "#fdca26"
             ],
             [
              1,
              "#f0f921"
             ]
            ],
            "type": "histogram2dcontour"
           }
          ],
          "mesh3d": [
           {
            "colorbar": {
             "outlinewidth": 0,
             "ticks": ""
            },
            "type": "mesh3d"
           }
          ],
          "parcoords": [
           {
            "line": {
             "colorbar": {
              "outlinewidth": 0,
              "ticks": ""
             }
            },
            "type": "parcoords"
           }
          ],
          "pie": [
           {
            "automargin": true,
            "type": "pie"
           }
          ],
          "scatter": [
           {
            "marker": {
             "colorbar": {
              "outlinewidth": 0,
              "ticks": ""
             }
            },
            "type": "scatter"
           }
          ],
          "scatter3d": [
           {
            "line": {
             "colorbar": {
              "outlinewidth": 0,
              "ticks": ""
             }
            },
            "marker": {
             "colorbar": {
              "outlinewidth": 0,
              "ticks": ""
             }
            },
            "type": "scatter3d"
           }
          ],
          "scattercarpet": [
           {
            "marker": {
             "colorbar": {
              "outlinewidth": 0,
              "ticks": ""
             }
            },
            "type": "scattercarpet"
           }
          ],
          "scattergeo": [
           {
            "marker": {
             "colorbar": {
              "outlinewidth": 0,
              "ticks": ""
             }
            },
            "type": "scattergeo"
           }
          ],
          "scattergl": [
           {
            "marker": {
             "colorbar": {
              "outlinewidth": 0,
              "ticks": ""
             }
            },
            "type": "scattergl"
           }
          ],
          "scattermapbox": [
           {
            "marker": {
             "colorbar": {
              "outlinewidth": 0,
              "ticks": ""
             }
            },
            "type": "scattermapbox"
           }
          ],
          "scatterpolar": [
           {
            "marker": {
             "colorbar": {
              "outlinewidth": 0,
              "ticks": ""
             }
            },
            "type": "scatterpolar"
           }
          ],
          "scatterpolargl": [
           {
            "marker": {
             "colorbar": {
              "outlinewidth": 0,
              "ticks": ""
             }
            },
            "type": "scatterpolargl"
           }
          ],
          "scatterternary": [
           {
            "marker": {
             "colorbar": {
              "outlinewidth": 0,
              "ticks": ""
             }
            },
            "type": "scatterternary"
           }
          ],
          "surface": [
           {
            "colorbar": {
             "outlinewidth": 0,
             "ticks": ""
            },
            "colorscale": [
             [
              0,
              "#0d0887"
             ],
             [
              0.1111111111111111,
              "#46039f"
             ],
             [
              0.2222222222222222,
              "#7201a8"
             ],
             [
              0.3333333333333333,
              "#9c179e"
             ],
             [
              0.4444444444444444,
              "#bd3786"
             ],
             [
              0.5555555555555556,
              "#d8576b"
             ],
             [
              0.6666666666666666,
              "#ed7953"
             ],
             [
              0.7777777777777778,
              "#fb9f3a"
             ],
             [
              0.8888888888888888,
              "#fdca26"
             ],
             [
              1,
              "#f0f921"
             ]
            ],
            "type": "surface"
           }
          ],
          "table": [
           {
            "cells": {
             "fill": {
              "color": "#EBF0F8"
             },
             "line": {
              "color": "white"
             }
            },
            "header": {
             "fill": {
              "color": "#C8D4E3"
             },
             "line": {
              "color": "white"
             }
            },
            "type": "table"
           }
          ]
         },
         "layout": {
          "annotationdefaults": {
           "arrowcolor": "#2a3f5f",
           "arrowhead": 0,
           "arrowwidth": 1
          },
          "autotypenumbers": "strict",
          "coloraxis": {
           "colorbar": {
            "outlinewidth": 0,
            "ticks": ""
           }
          },
          "colorscale": {
           "diverging": [
            [
             0,
             "#8e0152"
            ],
            [
             0.1,
             "#c51b7d"
            ],
            [
             0.2,
             "#de77ae"
            ],
            [
             0.3,
             "#f1b6da"
            ],
            [
             0.4,
             "#fde0ef"
            ],
            [
             0.5,
             "#f7f7f7"
            ],
            [
             0.6,
             "#e6f5d0"
            ],
            [
             0.7,
             "#b8e186"
            ],
            [
             0.8,
             "#7fbc41"
            ],
            [
             0.9,
             "#4d9221"
            ],
            [
             1,
             "#276419"
            ]
           ],
           "sequential": [
            [
             0,
             "#0d0887"
            ],
            [
             0.1111111111111111,
             "#46039f"
            ],
            [
             0.2222222222222222,
             "#7201a8"
            ],
            [
             0.3333333333333333,
             "#9c179e"
            ],
            [
             0.4444444444444444,
             "#bd3786"
            ],
            [
             0.5555555555555556,
             "#d8576b"
            ],
            [
             0.6666666666666666,
             "#ed7953"
            ],
            [
             0.7777777777777778,
             "#fb9f3a"
            ],
            [
             0.8888888888888888,
             "#fdca26"
            ],
            [
             1,
             "#f0f921"
            ]
           ],
           "sequentialminus": [
            [
             0,
             "#0d0887"
            ],
            [
             0.1111111111111111,
             "#46039f"
            ],
            [
             0.2222222222222222,
             "#7201a8"
            ],
            [
             0.3333333333333333,
             "#9c179e"
            ],
            [
             0.4444444444444444,
             "#bd3786"
            ],
            [
             0.5555555555555556,
             "#d8576b"
            ],
            [
             0.6666666666666666,
             "#ed7953"
            ],
            [
             0.7777777777777778,
             "#fb9f3a"
            ],
            [
             0.8888888888888888,
             "#fdca26"
            ],
            [
             1,
             "#f0f921"
            ]
           ]
          },
          "colorway": [
           "#636efa",
           "#EF553B",
           "#00cc96",
           "#ab63fa",
           "#FFA15A",
           "#19d3f3",
           "#FF6692",
           "#B6E880",
           "#FF97FF",
           "#FECB52"
          ],
          "font": {
           "color": "#2a3f5f"
          },
          "geo": {
           "bgcolor": "white",
           "lakecolor": "white",
           "landcolor": "#E5ECF6",
           "showlakes": true,
           "showland": true,
           "subunitcolor": "white"
          },
          "hoverlabel": {
           "align": "left"
          },
          "hovermode": "closest",
          "mapbox": {
           "style": "light"
          },
          "paper_bgcolor": "white",
          "plot_bgcolor": "#E5ECF6",
          "polar": {
           "angularaxis": {
            "gridcolor": "white",
            "linecolor": "white",
            "ticks": ""
           },
           "bgcolor": "#E5ECF6",
           "radialaxis": {
            "gridcolor": "white",
            "linecolor": "white",
            "ticks": ""
           }
          },
          "scene": {
           "xaxis": {
            "backgroundcolor": "#E5ECF6",
            "gridcolor": "white",
            "gridwidth": 2,
            "linecolor": "white",
            "showbackground": true,
            "ticks": "",
            "zerolinecolor": "white"
           },
           "yaxis": {
            "backgroundcolor": "#E5ECF6",
            "gridcolor": "white",
            "gridwidth": 2,
            "linecolor": "white",
            "showbackground": true,
            "ticks": "",
            "zerolinecolor": "white"
           },
           "zaxis": {
            "backgroundcolor": "#E5ECF6",
            "gridcolor": "white",
            "gridwidth": 2,
            "linecolor": "white",
            "showbackground": true,
            "ticks": "",
            "zerolinecolor": "white"
           }
          },
          "shapedefaults": {
           "line": {
            "color": "#2a3f5f"
           }
          },
          "ternary": {
           "aaxis": {
            "gridcolor": "white",
            "linecolor": "white",
            "ticks": ""
           },
           "baxis": {
            "gridcolor": "white",
            "linecolor": "white",
            "ticks": ""
           },
           "bgcolor": "#E5ECF6",
           "caxis": {
            "gridcolor": "white",
            "linecolor": "white",
            "ticks": ""
           }
          },
          "title": {
           "x": 0.05
          },
          "xaxis": {
           "automargin": true,
           "gridcolor": "white",
           "linecolor": "white",
           "ticks": "",
           "title": {
            "standoff": 15
           },
           "zerolinecolor": "white",
           "zerolinewidth": 2
          },
          "yaxis": {
           "automargin": true,
           "gridcolor": "white",
           "linecolor": "white",
           "ticks": "",
           "title": {
            "standoff": 15
           },
           "zerolinecolor": "white",
           "zerolinewidth": 2
          }
         }
        },
        "title": {
         "text": "Network distribution depending on object type"
        },
        "xaxis": {
         "anchor": "y",
         "domain": [
          0,
          1
         ],
         "tickangle": 45,
         "title": {
          "text": "Object type"
         }
        },
        "yaxis": {
         "anchor": "x",
         "domain": [
          0,
          1
         ],
         "title": {
          "text": "Number of objects, pcs"
         }
        }
       }
      }
     },
     "metadata": {},
     "output_type": "display_data"
    }
   ],
   "source": [
    "fig = px.bar(chain_object_pivot_table, x='object_type', y='number_of_object', color='chain', \n",
    "             labels={\n",
    "                     \"object_type\": \"Object type\",\n",
    "                     \"number_of_object\": \"Number of objects, pcs\"\n",
    "                 },\n",
    "             title='Network distribution depending on object type')\n",
    "fig.update_xaxes(tickangle=45)\n",
    "fig.show()"
   ]
  },
  {
   "cell_type": "markdown",
   "metadata": {},
   "source": [
    "Chain establishments are mainly characteristic of 3 types of public catering establishments - cafes, fast food establishments and restaurants. Chain establishments in the cafe category occupy 9% of the total number of establishments, restaurants occupy 3.5%, and fast food establishments 5.15%.\n",
    "These categories include the most popular restaurant chains. For example, \"Chocolate Girl\", \"Starbucks\", etc."
   ]
  },
  {
   "cell_type": "code",
   "execution_count": 19,
   "metadata": {
    "scrolled": false
   },
   "outputs": [
    {
     "data": {
      "text/html": [
       "<div>\n",
       "<style scoped>\n",
       "    .dataframe tbody tr th:only-of-type {\n",
       "        vertical-align: middle;\n",
       "    }\n",
       "\n",
       "    .dataframe tbody tr th {\n",
       "        vertical-align: top;\n",
       "    }\n",
       "\n",
       "    .dataframe thead th {\n",
       "        text-align: right;\n",
       "    }\n",
       "</style>\n",
       "<table border=\"1\" class=\"dataframe\">\n",
       "  <thead>\n",
       "    <tr style=\"text-align: right;\">\n",
       "      <th></th>\n",
       "      <th>id</th>\n",
       "      <th>object_name</th>\n",
       "      <th>chain</th>\n",
       "      <th>object_type</th>\n",
       "      <th>address</th>\n",
       "      <th>number</th>\n",
       "    </tr>\n",
       "  </thead>\n",
       "  <tbody>\n",
       "    <tr>\n",
       "      <th>3</th>\n",
       "      <td>21894</td>\n",
       "      <td>ПИЦЦЕТОРИЯ</td>\n",
       "      <td>Сетевое</td>\n",
       "      <td>кафе</td>\n",
       "      <td>город Москва, Абрамцевская улица, дом 1</td>\n",
       "      <td>40</td>\n",
       "    </tr>\n",
       "    <tr>\n",
       "      <th>6</th>\n",
       "      <td>148815</td>\n",
       "      <td>Брусника</td>\n",
       "      <td>Сетевое</td>\n",
       "      <td>кафе</td>\n",
       "      <td>город Москва, переулок Сивцев Вражек, дом 6/2</td>\n",
       "      <td>10</td>\n",
       "    </tr>\n",
       "    <tr>\n",
       "      <th>13</th>\n",
       "      <td>22579</td>\n",
       "      <td>Алло Пицца</td>\n",
       "      <td>Сетевое</td>\n",
       "      <td>кафе</td>\n",
       "      <td>город Москва, улица Авиаторов, дом 14</td>\n",
       "      <td>32</td>\n",
       "    </tr>\n",
       "    <tr>\n",
       "      <th>16</th>\n",
       "      <td>144107</td>\n",
       "      <td>Суши Wok</td>\n",
       "      <td>Сетевое</td>\n",
       "      <td>предприятие быстрого обслуживания</td>\n",
       "      <td>город Москва, Азовская улица, дом 3</td>\n",
       "      <td>7</td>\n",
       "    </tr>\n",
       "    <tr>\n",
       "      <th>18</th>\n",
       "      <td>58565</td>\n",
       "      <td>Тануки</td>\n",
       "      <td>Сетевое</td>\n",
       "      <td>ресторан</td>\n",
       "      <td>город Москва, Большая Академическая улица, дом 65</td>\n",
       "      <td>160</td>\n",
       "    </tr>\n",
       "    <tr>\n",
       "      <th>...</th>\n",
       "      <td>...</td>\n",
       "      <td>...</td>\n",
       "      <td>...</td>\n",
       "      <td>...</td>\n",
       "      <td>...</td>\n",
       "      <td>...</td>\n",
       "    </tr>\n",
       "    <tr>\n",
       "      <th>15361</th>\n",
       "      <td>208537</td>\n",
       "      <td>Шоколадница</td>\n",
       "      <td>Сетевое</td>\n",
       "      <td>кафе</td>\n",
       "      <td>город Москва, 3-й Крутицкий переулок, дом 18</td>\n",
       "      <td>50</td>\n",
       "    </tr>\n",
       "    <tr>\n",
       "      <th>15362</th>\n",
       "      <td>209264</td>\n",
       "      <td>Шоколадница</td>\n",
       "      <td>Сетевое</td>\n",
       "      <td>кафе</td>\n",
       "      <td>город Москва, улица Земляной Вал, дом 33</td>\n",
       "      <td>10</td>\n",
       "    </tr>\n",
       "    <tr>\n",
       "      <th>15363</th>\n",
       "      <td>209186</td>\n",
       "      <td>Шоколадница</td>\n",
       "      <td>Сетевое</td>\n",
       "      <td>кафе</td>\n",
       "      <td>город Москва, улица Земляной Вал, дом 33</td>\n",
       "      <td>20</td>\n",
       "    </tr>\n",
       "    <tr>\n",
       "      <th>15364</th>\n",
       "      <td>221900</td>\n",
       "      <td>Шоколадница</td>\n",
       "      <td>Сетевое</td>\n",
       "      <td>кафе</td>\n",
       "      <td>город Москва, поселение Московский, Киевское ш...</td>\n",
       "      <td>36</td>\n",
       "    </tr>\n",
       "    <tr>\n",
       "      <th>15365</th>\n",
       "      <td>222535</td>\n",
       "      <td>Шоколадница</td>\n",
       "      <td>Сетевое</td>\n",
       "      <td>кафе</td>\n",
       "      <td>город Москва, Ходынский бульвар, дом 4</td>\n",
       "      <td>10</td>\n",
       "    </tr>\n",
       "  </tbody>\n",
       "</table>\n",
       "<p>2968 rows × 6 columns</p>\n",
       "</div>"
      ],
      "text/plain": [
       "           id  object_name    chain                        object_type  \\\n",
       "3       21894   ПИЦЦЕТОРИЯ  Сетевое                               кафе   \n",
       "6      148815     Брусника  Сетевое                               кафе   \n",
       "13      22579   Алло Пицца  Сетевое                               кафе   \n",
       "16     144107     Суши Wok  Сетевое  предприятие быстрого обслуживания   \n",
       "18      58565       Тануки  Сетевое                           ресторан   \n",
       "...       ...          ...      ...                                ...   \n",
       "15361  208537  Шоколадница  Сетевое                               кафе   \n",
       "15362  209264  Шоколадница  Сетевое                               кафе   \n",
       "15363  209186  Шоколадница  Сетевое                               кафе   \n",
       "15364  221900  Шоколадница  Сетевое                               кафе   \n",
       "15365  222535  Шоколадница  Сетевое                               кафе   \n",
       "\n",
       "                                                 address  number  \n",
       "3                город Москва, Абрамцевская улица, дом 1      40  \n",
       "6          город Москва, переулок Сивцев Вражек, дом 6/2      10  \n",
       "13                 город Москва, улица Авиаторов, дом 14      32  \n",
       "16                   город Москва, Азовская улица, дом 3       7  \n",
       "18     город Москва, Большая Академическая улица, дом 65     160  \n",
       "...                                                  ...     ...  \n",
       "15361       город Москва, 3-й Крутицкий переулок, дом 18      50  \n",
       "15362           город Москва, улица Земляной Вал, дом 33      10  \n",
       "15363           город Москва, улица Земляной Вал, дом 33      20  \n",
       "15364  город Москва, поселение Московский, Киевское ш...      36  \n",
       "15365             город Москва, Ходынский бульвар, дом 4      10  \n",
       "\n",
       "[2968 rows x 6 columns]"
      ]
     },
     "execution_count": 19,
     "metadata": {},
     "output_type": "execute_result"
    }
   ],
   "source": [
    "chain_rest = rest_data.query('chain == \"Сетевое\"')\n",
    "chain_rest"
   ]
  },
  {
   "cell_type": "code",
   "execution_count": 20,
   "metadata": {},
   "outputs": [
    {
     "data": {
      "text/html": [
       "<div>\n",
       "<style scoped>\n",
       "    .dataframe tbody tr th:only-of-type {\n",
       "        vertical-align: middle;\n",
       "    }\n",
       "\n",
       "    .dataframe tbody tr th {\n",
       "        vertical-align: top;\n",
       "    }\n",
       "\n",
       "    .dataframe thead th {\n",
       "        text-align: right;\n",
       "    }\n",
       "</style>\n",
       "<table border=\"1\" class=\"dataframe\">\n",
       "  <thead>\n",
       "    <tr style=\"text-align: right;\">\n",
       "      <th></th>\n",
       "      <th>mean_number</th>\n",
       "      <th>number_of_object</th>\n",
       "    </tr>\n",
       "    <tr>\n",
       "      <th>object_name</th>\n",
       "      <th></th>\n",
       "      <th></th>\n",
       "    </tr>\n",
       "  </thead>\n",
       "  <tbody>\n",
       "    <tr>\n",
       "      <th>Bocconcino</th>\n",
       "      <td>66.666667</td>\n",
       "      <td>3</td>\n",
       "    </tr>\n",
       "    <tr>\n",
       "      <th>Burger Club</th>\n",
       "      <td>20.333333</td>\n",
       "      <td>3</td>\n",
       "    </tr>\n",
       "    <tr>\n",
       "      <th>COFIX</th>\n",
       "      <td>10.666667</td>\n",
       "      <td>3</td>\n",
       "    </tr>\n",
       "    <tr>\n",
       "      <th>Coffeeshop Company</th>\n",
       "      <td>47.250000</td>\n",
       "      <td>4</td>\n",
       "    </tr>\n",
       "    <tr>\n",
       "      <th>Cofix</th>\n",
       "      <td>9.454545</td>\n",
       "      <td>22</td>\n",
       "    </tr>\n",
       "    <tr>\n",
       "      <th>...</th>\n",
       "      <td>...</td>\n",
       "      <td>...</td>\n",
       "    </tr>\n",
       "    <tr>\n",
       "      <th>Шоколадница</th>\n",
       "      <td>56.170213</td>\n",
       "      <td>141</td>\n",
       "    </tr>\n",
       "    <tr>\n",
       "      <th>Штолле</th>\n",
       "      <td>31.416667</td>\n",
       "      <td>12</td>\n",
       "    </tr>\n",
       "    <tr>\n",
       "      <th>ЯКИТОРИЯ</th>\n",
       "      <td>185.600000</td>\n",
       "      <td>5</td>\n",
       "    </tr>\n",
       "    <tr>\n",
       "      <th>Якитория</th>\n",
       "      <td>106.787879</td>\n",
       "      <td>33</td>\n",
       "    </tr>\n",
       "    <tr>\n",
       "      <th>кафе «Старбакс»</th>\n",
       "      <td>63.500000</td>\n",
       "      <td>2</td>\n",
       "    </tr>\n",
       "  </tbody>\n",
       "</table>\n",
       "<p>274 rows × 2 columns</p>\n",
       "</div>"
      ],
      "text/plain": [
       "                    mean_number  number_of_object\n",
       "object_name                                      \n",
       "Bocconcino            66.666667                 3\n",
       "Burger Club           20.333333                 3\n",
       "COFIX                 10.666667                 3\n",
       "Coffeeshop Company    47.250000                 4\n",
       "Cofix                  9.454545                22\n",
       "...                         ...               ...\n",
       "Шоколадница           56.170213               141\n",
       "Штолле                31.416667                12\n",
       "ЯКИТОРИЯ             185.600000                 5\n",
       "Якитория             106.787879                33\n",
       "кафе «Старбакс»       63.500000                 2\n",
       "\n",
       "[274 rows x 2 columns]"
      ]
     },
     "execution_count": 20,
     "metadata": {},
     "output_type": "execute_result"
    }
   ],
   "source": [
    "chain = chain_rest.groupby(['object_name']).agg({'number':'mean', 'object_name' : 'count'})\n",
    "chain.columns = ['mean_number', 'number_of_object']\n",
    "chain_above_1 = chain.query('number_of_object > 1')\n",
    "chain_above_1"
   ]
  },
  {
   "cell_type": "code",
   "execution_count": 21,
   "metadata": {},
   "outputs": [
    {
     "data": {
      "image/png": "[encoded data removed]",
      "text/plain": [
       "<Figure size 432x432 with 3 Axes>"
      ]
     },
     "metadata": {},
     "output_type": "display_data"
    }
   ],
   "source": [
    "p = sns.jointplot(x='number_of_object', y='mean_number', data=chain_above_1, kind='reg', ylim=(0, 260))\n",
    "p.fig.suptitle(\"Distribution graph of the average number of places to the number of establishments\")\n",
    "plt.show()"
   ]
  },
  {
   "cell_type": "markdown",
   "metadata": {},
   "source": [
    "Based on the graph, we can conclude that establishments are characterized by a small number of establishments with a large number of seats."
   ]
  },
  {
   "cell_type": "code",
   "execution_count": 22,
   "metadata": {},
   "outputs": [
    {
     "data": {
      "text/html": [
       "<div>\n",
       "<style scoped>\n",
       "    .dataframe tbody tr th:only-of-type {\n",
       "        vertical-align: middle;\n",
       "    }\n",
       "\n",
       "    .dataframe tbody tr th {\n",
       "        vertical-align: top;\n",
       "    }\n",
       "\n",
       "    .dataframe thead th {\n",
       "        text-align: right;\n",
       "    }\n",
       "</style>\n",
       "<table border=\"1\" class=\"dataframe\">\n",
       "  <thead>\n",
       "    <tr style=\"text-align: right;\">\n",
       "      <th></th>\n",
       "      <th>object_type</th>\n",
       "      <th>number</th>\n",
       "    </tr>\n",
       "  </thead>\n",
       "  <tbody>\n",
       "    <tr>\n",
       "      <th>0</th>\n",
       "      <td>столовая</td>\n",
       "      <td>130.25</td>\n",
       "    </tr>\n",
       "    <tr>\n",
       "      <th>1</th>\n",
       "      <td>ресторан</td>\n",
       "      <td>96.83</td>\n",
       "    </tr>\n",
       "    <tr>\n",
       "      <th>2</th>\n",
       "      <td>буфет</td>\n",
       "      <td>51.13</td>\n",
       "    </tr>\n",
       "    <tr>\n",
       "      <th>3</th>\n",
       "      <td>бар</td>\n",
       "      <td>43.49</td>\n",
       "    </tr>\n",
       "    <tr>\n",
       "      <th>4</th>\n",
       "      <td>кафе</td>\n",
       "      <td>39.72</td>\n",
       "    </tr>\n",
       "    <tr>\n",
       "      <th>5</th>\n",
       "      <td>предприятие быстрого обслуживания</td>\n",
       "      <td>20.55</td>\n",
       "    </tr>\n",
       "    <tr>\n",
       "      <th>6</th>\n",
       "      <td>кафетерий</td>\n",
       "      <td>9.12</td>\n",
       "    </tr>\n",
       "    <tr>\n",
       "      <th>7</th>\n",
       "      <td>закусочная</td>\n",
       "      <td>7.61</td>\n",
       "    </tr>\n",
       "    <tr>\n",
       "      <th>8</th>\n",
       "      <td>магазин (отдел кулинарии)</td>\n",
       "      <td>5.59</td>\n",
       "    </tr>\n",
       "  </tbody>\n",
       "</table>\n",
       "</div>"
      ],
      "text/plain": [
       "                         object_type  number\n",
       "0                           столовая  130.25\n",
       "1                           ресторан   96.83\n",
       "2                              буфет   51.13\n",
       "3                                бар   43.49\n",
       "4                               кафе   39.72\n",
       "5  предприятие быстрого обслуживания   20.55\n",
       "6                          кафетерий    9.12\n",
       "7                         закусочная    7.61\n",
       "8          магазин (отдел кулинарии)    5.59"
      ]
     },
     "execution_count": 22,
     "metadata": {},
     "output_type": "execute_result"
    }
   ],
   "source": [
    "number = rest_data.groupby(['object_type']).agg({'number':'mean'}).sort_values(by='number',ascending=False).reset_index()\n",
    "number['number'] = round(number['number'], 2)\n",
    "number"
   ]
  },
  {
   "cell_type": "code",
   "execution_count": 23,
   "metadata": {},
   "outputs": [
    {
     "data": {
      "application/vnd.plotly.v1+json": {
       "config": {
        "plotlyServerURL": "https://plot.ly"
       },
       "data": [
        {
         "alignmentgroup": "True",
         "hovertemplate": "Object type=%{x}<br>Average number of seats, pcs.=%{y}<extra></extra>",
         "legendgroup": "",
         "marker": {
          "color": "#636efa",
          "pattern": {
           "shape": ""
          }
         },
         "name": "",
         "offsetgroup": "",
         "orientation": "v",
         "showlegend": false,
         "textposition": "auto",
         "type": "bar",
         "x": [
          "столовая",
          "ресторан",
          "буфет",
          "бар",
          "кафе",
          "предприятие быстрого обслуживания",
          "кафетерий",
          "закусочная",
          "магазин (отдел кулинарии)"
         ],
         "xaxis": "x",
         "y": [
          130.25,
          96.83,
          51.13,
          43.49,
          39.72,
          20.55,
          9.12,
          7.61,
          5.59
         ],
         "yaxis": "y"
        }
       ],
       "layout": {
        "barmode": "relative",
        "legend": {
         "tracegroupgap": 0
        },
        "template": {
         "data": {
          "bar": [
           {
            "error_x": {
             "color": "#2a3f5f"
            },
            "error_y": {
             "color": "#2a3f5f"
            },
            "marker": {
             "line": {
              "color": "#E5ECF6",
              "width": 0.5
             },
             "pattern": {
              "fillmode": "overlay",
              "size": 10,
              "solidity": 0.2
             }
            },
            "type": "bar"
           }
          ],
          "barpolar": [
           {
            "marker": {
             "line": {
              "color": "#E5ECF6",
              "width": 0.5
             },
             "pattern": {
              "fillmode": "overlay",
              "size": 10,
              "solidity": 0.2
             }
            },
            "type": "barpolar"
           }
          ],
          "carpet": [
           {
            "aaxis": {
             "endlinecolor": "#2a3f5f",
             "gridcolor": "white",
             "linecolor": "white",
             "minorgridcolor": "white",
             "startlinecolor": "#2a3f5f"
            },
            "baxis": {
             "endlinecolor": "#2a3f5f",
             "gridcolor": "white",
             "linecolor": "white",
             "minorgridcolor": "white",
             "startlinecolor": "#2a3f5f"
            },
            "type": "carpet"
           }
          ],
          "choropleth": [
           {
            "colorbar": {
             "outlinewidth": 0,
             "ticks": ""
            },
            "type": "choropleth"
           }
          ],
          "contour": [
           {
            "colorbar": {
             "outlinewidth": 0,
             "ticks": ""
            },
            "colorscale": [
             [
              0,
              "#0d0887"
             ],
             [
              0.1111111111111111,
              "#46039f"
             ],
             [
              0.2222222222222222,
              "#7201a8"
             ],
             [
              0.3333333333333333,
              "#9c179e"
             ],
             [
              0.4444444444444444,
              "#bd3786"
             ],
             [
              0.5555555555555556,
              "#d8576b"
             ],
             [
              0.6666666666666666,
              "#ed7953"
             ],
             [
              0.7777777777777778,
              "#fb9f3a"
             ],
             [
              0.8888888888888888,
              "#fdca26"
             ],
             [
              1,
              "#f0f921"
             ]
            ],
            "type": "contour"
           }
          ],
          "contourcarpet": [
           {
            "colorbar": {
             "outlinewidth": 0,
             "ticks": ""
            },
            "type": "contourcarpet"
           }
          ],
          "heatmap": [
           {
            "colorbar": {
             "outlinewidth": 0,
             "ticks": ""
            },
            "colorscale": [
             [
              0,
              "#0d0887"
             ],
             [
              0.1111111111111111,
              "#46039f"
             ],
             [
              0.2222222222222222,
              "#7201a8"
             ],
             [
              0.3333333333333333,
              "#9c179e"
             ],
             [
              0.4444444444444444,
              "#bd3786"
             ],
             [
              0.5555555555555556,
              "#d8576b"
             ],
             [
              0.6666666666666666,
              "#ed7953"
             ],
             [
              0.7777777777777778,
              "#fb9f3a"
             ],
             [
              0.8888888888888888,
              "#fdca26"
             ],
             [
              1,
              "#f0f921"
             ]
            ],
            "type": "heatmap"
           }
          ],
          "heatmapgl": [
           {
            "colorbar": {
             "outlinewidth": 0,
             "ticks": ""
            },
            "colorscale": [
             [
              0,
              "#0d0887"
             ],
             [
              0.1111111111111111,
              "#46039f"
             ],
             [
              0.2222222222222222,
              "#7201a8"
             ],
             [
              0.3333333333333333,
              "#9c179e"
             ],
             [
              0.4444444444444444,
              "#bd3786"
             ],
             [
              0.5555555555555556,
              "#d8576b"
             ],
             [
              0.6666666666666666,
              "#ed7953"
             ],
             [
              0.7777777777777778,
              "#fb9f3a"
             ],
             [
              0.8888888888888888,
              "#fdca26"
             ],
             [
              1,
              "#f0f921"
             ]
            ],
            "type": "heatmapgl"
           }
          ],
          "histogram": [
           {
            "marker": {
             "pattern": {
              "fillmode": "overlay",
              "size": 10,
              "solidity": 0.2
             }
            },
            "type": "histogram"
           }
          ],
          "histogram2d": [
           {
            "colorbar": {
             "outlinewidth": 0,
             "ticks": ""
            },
            "colorscale": [
             [
              0,
              "#0d0887"
             ],
             [
              0.1111111111111111,
              "#46039f"
             ],
             [
              0.2222222222222222,
              "#7201a8"
             ],
             [
              0.3333333333333333,
              "#9c179e"
             ],
             [
              0.4444444444444444,
              "#bd3786"
             ],
             [
              0.5555555555555556,
              "#d8576b"
             ],
             [
              0.6666666666666666,
              "#ed7953"
             ],
             [
              0.7777777777777778,
              "#fb9f3a"
             ],
             [
              0.8888888888888888,
              "#fdca26"
             ],
             [
              1,
              "#f0f921"
             ]
            ],
            "type": "histogram2d"
           }
          ],
          "histogram2dcontour": [
           {
            "colorbar": {
             "outlinewidth": 0,
             "ticks": ""
            },
            "colorscale": [
             [
              0,
              "#0d0887"
             ],
             [
              0.1111111111111111,
              "#46039f"
             ],
             [
              0.2222222222222222,
              "#7201a8"
             ],
             [
              0.3333333333333333,
              "#9c179e"
             ],
             [
              0.4444444444444444,
              "#bd3786"
             ],
             [
              0.5555555555555556,
              "#d8576b"
             ],
             [
              0.6666666666666666,
              "#ed7953"
             ],
             [
              0.7777777777777778,
              "#fb9f3a"
             ],
             [
              0.8888888888888888,
              "#fdca26"
             ],
             [
              1,
              "#f0f921"
             ]
            ],
            "type": "histogram2dcontour"
           }
          ],
          "mesh3d": [
           {
            "colorbar": {
             "outlinewidth": 0,
             "ticks": ""
            },
            "type": "mesh3d"
           }
          ],
          "parcoords": [
           {
            "line": {
             "colorbar": {
              "outlinewidth": 0,
              "ticks": ""
             }
            },
            "type": "parcoords"
           }
          ],
          "pie": [
           {
            "automargin": true,
            "type": "pie"
           }
          ],
          "scatter": [
           {
            "marker": {
             "colorbar": {
              "outlinewidth": 0,
              "ticks": ""
             }
            },
            "type": "scatter"
           }
          ],
          "scatter3d": [
           {
            "line": {
             "colorbar": {
              "outlinewidth": 0,
              "ticks": ""
             }
            },
            "marker": {
             "colorbar": {
              "outlinewidth": 0,
              "ticks": ""
             }
            },
            "type": "scatter3d"
           }
          ],
          "scattercarpet": [
           {
            "marker": {
             "colorbar": {
              "outlinewidth": 0,
              "ticks": ""
             }
            },
            "type": "scattercarpet"
           }
          ],
          "scattergeo": [
           {
            "marker": {
             "colorbar": {
              "outlinewidth": 0,
              "ticks": ""
             }
            },
            "type": "scattergeo"
           }
          ],
          "scattergl": [
           {
            "marker": {
             "colorbar": {
              "outlinewidth": 0,
              "ticks": ""
             }
            },
            "type": "scattergl"
           }
          ],
          "scattermapbox": [
           {
            "marker": {
             "colorbar": {
              "outlinewidth": 0,
              "ticks": ""
             }
            },
            "type": "scattermapbox"
           }
          ],
          "scatterpolar": [
           {
            "marker": {
             "colorbar": {
              "outlinewidth": 0,
              "ticks": ""
             }
            },
            "type": "scatterpolar"
           }
          ],
          "scatterpolargl": [
           {
            "marker": {
             "colorbar": {
              "outlinewidth": 0,
              "ticks": ""
             }
            },
            "type": "scatterpolargl"
           }
          ],
          "scatterternary": [
           {
            "marker": {
             "colorbar": {
              "outlinewidth": 0,
              "ticks": ""
             }
            },
            "type": "scatterternary"
           }
          ],
          "surface": [
           {
            "colorbar": {
             "outlinewidth": 0,
             "ticks": ""
            },
            "colorscale": [
             [
              0,
              "#0d0887"
             ],
             [
              0.1111111111111111,
              "#46039f"
             ],
             [
              0.2222222222222222,
              "#7201a8"
             ],
             [
              0.3333333333333333,
              "#9c179e"
             ],
             [
              0.4444444444444444,
              "#bd3786"
             ],
             [
              0.5555555555555556,
              "#d8576b"
             ],
             [
              0.6666666666666666,
              "#ed7953"
             ],
             [
              0.7777777777777778,
              "#fb9f3a"
             ],
             [
              0.8888888888888888,
              "#fdca26"
             ],
             [
              1,
              "#f0f921"
             ]
            ],
            "type": "surface"
           }
          ],
          "table": [
           {
            "cells": {
             "fill": {
              "color": "#EBF0F8"
             },
             "line": {
              "color": "white"
             }
            },
            "header": {
             "fill": {
              "color": "#C8D4E3"
             },
             "line": {
              "color": "white"
             }
            },
            "type": "table"
           }
          ]
         },
         "layout": {
          "annotationdefaults": {
           "arrowcolor": "#2a3f5f",
           "arrowhead": 0,
           "arrowwidth": 1
          },
          "autotypenumbers": "strict",
          "coloraxis": {
           "colorbar": {
            "outlinewidth": 0,
            "ticks": ""
           }
          },
          "colorscale": {
           "diverging": [
            [
             0,
             "#8e0152"
            ],
            [
             0.1,
             "#c51b7d"
            ],
            [
             0.2,
             "#de77ae"
            ],
            [
             0.3,
             "#f1b6da"
            ],
            [
             0.4,
             "#fde0ef"
            ],
            [
             0.5,
             "#f7f7f7"
            ],
            [
             0.6,
             "#e6f5d0"
            ],
            [
             0.7,
             "#b8e186"
            ],
            [
             0.8,
             "#7fbc41"
            ],
            [
             0.9,
             "#4d9221"
            ],
            [
             1,
             "#276419"
            ]
           ],
           "sequential": [
            [
             0,
             "#0d0887"
            ],
            [
             0.1111111111111111,
             "#46039f"
            ],
            [
             0.2222222222222222,
             "#7201a8"
            ],
            [
             0.3333333333333333,
             "#9c179e"
            ],
            [
             0.4444444444444444,
             "#bd3786"
            ],
            [
             0.5555555555555556,
             "#d8576b"
            ],
            [
             0.6666666666666666,
             "#ed7953"
            ],
            [
             0.7777777777777778,
             "#fb9f3a"
            ],
            [
             0.8888888888888888,
             "#fdca26"
            ],
            [
             1,
             "#f0f921"
            ]
           ],
           "sequentialminus": [
            [
             0,
             "#0d0887"
            ],
            [
             0.1111111111111111,
             "#46039f"
            ],
            [
             0.2222222222222222,
             "#7201a8"
            ],
            [
             0.3333333333333333,
             "#9c179e"
            ],
            [
             0.4444444444444444,
             "#bd3786"
            ],
            [
             0.5555555555555556,
             "#d8576b"
            ],
            [
             0.6666666666666666,
             "#ed7953"
            ],
            [
             0.7777777777777778,
             "#fb9f3a"
            ],
            [
             0.8888888888888888,
             "#fdca26"
            ],
            [
             1,
             "#f0f921"
            ]
           ]
          },
          "colorway": [
           "#636efa",
           "#EF553B",
           "#00cc96",
           "#ab63fa",
           "#FFA15A",
           "#19d3f3",
           "#FF6692",
           "#B6E880",
           "#FF97FF",
           "#FECB52"
          ],
          "font": {
           "color": "#2a3f5f"
          },
          "geo": {
           "bgcolor": "white",
           "lakecolor": "white",
           "landcolor": "#E5ECF6",
           "showlakes": true,
           "showland": true,
           "subunitcolor": "white"
          },
          "hoverlabel": {
           "align": "left"
          },
          "hovermode": "closest",
          "mapbox": {
           "style": "light"
          },
          "paper_bgcolor": "white",
          "plot_bgcolor": "#E5ECF6",
          "polar": {
           "angularaxis": {
            "gridcolor": "white",
            "linecolor": "white",
            "ticks": ""
           },
           "bgcolor": "#E5ECF6",
           "radialaxis": {
            "gridcolor": "white",
            "linecolor": "white",
            "ticks": ""
           }
          },
          "scene": {
           "xaxis": {
            "backgroundcolor": "#E5ECF6",
            "gridcolor": "white",
            "gridwidth": 2,
            "linecolor": "white",
            "showbackground": true,
            "ticks": "",
            "zerolinecolor": "white"
           },
           "yaxis": {
            "backgroundcolor": "#E5ECF6",
            "gridcolor": "white",
            "gridwidth": 2,
            "linecolor": "white",
            "showbackground": true,
            "ticks": "",
            "zerolinecolor": "white"
           },
           "zaxis": {
            "backgroundcolor": "#E5ECF6",
            "gridcolor": "white",
            "gridwidth": 2,
            "linecolor": "white",
            "showbackground": true,
            "ticks": "",
            "zerolinecolor": "white"
           }
          },
          "shapedefaults": {
           "line": {
            "color": "#2a3f5f"
           }
          },
          "ternary": {
           "aaxis": {
            "gridcolor": "white",
            "linecolor": "white",
            "ticks": ""
           },
           "baxis": {
            "gridcolor": "white",
            "linecolor": "white",
            "ticks": ""
           },
           "bgcolor": "#E5ECF6",
           "caxis": {
            "gridcolor": "white",
            "linecolor": "white",
            "ticks": ""
           }
          },
          "title": {
           "x": 0.05
          },
          "xaxis": {
           "automargin": true,
           "gridcolor": "white",
           "linecolor": "white",
           "ticks": "",
           "title": {
            "standoff": 15
           },
           "zerolinecolor": "white",
           "zerolinewidth": 2
          },
          "yaxis": {
           "automargin": true,
           "gridcolor": "white",
           "linecolor": "white",
           "ticks": "",
           "title": {
            "standoff": 15
           },
           "zerolinecolor": "white",
           "zerolinewidth": 2
          }
         }
        },
        "title": {
         "text": "Average number of seats in different types of establishments"
        },
        "xaxis": {
         "anchor": "y",
         "domain": [
          0,
          1
         ],
         "title": {
          "text": "Object type"
         }
        },
        "yaxis": {
         "anchor": "x",
         "domain": [
          0,
          1
         ],
         "title": {
          "text": "Average number of seats, pcs."
         }
        }
       }
      }
     },
     "metadata": {},
     "output_type": "display_data"
    }
   ],
   "source": [
    "fig = px.bar(number, \n",
    "            y='number',\n",
    "            x='object_type',\n",
    "            labels={\n",
    "                     \"number\": \"Average number of seats, pcs.\",\n",
    "                     \"object_type\": \"Object type\"\n",
    "                 },\n",
    "             title='Average number of seats in different types of establishments')\n",
    "fig.show()"
   ]
  },
  {
   "cell_type": "markdown",
   "metadata": {},
   "source": [
    "The largest number of seats are provided by canteens and restaurants, which have more than 90 seats, respectively. This can be explained by the fact that canteens are usually located in places where large numbers of people are concentrated (universities, colleges, factories, etc.). Restaurants generally also have a large number of seats. The cafe that interests us has an average capacity of about 40 seats."
   ]
  },
  {
   "cell_type": "code",
   "execution_count": 24,
   "metadata": {},
   "outputs": [
    {
     "data": {
      "text/html": [
       "<div>\n",
       "<style scoped>\n",
       "    .dataframe tbody tr th:only-of-type {\n",
       "        vertical-align: middle;\n",
       "    }\n",
       "\n",
       "    .dataframe tbody tr th {\n",
       "        vertical-align: top;\n",
       "    }\n",
       "\n",
       "    .dataframe thead th {\n",
       "        text-align: right;\n",
       "    }\n",
       "</style>\n",
       "<table border=\"1\" class=\"dataframe\">\n",
       "  <thead>\n",
       "    <tr style=\"text-align: right;\">\n",
       "      <th></th>\n",
       "      <th>id</th>\n",
       "      <th>object_name</th>\n",
       "      <th>chain</th>\n",
       "      <th>object_type</th>\n",
       "      <th>address</th>\n",
       "      <th>number</th>\n",
       "      <th>street</th>\n",
       "    </tr>\n",
       "  </thead>\n",
       "  <tbody>\n",
       "    <tr>\n",
       "      <th>0</th>\n",
       "      <td>151635</td>\n",
       "      <td>СМЕТАНА</td>\n",
       "      <td>Несетевое</td>\n",
       "      <td>кафе</td>\n",
       "      <td>город Москва, улица Егора Абакумова, дом 9</td>\n",
       "      <td>48</td>\n",
       "      <td>улица Егора Абакумова</td>\n",
       "    </tr>\n",
       "    <tr>\n",
       "      <th>1</th>\n",
       "      <td>77874</td>\n",
       "      <td>Родник</td>\n",
       "      <td>Несетевое</td>\n",
       "      <td>кафе</td>\n",
       "      <td>город Москва, улица Талалихина, дом 2/1, корпус 1</td>\n",
       "      <td>35</td>\n",
       "      <td>улица Талалихина</td>\n",
       "    </tr>\n",
       "    <tr>\n",
       "      <th>2</th>\n",
       "      <td>24309</td>\n",
       "      <td>Кафе «Академия»</td>\n",
       "      <td>Несетевое</td>\n",
       "      <td>кафе</td>\n",
       "      <td>город Москва, Абельмановская улица, дом 6</td>\n",
       "      <td>95</td>\n",
       "      <td>Абельмановская улица</td>\n",
       "    </tr>\n",
       "    <tr>\n",
       "      <th>3</th>\n",
       "      <td>21894</td>\n",
       "      <td>ПИЦЦЕТОРИЯ</td>\n",
       "      <td>Сетевое</td>\n",
       "      <td>кафе</td>\n",
       "      <td>город Москва, Абрамцевская улица, дом 1</td>\n",
       "      <td>40</td>\n",
       "      <td>Абрамцевская улица</td>\n",
       "    </tr>\n",
       "    <tr>\n",
       "      <th>4</th>\n",
       "      <td>119365</td>\n",
       "      <td>Кафе «Вишневая метель»</td>\n",
       "      <td>Несетевое</td>\n",
       "      <td>кафе</td>\n",
       "      <td>город Москва, Абрамцевская улица, дом 9, корпус 1</td>\n",
       "      <td>50</td>\n",
       "      <td>Абрамцевская улица</td>\n",
       "    </tr>\n",
       "    <tr>\n",
       "      <th>...</th>\n",
       "      <td>...</td>\n",
       "      <td>...</td>\n",
       "      <td>...</td>\n",
       "      <td>...</td>\n",
       "      <td>...</td>\n",
       "      <td>...</td>\n",
       "      <td>...</td>\n",
       "    </tr>\n",
       "    <tr>\n",
       "      <th>15361</th>\n",
       "      <td>208537</td>\n",
       "      <td>Шоколадница</td>\n",
       "      <td>Сетевое</td>\n",
       "      <td>кафе</td>\n",
       "      <td>город Москва, 3-й Крутицкий переулок, дом 18</td>\n",
       "      <td>50</td>\n",
       "      <td>3-й Крутицкий переулок</td>\n",
       "    </tr>\n",
       "    <tr>\n",
       "      <th>15362</th>\n",
       "      <td>209264</td>\n",
       "      <td>Шоколадница</td>\n",
       "      <td>Сетевое</td>\n",
       "      <td>кафе</td>\n",
       "      <td>город Москва, улица Земляной Вал, дом 33</td>\n",
       "      <td>10</td>\n",
       "      <td>улица Земляной Вал</td>\n",
       "    </tr>\n",
       "    <tr>\n",
       "      <th>15363</th>\n",
       "      <td>209186</td>\n",
       "      <td>Шоколадница</td>\n",
       "      <td>Сетевое</td>\n",
       "      <td>кафе</td>\n",
       "      <td>город Москва, улица Земляной Вал, дом 33</td>\n",
       "      <td>20</td>\n",
       "      <td>улица Земляной Вал</td>\n",
       "    </tr>\n",
       "    <tr>\n",
       "      <th>15364</th>\n",
       "      <td>221900</td>\n",
       "      <td>Шоколадница</td>\n",
       "      <td>Сетевое</td>\n",
       "      <td>кафе</td>\n",
       "      <td>город Москва, поселение Московский, Киевское ш...</td>\n",
       "      <td>36</td>\n",
       "      <td>Киевское шоссе</td>\n",
       "    </tr>\n",
       "    <tr>\n",
       "      <th>15365</th>\n",
       "      <td>222535</td>\n",
       "      <td>Шоколадница</td>\n",
       "      <td>Сетевое</td>\n",
       "      <td>кафе</td>\n",
       "      <td>город Москва, Ходынский бульвар, дом 4</td>\n",
       "      <td>10</td>\n",
       "      <td>Ходынский бульвар</td>\n",
       "    </tr>\n",
       "  </tbody>\n",
       "</table>\n",
       "<p>15366 rows × 7 columns</p>\n",
       "</div>"
      ],
      "text/plain": [
       "           id             object_name      chain object_type  \\\n",
       "0      151635                 СМЕТАНА  Несетевое        кафе   \n",
       "1       77874                  Родник  Несетевое        кафе   \n",
       "2       24309         Кафе «Академия»  Несетевое        кафе   \n",
       "3       21894              ПИЦЦЕТОРИЯ    Сетевое        кафе   \n",
       "4      119365  Кафе «Вишневая метель»  Несетевое        кафе   \n",
       "...       ...                     ...        ...         ...   \n",
       "15361  208537             Шоколадница    Сетевое        кафе   \n",
       "15362  209264             Шоколадница    Сетевое        кафе   \n",
       "15363  209186             Шоколадница    Сетевое        кафе   \n",
       "15364  221900             Шоколадница    Сетевое        кафе   \n",
       "15365  222535             Шоколадница    Сетевое        кафе   \n",
       "\n",
       "                                                 address  number  \\\n",
       "0             город Москва, улица Егора Абакумова, дом 9      48   \n",
       "1      город Москва, улица Талалихина, дом 2/1, корпус 1      35   \n",
       "2              город Москва, Абельмановская улица, дом 6      95   \n",
       "3                город Москва, Абрамцевская улица, дом 1      40   \n",
       "4      город Москва, Абрамцевская улица, дом 9, корпус 1      50   \n",
       "...                                                  ...     ...   \n",
       "15361       город Москва, 3-й Крутицкий переулок, дом 18      50   \n",
       "15362           город Москва, улица Земляной Вал, дом 33      10   \n",
       "15363           город Москва, улица Земляной Вал, дом 33      20   \n",
       "15364  город Москва, поселение Московский, Киевское ш...      36   \n",
       "15365             город Москва, Ходынский бульвар, дом 4      10   \n",
       "\n",
       "                       street  \n",
       "0       улица Егора Абакумова  \n",
       "1            улица Талалихина  \n",
       "2        Абельмановская улица  \n",
       "3          Абрамцевская улица  \n",
       "4          Абрамцевская улица  \n",
       "...                       ...  \n",
       "15361  3-й Крутицкий переулок  \n",
       "15362      улица Земляной Вал  \n",
       "15363      улица Земляной Вал  \n",
       "15364          Киевское шоссе  \n",
       "15365       Ходынский бульвар  \n",
       "\n",
       "[15366 rows x 7 columns]"
      ]
     },
     "execution_count": 24,
     "metadata": {},
     "output_type": "execute_result"
    }
   ],
   "source": [
    "list = (['город Московский','поселение \"Мосрентген\"','поселение Московский','поселение Михайлово-Ярцевское',\n",
    "        'поселение Марушкинское','город Троицк','поселение Сосенское', 'город Зеленоград'])\n",
    "def get_street(row):\n",
    "    if row['address'].split(\",\")[0].strip() == 'город Москва' and row['address'].split(\",\")[1].strip() not in list:\n",
    "        return row['address'].split(\",\")[1].strip()\n",
    "    elif row['address'].split(\",\")[1].strip() in list:\n",
    "        return row['address'].split(\",\")[2].strip()\n",
    "    else:\n",
    "        return row['address'].split(\",\")[0].strip()\n",
    "rest_data['street'] = rest_data.apply(get_street,axis=1)\n",
    "rest_data"
   ]
  },
  {
   "cell_type": "code",
   "execution_count": 25,
   "metadata": {},
   "outputs": [
    {
     "data": {
      "text/html": [
       "<div>\n",
       "<style scoped>\n",
       "    .dataframe tbody tr th:only-of-type {\n",
       "        vertical-align: middle;\n",
       "    }\n",
       "\n",
       "    .dataframe tbody tr th {\n",
       "        vertical-align: top;\n",
       "    }\n",
       "\n",
       "    .dataframe thead th {\n",
       "        text-align: right;\n",
       "    }\n",
       "</style>\n",
       "<table border=\"1\" class=\"dataframe\">\n",
       "  <thead>\n",
       "    <tr style=\"text-align: right;\">\n",
       "      <th></th>\n",
       "      <th>street</th>\n",
       "      <th>number_of_object</th>\n",
       "    </tr>\n",
       "  </thead>\n",
       "  <tbody>\n",
       "    <tr>\n",
       "      <th>0</th>\n",
       "      <td>проспект Мира</td>\n",
       "      <td>204</td>\n",
       "    </tr>\n",
       "    <tr>\n",
       "      <th>1</th>\n",
       "      <td>Профсоюзная улица</td>\n",
       "      <td>183</td>\n",
       "    </tr>\n",
       "    <tr>\n",
       "      <th>2</th>\n",
       "      <td>Ленинградский проспект</td>\n",
       "      <td>173</td>\n",
       "    </tr>\n",
       "    <tr>\n",
       "      <th>3</th>\n",
       "      <td>Пресненская набережная</td>\n",
       "      <td>167</td>\n",
       "    </tr>\n",
       "    <tr>\n",
       "      <th>4</th>\n",
       "      <td>Варшавское шоссе</td>\n",
       "      <td>162</td>\n",
       "    </tr>\n",
       "    <tr>\n",
       "      <th>5</th>\n",
       "      <td>Ленинский проспект</td>\n",
       "      <td>148</td>\n",
       "    </tr>\n",
       "    <tr>\n",
       "      <th>6</th>\n",
       "      <td>проспект Вернадского</td>\n",
       "      <td>132</td>\n",
       "    </tr>\n",
       "    <tr>\n",
       "      <th>7</th>\n",
       "      <td>Кутузовский проспект</td>\n",
       "      <td>114</td>\n",
       "    </tr>\n",
       "    <tr>\n",
       "      <th>8</th>\n",
       "      <td>Каширское шоссе</td>\n",
       "      <td>112</td>\n",
       "    </tr>\n",
       "    <tr>\n",
       "      <th>9</th>\n",
       "      <td>Кировоградская улица</td>\n",
       "      <td>110</td>\n",
       "    </tr>\n",
       "  </tbody>\n",
       "</table>\n",
       "</div>"
      ],
      "text/plain": [
       "                   street  number_of_object\n",
       "0           проспект Мира               204\n",
       "1       Профсоюзная улица               183\n",
       "2  Ленинградский проспект               173\n",
       "3  Пресненская набережная               167\n",
       "4        Варшавское шоссе               162\n",
       "5      Ленинский проспект               148\n",
       "6    проспект Вернадского               132\n",
       "7    Кутузовский проспект               114\n",
       "8         Каширское шоссе               112\n",
       "9    Кировоградская улица               110"
      ]
     },
     "execution_count": 25,
     "metadata": {},
     "output_type": "execute_result"
    }
   ],
   "source": [
    "top10_location = rest_data.groupby(['street']).agg({'object_name':'count'}).sort_values(by='object_name',ascending=False).reset_index().head(10)\n",
    "top10_location.columns = ['street', 'number_of_object']\n",
    "top10_location"
   ]
  },
  {
   "cell_type": "code",
   "execution_count": 26,
   "metadata": {},
   "outputs": [
    {
     "data": {
      "application/vnd.plotly.v1+json": {
       "config": {
        "plotlyServerURL": "https://plot.ly"
       },
       "data": [
        {
         "alignmentgroup": "True",
         "hovertemplate": "Street name=%{x}<br>Number of objects located on the street=%{y}<extra></extra>",
         "legendgroup": "",
         "marker": {
          "color": "#636efa",
          "pattern": {
           "shape": ""
          }
         },
         "name": "",
         "offsetgroup": "",
         "orientation": "v",
         "showlegend": false,
         "textposition": "auto",
         "type": "bar",
         "x": [
          "проспект Мира",
          "Профсоюзная улица",
          "Ленинградский проспект",
          "Пресненская набережная",
          "Варшавское шоссе",
          "Ленинский проспект",
          "проспект Вернадского",
          "Кутузовский проспект",
          "Каширское шоссе",
          "Кировоградская улица"
         ],
         "xaxis": "x",
         "y": [
          204,
          183,
          173,
          167,
          162,
          148,
          132,
          114,
          112,
          110
         ],
         "yaxis": "y"
        }
       ],
       "layout": {
        "barmode": "relative",
        "legend": {
         "tracegroupgap": 0
        },
        "template": {
         "data": {
          "bar": [
           {
            "error_x": {
             "color": "#2a3f5f"
            },
            "error_y": {
             "color": "#2a3f5f"
            },
            "marker": {
             "line": {
              "color": "#E5ECF6",
              "width": 0.5
             },
             "pattern": {
              "fillmode": "overlay",
              "size": 10,
              "solidity": 0.2
             }
            },
            "type": "bar"
           }
          ],
          "barpolar": [
           {
            "marker": {
             "line": {
              "color": "#E5ECF6",
              "width": 0.5
             },
             "pattern": {
              "fillmode": "overlay",
              "size": 10,
              "solidity": 0.2
             }
            },
            "type": "barpolar"
           }
          ],
          "carpet": [
           {
            "aaxis": {
             "endlinecolor": "#2a3f5f",
             "gridcolor": "white",
             "linecolor": "white",
             "minorgridcolor": "white",
             "startlinecolor": "#2a3f5f"
            },
            "baxis": {
             "endlinecolor": "#2a3f5f",
             "gridcolor": "white",
             "linecolor": "white",
             "minorgridcolor": "white",
             "startlinecolor": "#2a3f5f"
            },
            "type": "carpet"
           }
          ],
          "choropleth": [
           {
            "colorbar": {
             "outlinewidth": 0,
             "ticks": ""
            },
            "type": "choropleth"
           }
          ],
          "contour": [
           {
            "colorbar": {
             "outlinewidth": 0,
             "ticks": ""
            },
            "colorscale": [
             [
              0,
              "#0d0887"
             ],
             [
              0.1111111111111111,
              "#46039f"
             ],
             [
              0.2222222222222222,
              "#7201a8"
             ],
             [
              0.3333333333333333,
              "#9c179e"
             ],
             [
              0.4444444444444444,
              "#bd3786"
             ],
             [
              0.5555555555555556,
              "#d8576b"
             ],
             [
              0.6666666666666666,
              "#ed7953"
             ],
             [
              0.7777777777777778,
              "#fb9f3a"
             ],
             [
              0.8888888888888888,
              "#fdca26"
             ],
             [
              1,
              "#f0f921"
             ]
            ],
            "type": "contour"
           }
          ],
          "contourcarpet": [
           {
            "colorbar": {
             "outlinewidth": 0,
             "ticks": ""
            },
            "type": "contourcarpet"
           }
          ],
          "heatmap": [
           {
            "colorbar": {
             "outlinewidth": 0,
             "ticks": ""
            },
            "colorscale": [
             [
              0,
              "#0d0887"
             ],
             [
              0.1111111111111111,
              "#46039f"
             ],
             [
              0.2222222222222222,
              "#7201a8"
             ],
             [
              0.3333333333333333,
              "#9c179e"
             ],
             [
              0.4444444444444444,
              "#bd3786"
             ],
             [
              0.5555555555555556,
              "#d8576b"
             ],
             [
              0.6666666666666666,
              "#ed7953"
             ],
             [
              0.7777777777777778,
              "#fb9f3a"
             ],
             [
              0.8888888888888888,
              "#fdca26"
             ],
             [
              1,
              "#f0f921"
             ]
            ],
            "type": "heatmap"
           }
          ],
          "heatmapgl": [
           {
            "colorbar": {
             "outlinewidth": 0,
             "ticks": ""
            },
            "colorscale": [
             [
              0,
              "#0d0887"
             ],
             [
              0.1111111111111111,
              "#46039f"
             ],
             [
              0.2222222222222222,
              "#7201a8"
             ],
             [
              0.3333333333333333,
              "#9c179e"
             ],
             [
              0.4444444444444444,
              "#bd3786"
             ],
             [
              0.5555555555555556,
              "#d8576b"
             ],
             [
              0.6666666666666666,
              "#ed7953"
             ],
             [
              0.7777777777777778,
              "#fb9f3a"
             ],
             [
              0.8888888888888888,
              "#fdca26"
             ],
             [
              1,
              "#f0f921"
             ]
            ],
            "type": "heatmapgl"
           }
          ],
          "histogram": [
           {
            "marker": {
             "pattern": {
              "fillmode": "overlay",
              "size": 10,
              "solidity": 0.2
             }
            },
            "type": "histogram"
           }
          ],
          "histogram2d": [
           {
            "colorbar": {
             "outlinewidth": 0,
             "ticks": ""
            },
            "colorscale": [
             [
              0,
              "#0d0887"
             ],
             [
              0.1111111111111111,
              "#46039f"
             ],
             [
              0.2222222222222222,
              "#7201a8"
             ],
             [
              0.3333333333333333,
              "#9c179e"
             ],
             [
              0.4444444444444444,
              "#bd3786"
             ],
             [
              0.5555555555555556,
              "#d8576b"
             ],
             [
              0.6666666666666666,
              "#ed7953"
             ],
             [
              0.7777777777777778,
              "#fb9f3a"
             ],
             [
              0.8888888888888888,
              "#fdca26"
             ],
             [
              1,
              "#f0f921"
             ]
            ],
            "type": "histogram2d"
           }
          ],
          "histogram2dcontour": [
           {
            "colorbar": {
             "outlinewidth": 0,
             "ticks": ""
            },
            "colorscale": [
             [
              0,
              "#0d0887"
             ],
             [
              0.1111111111111111,
              "#46039f"
             ],
             [
              0.2222222222222222,
              "#7201a8"
             ],
             [
              0.3333333333333333,
              "#9c179e"
             ],
             [
              0.4444444444444444,
              "#bd3786"
             ],
             [
              0.5555555555555556,
              "#d8576b"
             ],
             [
              0.6666666666666666,
              "#ed7953"
             ],
             [
              0.7777777777777778,
              "#fb9f3a"
             ],
             [
              0.8888888888888888,
              "#fdca26"
             ],
             [
              1,
              "#f0f921"
             ]
            ],
            "type": "histogram2dcontour"
           }
          ],
          "mesh3d": [
           {
            "colorbar": {
             "outlinewidth": 0,
             "ticks": ""
            },
            "type": "mesh3d"
           }
          ],
          "parcoords": [
           {
            "line": {
             "colorbar": {
              "outlinewidth": 0,
              "ticks": ""
             }
            },
            "type": "parcoords"
           }
          ],
          "pie": [
           {
            "automargin": true,
            "type": "pie"
           }
          ],
          "scatter": [
           {
            "marker": {
             "colorbar": {
              "outlinewidth": 0,
              "ticks": ""
             }
            },
            "type": "scatter"
           }
          ],
          "scatter3d": [
           {
            "line": {
             "colorbar": {
              "outlinewidth": 0,
              "ticks": ""
             }
            },
            "marker": {
             "colorbar": {
              "outlinewidth": 0,
              "ticks": ""
             }
            },
            "type": "scatter3d"
           }
          ],
          "scattercarpet": [
           {
            "marker": {
             "colorbar": {
              "outlinewidth": 0,
              "ticks": ""
             }
            },
            "type": "scattercarpet"
           }
          ],
          "scattergeo": [
           {
            "marker": {
             "colorbar": {
              "outlinewidth": 0,
              "ticks": ""
             }
            },
            "type": "scattergeo"
           }
          ],
          "scattergl": [
           {
            "marker": {
             "colorbar": {
              "outlinewidth": 0,
              "ticks": ""
             }
            },
            "type": "scattergl"
           }
          ],
          "scattermapbox": [
           {
            "marker": {
             "colorbar": {
              "outlinewidth": 0,
              "ticks": ""
             }
            },
            "type": "scattermapbox"
           }
          ],
          "scatterpolar": [
           {
            "marker": {
             "colorbar": {
              "outlinewidth": 0,
              "ticks": ""
             }
            },
            "type": "scatterpolar"
           }
          ],
          "scatterpolargl": [
           {
            "marker": {
             "colorbar": {
              "outlinewidth": 0,
              "ticks": ""
             }
            },
            "type": "scatterpolargl"
           }
          ],
          "scatterternary": [
           {
            "marker": {
             "colorbar": {
              "outlinewidth": 0,
              "ticks": ""
             }
            },
            "type": "scatterternary"
           }
          ],
          "surface": [
           {
            "colorbar": {
             "outlinewidth": 0,
             "ticks": ""
            },
            "colorscale": [
             [
              0,
              "#0d0887"
             ],
             [
              0.1111111111111111,
              "#46039f"
             ],
             [
              0.2222222222222222,
              "#7201a8"
             ],
             [
              0.3333333333333333,
              "#9c179e"
             ],
             [
              0.4444444444444444,
              "#bd3786"
             ],
             [
              0.5555555555555556,
              "#d8576b"
             ],
             [
              0.6666666666666666,
              "#ed7953"
             ],
             [
              0.7777777777777778,
              "#fb9f3a"
             ],
             [
              0.8888888888888888,
              "#fdca26"
             ],
             [
              1,
              "#f0f921"
             ]
            ],
            "type": "surface"
           }
          ],
          "table": [
           {
            "cells": {
             "fill": {
              "color": "#EBF0F8"
             },
             "line": {
              "color": "white"
             }
            },
            "header": {
             "fill": {
              "color": "#C8D4E3"
             },
             "line": {
              "color": "white"
             }
            },
            "type": "table"
           }
          ]
         },
         "layout": {
          "annotationdefaults": {
           "arrowcolor": "#2a3f5f",
           "arrowhead": 0,
           "arrowwidth": 1
          },
          "autotypenumbers": "strict",
          "coloraxis": {
           "colorbar": {
            "outlinewidth": 0,
            "ticks": ""
           }
          },
          "colorscale": {
           "diverging": [
            [
             0,
             "#8e0152"
            ],
            [
             0.1,
             "#c51b7d"
            ],
            [
             0.2,
             "#de77ae"
            ],
            [
             0.3,
             "#f1b6da"
            ],
            [
             0.4,
             "#fde0ef"
            ],
            [
             0.5,
             "#f7f7f7"
            ],
            [
             0.6,
             "#e6f5d0"
            ],
            [
             0.7,
             "#b8e186"
            ],
            [
             0.8,
             "#7fbc41"
            ],
            [
             0.9,
             "#4d9221"
            ],
            [
             1,
             "#276419"
            ]
           ],
           "sequential": [
            [
             0,
             "#0d0887"
            ],
            [
             0.1111111111111111,
             "#46039f"
            ],
            [
             0.2222222222222222,
             "#7201a8"
            ],
            [
             0.3333333333333333,
             "#9c179e"
            ],
            [
             0.4444444444444444,
             "#bd3786"
            ],
            [
             0.5555555555555556,
             "#d8576b"
            ],
            [
             0.6666666666666666,
             "#ed7953"
            ],
            [
             0.7777777777777778,
             "#fb9f3a"
            ],
            [
             0.8888888888888888,
             "#fdca26"
            ],
            [
             1,
             "#f0f921"
            ]
           ],
           "sequentialminus": [
            [
             0,
             "#0d0887"
            ],
            [
             0.1111111111111111,
             "#46039f"
            ],
            [
             0.2222222222222222,
             "#7201a8"
            ],
            [
             0.3333333333333333,
             "#9c179e"
            ],
            [
             0.4444444444444444,
             "#bd3786"
            ],
            [
             0.5555555555555556,
             "#d8576b"
            ],
            [
             0.6666666666666666,
             "#ed7953"
            ],
            [
             0.7777777777777778,
             "#fb9f3a"
            ],
            [
             0.8888888888888888,
             "#fdca26"
            ],
            [
             1,
             "#f0f921"
            ]
           ]
          },
          "colorway": [
           "#636efa",
           "#EF553B",
           "#00cc96",
           "#ab63fa",
           "#FFA15A",
           "#19d3f3",
           "#FF6692",
           "#B6E880",
           "#FF97FF",
           "#FECB52"
          ],
          "font": {
           "color": "#2a3f5f"
          },
          "geo": {
           "bgcolor": "white",
           "lakecolor": "white",
           "landcolor": "#E5ECF6",
           "showlakes": true,
           "showland": true,
           "subunitcolor": "white"
          },
          "hoverlabel": {
           "align": "left"
          },
          "hovermode": "closest",
          "mapbox": {
           "style": "light"
          },
          "paper_bgcolor": "white",
          "plot_bgcolor": "#E5ECF6",
          "polar": {
           "angularaxis": {
            "gridcolor": "white",
            "linecolor": "white",
            "ticks": ""
           },
           "bgcolor": "#E5ECF6",
           "radialaxis": {
            "gridcolor": "white",
            "linecolor": "white",
            "ticks": ""
           }
          },
          "scene": {
           "xaxis": {
            "backgroundcolor": "#E5ECF6",
            "gridcolor": "white",
            "gridwidth": 2,
            "linecolor": "white",
            "showbackground": true,
            "ticks": "",
            "zerolinecolor": "white"
           },
           "yaxis": {
            "backgroundcolor": "#E5ECF6",
            "gridcolor": "white",
            "gridwidth": 2,
            "linecolor": "white",
            "showbackground": true,
            "ticks": "",
            "zerolinecolor": "white"
           },
           "zaxis": {
            "backgroundcolor": "#E5ECF6",
            "gridcolor": "white",
            "gridwidth": 2,
            "linecolor": "white",
            "showbackground": true,
            "ticks": "",
            "zerolinecolor": "white"
           }
          },
          "shapedefaults": {
           "line": {
            "color": "#2a3f5f"
           }
          },
          "ternary": {
           "aaxis": {
            "gridcolor": "white",
            "linecolor": "white",
            "ticks": ""
           },
           "baxis": {
            "gridcolor": "white",
            "linecolor": "white",
            "ticks": ""
           },
           "bgcolor": "#E5ECF6",
           "caxis": {
            "gridcolor": "white",
            "linecolor": "white",
            "ticks": ""
           }
          },
          "title": {
           "x": 0.05
          },
          "xaxis": {
           "automargin": true,
           "gridcolor": "white",
           "linecolor": "white",
           "ticks": "",
           "title": {
            "standoff": 15
           },
           "zerolinecolor": "white",
           "zerolinewidth": 2
          },
          "yaxis": {
           "automargin": true,
           "gridcolor": "white",
           "linecolor": "white",
           "ticks": "",
           "title": {
            "standoff": 15
           },
           "zerolinecolor": "white",
           "zerolinewidth": 2
          }
         }
        },
        "title": {
         "text": "Top 10 streets by number of objects"
        },
        "xaxis": {
         "anchor": "y",
         "domain": [
          0,
          1
         ],
         "title": {
          "text": "Street name"
         }
        },
        "yaxis": {
         "anchor": "x",
         "domain": [
          0,
          1
         ],
         "title": {
          "text": "Number of objects located on the street"
         }
        }
       }
      }
     },
     "metadata": {},
     "output_type": "display_data"
    }
   ],
   "source": [
    "fig = px.bar(top10_location, \n",
    "            y='number_of_object',\n",
    "            x='street',\n",
    "            labels={\n",
    "                     \"number_of_object\": \"Number of objects located on the street\",\n",
    "                     \"street\": \"Street name\"\n",
    "                 },\n",
    "             title='Top 10 streets by number of objects')\n",
    "fig.show()"
   ]
  },
  {
   "cell_type": "code",
   "execution_count": 27,
   "metadata": {},
   "outputs": [
    {
     "data": {
      "text/html": [
       "<div>\n",
       "<style scoped>\n",
       "    .dataframe tbody tr th:only-of-type {\n",
       "        vertical-align: middle;\n",
       "    }\n",
       "\n",
       "    .dataframe tbody tr th {\n",
       "        vertical-align: top;\n",
       "    }\n",
       "\n",
       "    .dataframe thead th {\n",
       "        text-align: right;\n",
       "    }\n",
       "</style>\n",
       "<table border=\"1\" class=\"dataframe\">\n",
       "  <thead>\n",
       "    <tr style=\"text-align: right;\">\n",
       "      <th></th>\n",
       "      <th>streetname</th>\n",
       "      <th>areaid</th>\n",
       "      <th>okrug</th>\n",
       "      <th>area</th>\n",
       "    </tr>\n",
       "  </thead>\n",
       "  <tbody>\n",
       "    <tr>\n",
       "      <th>0</th>\n",
       "      <td>Выставочный переулок</td>\n",
       "      <td>17</td>\n",
       "      <td>ЦАО</td>\n",
       "      <td>Пресненский район</td>\n",
       "    </tr>\n",
       "    <tr>\n",
       "      <th>1</th>\n",
       "      <td>улица Гашека</td>\n",
       "      <td>17</td>\n",
       "      <td>ЦАО</td>\n",
       "      <td>Пресненский район</td>\n",
       "    </tr>\n",
       "    <tr>\n",
       "      <th>2</th>\n",
       "      <td>Большая Никитская улица</td>\n",
       "      <td>17</td>\n",
       "      <td>ЦАО</td>\n",
       "      <td>Пресненский район</td>\n",
       "    </tr>\n",
       "    <tr>\n",
       "      <th>3</th>\n",
       "      <td>Глубокий переулок</td>\n",
       "      <td>17</td>\n",
       "      <td>ЦАО</td>\n",
       "      <td>Пресненский район</td>\n",
       "    </tr>\n",
       "    <tr>\n",
       "      <th>4</th>\n",
       "      <td>Большой Гнездниковский переулок</td>\n",
       "      <td>17</td>\n",
       "      <td>ЦАО</td>\n",
       "      <td>Пресненский район</td>\n",
       "    </tr>\n",
       "  </tbody>\n",
       "</table>\n",
       "</div>"
      ],
      "text/plain": [
       "                        streetname  areaid okrug               area\n",
       "0             Выставочный переулок      17   ЦАО  Пресненский район\n",
       "1                     улица Гашека      17   ЦАО  Пресненский район\n",
       "2          Большая Никитская улица      17   ЦАО  Пресненский район\n",
       "3                Глубокий переулок      17   ЦАО  Пресненский район\n",
       "4  Большой Гнездниковский переулок      17   ЦАО  Пресненский район"
      ]
     },
     "execution_count": 27,
     "metadata": {},
     "output_type": "execute_result"
    }
   ],
   "source": [
    "spreadsheet_id = '1uaz1BBc05j4ob_BQ8bOc0DupOgf_Ggibu2498sdyvFI'\n",
    "file_name = 'https://docs.google.com/spreadsheets/d/{}/export?format=csv'.format(spreadsheet_id)\n",
    "r = requests.get(file_name)\n",
    "data_street = pd.read_csv(BytesIO(r.content))\n",
    "data_street.to_csv('data_street.csv')\n",
    "data_street.head()"
   ]
  },
  {
   "cell_type": "code",
   "execution_count": 28,
   "metadata": {},
   "outputs": [
    {
     "data": {
      "text/html": [
       "<div>\n",
       "<style scoped>\n",
       "    .dataframe tbody tr th:only-of-type {\n",
       "        vertical-align: middle;\n",
       "    }\n",
       "\n",
       "    .dataframe tbody tr th {\n",
       "        vertical-align: top;\n",
       "    }\n",
       "\n",
       "    .dataframe thead th {\n",
       "        text-align: right;\n",
       "    }\n",
       "</style>\n",
       "<table border=\"1\" class=\"dataframe\">\n",
       "  <thead>\n",
       "    <tr style=\"text-align: right;\">\n",
       "      <th></th>\n",
       "      <th>street</th>\n",
       "      <th>areaid</th>\n",
       "      <th>okrug</th>\n",
       "      <th>area</th>\n",
       "    </tr>\n",
       "  </thead>\n",
       "  <tbody>\n",
       "    <tr>\n",
       "      <th>0</th>\n",
       "      <td>Выставочный переулок</td>\n",
       "      <td>17</td>\n",
       "      <td>ЦАО</td>\n",
       "      <td>Пресненский район</td>\n",
       "    </tr>\n",
       "    <tr>\n",
       "      <th>1</th>\n",
       "      <td>улица Гашека</td>\n",
       "      <td>17</td>\n",
       "      <td>ЦАО</td>\n",
       "      <td>Пресненский район</td>\n",
       "    </tr>\n",
       "    <tr>\n",
       "      <th>2</th>\n",
       "      <td>Большая Никитская улица</td>\n",
       "      <td>17</td>\n",
       "      <td>ЦАО</td>\n",
       "      <td>Пресненский район</td>\n",
       "    </tr>\n",
       "    <tr>\n",
       "      <th>3</th>\n",
       "      <td>Глубокий переулок</td>\n",
       "      <td>17</td>\n",
       "      <td>ЦАО</td>\n",
       "      <td>Пресненский район</td>\n",
       "    </tr>\n",
       "    <tr>\n",
       "      <th>4</th>\n",
       "      <td>Большой Гнездниковский переулок</td>\n",
       "      <td>17</td>\n",
       "      <td>ЦАО</td>\n",
       "      <td>Пресненский район</td>\n",
       "    </tr>\n",
       "  </tbody>\n",
       "</table>\n",
       "</div>"
      ],
      "text/plain": [
       "                            street  areaid okrug               area\n",
       "0             Выставочный переулок      17   ЦАО  Пресненский район\n",
       "1                     улица Гашека      17   ЦАО  Пресненский район\n",
       "2          Большая Никитская улица      17   ЦАО  Пресненский район\n",
       "3                Глубокий переулок      17   ЦАО  Пресненский район\n",
       "4  Большой Гнездниковский переулок      17   ЦАО  Пресненский район"
      ]
     },
     "execution_count": 28,
     "metadata": {},
     "output_type": "execute_result"
    }
   ],
   "source": [
    "data_street.rename(columns={'streetname':'street'}, inplace=True)\n",
    "data_street['street'] = data_street['street'].str.strip()\n",
    "data_street.head()"
   ]
  },
  {
   "cell_type": "code",
   "execution_count": 29,
   "metadata": {},
   "outputs": [
    {
     "data": {
      "text/html": [
       "<style type=\"text/css\">\n",
       "</style>\n",
       "<table id=\"T_6ad11\">\n",
       "  <caption>Top 10 streets by Moscow districts</caption>\n",
       "  <thead>\n",
       "    <tr>\n",
       "      <th class=\"blank level0\" >&nbsp;</th>\n",
       "      <th id=\"T_6ad11_level0_col0\" class=\"col_heading level0 col0\" >street</th>\n",
       "      <th id=\"T_6ad11_level0_col1\" class=\"col_heading level0 col1\" >area</th>\n",
       "    </tr>\n",
       "  </thead>\n",
       "  <tbody>\n",
       "    <tr>\n",
       "      <th id=\"T_6ad11_level0_row0\" class=\"row_heading level0 row0\" >0</th>\n",
       "      <td id=\"T_6ad11_row0_col0\" class=\"data row0 col0\" >Варшавское шоссе</td>\n",
       "      <td id=\"T_6ad11_row0_col1\" class=\"data row0 col1\" >Район Чертаново Центральное, Район Чертаново Северное, Район Чертаново Южное, Донской район, Район Нагатино-Садовники, Нагорный район, Район Северное Бутово, Район Южное Бутово</td>\n",
       "    </tr>\n",
       "    <tr>\n",
       "      <th id=\"T_6ad11_level0_row1\" class=\"row_heading level0 row1\" >1</th>\n",
       "      <td id=\"T_6ad11_row1_col0\" class=\"data row1 col0\" >Каширское шоссе</td>\n",
       "      <td id=\"T_6ad11_row1_col1\" class=\"data row1 col1\" >Район Москворечье-Сабурово, Район Нагатино-Садовники, Район Орехово-Борисово Южное, Район Орехово-Борисово Северное</td>\n",
       "    </tr>\n",
       "    <tr>\n",
       "      <th id=\"T_6ad11_level0_row2\" class=\"row_heading level0 row2\" >2</th>\n",
       "      <td id=\"T_6ad11_row2_col0\" class=\"data row2 col0\" >Кировоградская улица</td>\n",
       "      <td id=\"T_6ad11_row2_col1\" class=\"data row2 col1\" >Район Чертаново Центральное, Район Чертаново Северное, Район Чертаново Южное</td>\n",
       "    </tr>\n",
       "    <tr>\n",
       "      <th id=\"T_6ad11_level0_row3\" class=\"row_heading level0 row3\" >3</th>\n",
       "      <td id=\"T_6ad11_row3_col0\" class=\"data row3 col0\" >Кутузовский проспект</td>\n",
       "      <td id=\"T_6ad11_row3_col1\" class=\"data row3 col1\" >Район Дорогомилово, Район Фили-Давыдково</td>\n",
       "    </tr>\n",
       "    <tr>\n",
       "      <th id=\"T_6ad11_level0_row4\" class=\"row_heading level0 row4\" >4</th>\n",
       "      <td id=\"T_6ad11_row4_col0\" class=\"data row4 col0\" >Ленинградский проспект</td>\n",
       "      <td id=\"T_6ad11_row4_col1\" class=\"data row4 col1\" >Район Аэропорт, Район Беговой, Хорошевский район, Район Сокол</td>\n",
       "    </tr>\n",
       "    <tr>\n",
       "      <th id=\"T_6ad11_level0_row5\" class=\"row_heading level0 row5\" >5</th>\n",
       "      <td id=\"T_6ad11_row5_col0\" class=\"data row5 col0\" >Ленинский проспект</td>\n",
       "      <td id=\"T_6ad11_row5_col1\" class=\"data row5 col1\" >Район Проспект Вернадского, Район Тропарево-Никулино, Донской район, Район Гагаринский, Ломоносовский район, Обручевский район, Район Теплый Стан, Район Якиманка</td>\n",
       "    </tr>\n",
       "    <tr>\n",
       "      <th id=\"T_6ad11_level0_row6\" class=\"row_heading level0 row6\" >6</th>\n",
       "      <td id=\"T_6ad11_row6_col0\" class=\"data row6 col0\" >Пресненская набережная</td>\n",
       "      <td id=\"T_6ad11_row6_col1\" class=\"data row6 col1\" >Пресненский район</td>\n",
       "    </tr>\n",
       "    <tr>\n",
       "      <th id=\"T_6ad11_level0_row7\" class=\"row_heading level0 row7\" >7</th>\n",
       "      <td id=\"T_6ad11_row7_col0\" class=\"data row7 col0\" >Профсоюзная улица</td>\n",
       "      <td id=\"T_6ad11_row7_col1\" class=\"data row7 col1\" >Академический район, Район Черемушки, Район Ясенево, Район Коньково, Обручевский район, Район Теплый Стан</td>\n",
       "    </tr>\n",
       "    <tr>\n",
       "      <th id=\"T_6ad11_level0_row8\" class=\"row_heading level0 row8\" >8</th>\n",
       "      <td id=\"T_6ad11_row8_col0\" class=\"data row8 col0\" >проспект Вернадского</td>\n",
       "      <td id=\"T_6ad11_row8_col1\" class=\"data row8 col1\" >Район Проспект Вернадского, Район Раменки, Район Тропарево-Никулино, Район Гагаринский, Ломоносовский район</td>\n",
       "    </tr>\n",
       "    <tr>\n",
       "      <th id=\"T_6ad11_level0_row9\" class=\"row_heading level0 row9\" >9</th>\n",
       "      <td id=\"T_6ad11_row9_col0\" class=\"data row9 col0\" >проспект Мира</td>\n",
       "      <td id=\"T_6ad11_row9_col1\" class=\"data row9 col1\" >Алексеевский район, Ярославский Район, Район Марьина роща, Останкинский район, Район Ростокино, Район Свиблово, Мещанский район</td>\n",
       "    </tr>\n",
       "  </tbody>\n",
       "</table>\n"
      ],
      "text/plain": [
       "<pandas.io.formats.style.Styler at 0x1f07aeee8e0>"
      ]
     },
     "execution_count": 29,
     "metadata": {},
     "output_type": "execute_result"
    }
   ],
   "source": [
    "top10_area = top10_location.merge(data_street, how='left')\n",
    "top10_area = top10_area.groupby('street').agg({'area':lambda x: ', '.join(x)}).reset_index()\n",
    "top10_area.style.set_caption('Top 10 streets by Moscow districts')"
   ]
  },
  {
   "cell_type": "markdown",
   "metadata": {},
   "source": [
    "The most “populated” streets in Moscow were Prospect Mira, Profsoyuznaya Street and Leningradsky Prospekt - 204, 183 and 173 establishments, respectively. These streets are known as districts in the center of Moscow, although they are located throughout several districts."
   ]
  },
  {
   "cell_type": "code",
   "execution_count": 30,
   "metadata": {},
   "outputs": [
    {
     "data": {
      "text/html": [
       "<div>\n",
       "<style scoped>\n",
       "    .dataframe tbody tr th:only-of-type {\n",
       "        vertical-align: middle;\n",
       "    }\n",
       "\n",
       "    .dataframe tbody tr th {\n",
       "        vertical-align: top;\n",
       "    }\n",
       "\n",
       "    .dataframe thead th {\n",
       "        text-align: right;\n",
       "    }\n",
       "</style>\n",
       "<table border=\"1\" class=\"dataframe\">\n",
       "  <thead>\n",
       "    <tr style=\"text-align: right;\">\n",
       "      <th></th>\n",
       "      <th>street</th>\n",
       "      <th>number_of_object</th>\n",
       "    </tr>\n",
       "  </thead>\n",
       "  <tbody>\n",
       "    <tr>\n",
       "      <th>1379</th>\n",
       "      <td>улица Фонвизина</td>\n",
       "      <td>1</td>\n",
       "    </tr>\n",
       "    <tr>\n",
       "      <th>1380</th>\n",
       "      <td>1-й Тушинский проезд</td>\n",
       "      <td>1</td>\n",
       "    </tr>\n",
       "    <tr>\n",
       "      <th>1381</th>\n",
       "      <td>Большой Строченовский переулок</td>\n",
       "      <td>1</td>\n",
       "    </tr>\n",
       "    <tr>\n",
       "      <th>1382</th>\n",
       "      <td>1-й Вешняковский проезд</td>\n",
       "      <td>1</td>\n",
       "    </tr>\n",
       "    <tr>\n",
       "      <th>1383</th>\n",
       "      <td>1-й проезд Марьиной Рощи</td>\n",
       "      <td>1</td>\n",
       "    </tr>\n",
       "  </tbody>\n",
       "</table>\n",
       "</div>"
      ],
      "text/plain": [
       "                              street  number_of_object\n",
       "1379                 улица Фонвизина                 1\n",
       "1380            1-й Тушинский проезд                 1\n",
       "1381  Большой Строченовский переулок                 1\n",
       "1382         1-й Вешняковский проезд                 1\n",
       "1383        1-й проезд Марьиной Рощи                 1"
      ]
     },
     "execution_count": 30,
     "metadata": {},
     "output_type": "execute_result"
    }
   ],
   "source": [
    "count = rest_data.groupby(['street']).agg({'object_name':'count'}).sort_values(by='object_name',ascending=False).reset_index()\n",
    "count.columns = ['street', 'number_of_object']\n",
    "location_1 = count.query('number_of_object == 1')\n",
    "location_1.head()"
   ]
  },
  {
   "cell_type": "code",
   "execution_count": 31,
   "metadata": {
    "scrolled": false
   },
   "outputs": [
    {
     "data": {
      "text/html": [
       "<style type=\"text/css\">\n",
       "</style>\n",
       "<table id=\"T_9641a\">\n",
       "  <caption>Names of districts with number of establishments 1</caption>\n",
       "  <thead>\n",
       "    <tr>\n",
       "      <th class=\"blank level0\" >&nbsp;</th>\n",
       "      <th id=\"T_9641a_level0_col0\" class=\"col_heading level0 col0\" >street</th>\n",
       "    </tr>\n",
       "    <tr>\n",
       "      <th class=\"index_name level0\" >area</th>\n",
       "      <th class=\"blank col0\" >&nbsp;</th>\n",
       "    </tr>\n",
       "  </thead>\n",
       "  <tbody>\n",
       "    <tr>\n",
       "      <th id=\"T_9641a_level0_row0\" class=\"row_heading level0 row0\" >Таганский район</th>\n",
       "      <td id=\"T_9641a_row0_col0\" class=\"data row0 col0\" >25</td>\n",
       "    </tr>\n",
       "    <tr>\n",
       "      <th id=\"T_9641a_level0_row1\" class=\"row_heading level0 row1\" >Басманный район</th>\n",
       "      <td id=\"T_9641a_row1_col0\" class=\"data row1 col0\" >23</td>\n",
       "    </tr>\n",
       "    <tr>\n",
       "      <th id=\"T_9641a_level0_row2\" class=\"row_heading level0 row2\" >Район Хамовники</th>\n",
       "      <td id=\"T_9641a_row2_col0\" class=\"data row2 col0\" >22</td>\n",
       "    </tr>\n",
       "    <tr>\n",
       "      <th id=\"T_9641a_level0_row3\" class=\"row_heading level0 row3\" >Тверской район</th>\n",
       "      <td id=\"T_9641a_row3_col0\" class=\"data row3 col0\" >19</td>\n",
       "    </tr>\n",
       "    <tr>\n",
       "      <th id=\"T_9641a_level0_row4\" class=\"row_heading level0 row4\" >Район Марьина роща</th>\n",
       "      <td id=\"T_9641a_row4_col0\" class=\"data row4 col0\" >16</td>\n",
       "    </tr>\n",
       "    <tr>\n",
       "      <th id=\"T_9641a_level0_row5\" class=\"row_heading level0 row5\" >Район Сокольники</th>\n",
       "      <td id=\"T_9641a_row5_col0\" class=\"data row5 col0\" >15</td>\n",
       "    </tr>\n",
       "    <tr>\n",
       "      <th id=\"T_9641a_level0_row6\" class=\"row_heading level0 row6\" >Пресненский район</th>\n",
       "      <td id=\"T_9641a_row6_col0\" class=\"data row6 col0\" >15</td>\n",
       "    </tr>\n",
       "    <tr>\n",
       "      <th id=\"T_9641a_level0_row7\" class=\"row_heading level0 row7\" >Мещанский район</th>\n",
       "      <td id=\"T_9641a_row7_col0\" class=\"data row7 col0\" >12</td>\n",
       "    </tr>\n",
       "    <tr>\n",
       "      <th id=\"T_9641a_level0_row8\" class=\"row_heading level0 row8\" >Район Замоскворечье</th>\n",
       "      <td id=\"T_9641a_row8_col0\" class=\"data row8 col0\" >12</td>\n",
       "    </tr>\n",
       "    <tr>\n",
       "      <th id=\"T_9641a_level0_row9\" class=\"row_heading level0 row9\" >Район Лефортово</th>\n",
       "      <td id=\"T_9641a_row9_col0\" class=\"data row9 col0\" >11</td>\n",
       "    </tr>\n",
       "  </tbody>\n",
       "</table>\n"
      ],
      "text/plain": [
       "<pandas.io.formats.style.Styler at 0x1f07aeeeb50>"
      ]
     },
     "execution_count": 31,
     "metadata": {},
     "output_type": "execute_result"
    }
   ],
   "source": [
    "location_1_area = location_1.merge(data_street, how='left')\n",
    "location_1_area.dropna(subset=['area'], inplace=True)\n",
    "location_1_area = location_1_area.groupby('street').agg({'area':lambda x: ','.join(x)}).reset_index()\n",
    "location_1_area = location_1_area.groupby('area').agg({'street' : 'count'}).sort_values(by='street', ascending=False).head(10)\n",
    "location_1_area.style.set_caption('Names of districts with number of establishments 1')"
   ]
  },
  {
   "cell_type": "markdown",
   "metadata": {},
   "source": [
    "There are about 500 streets with one food establishment in the data set. At a time when they are located both in the center of Moscow and on the outskirts (for example, Altufyevo, Yuzhnoye Butovo, etc.)"
   ]
  },
  {
   "cell_type": "code",
   "execution_count": 32,
   "metadata": {},
   "outputs": [
    {
     "data": {
      "text/html": [
       "<div>\n",
       "<style scoped>\n",
       "    .dataframe tbody tr th:only-of-type {\n",
       "        vertical-align: middle;\n",
       "    }\n",
       "\n",
       "    .dataframe tbody tr th {\n",
       "        vertical-align: top;\n",
       "    }\n",
       "\n",
       "    .dataframe thead th {\n",
       "        text-align: right;\n",
       "    }\n",
       "</style>\n",
       "<table border=\"1\" class=\"dataframe\">\n",
       "  <thead>\n",
       "    <tr style=\"text-align: right;\">\n",
       "      <th></th>\n",
       "      <th>id</th>\n",
       "      <th>object_name</th>\n",
       "      <th>chain</th>\n",
       "      <th>object_type</th>\n",
       "      <th>address</th>\n",
       "      <th>number</th>\n",
       "      <th>street</th>\n",
       "    </tr>\n",
       "  </thead>\n",
       "  <tbody>\n",
       "    <tr>\n",
       "      <th>151</th>\n",
       "      <td>155973</td>\n",
       "      <td>Кафе «Андерсон»</td>\n",
       "      <td>Сетевое</td>\n",
       "      <td>кафе</td>\n",
       "      <td>город Москва, Варшавское шоссе, дом 2</td>\n",
       "      <td>150</td>\n",
       "      <td>Варшавское шоссе</td>\n",
       "    </tr>\n",
       "    <tr>\n",
       "      <th>152</th>\n",
       "      <td>23618</td>\n",
       "      <td>Кафе «Subway»</td>\n",
       "      <td>Сетевое</td>\n",
       "      <td>кафе</td>\n",
       "      <td>город Москва, Варшавское шоссе, дом 7, корпус 1</td>\n",
       "      <td>36</td>\n",
       "      <td>Варшавское шоссе</td>\n",
       "    </tr>\n",
       "    <tr>\n",
       "      <th>153</th>\n",
       "      <td>155852</td>\n",
       "      <td>Кафе «Ламаджо»</td>\n",
       "      <td>Несетевое</td>\n",
       "      <td>кафе</td>\n",
       "      <td>город Москва, Варшавское шоссе, дом 29</td>\n",
       "      <td>30</td>\n",
       "      <td>Варшавское шоссе</td>\n",
       "    </tr>\n",
       "    <tr>\n",
       "      <th>154</th>\n",
       "      <td>152556</td>\n",
       "      <td>Шаурма в пите</td>\n",
       "      <td>Несетевое</td>\n",
       "      <td>предприятие быстрого обслуживания</td>\n",
       "      <td>город Москва, Варшавское шоссе, дом 72, корпус 2</td>\n",
       "      <td>0</td>\n",
       "      <td>Варшавское шоссе</td>\n",
       "    </tr>\n",
       "    <tr>\n",
       "      <th>155</th>\n",
       "      <td>120658</td>\n",
       "      <td>Выпечка</td>\n",
       "      <td>Несетевое</td>\n",
       "      <td>кафетерий</td>\n",
       "      <td>город Москва, Варшавское шоссе, дом 100</td>\n",
       "      <td>2</td>\n",
       "      <td>Варшавское шоссе</td>\n",
       "    </tr>\n",
       "    <tr>\n",
       "      <th>...</th>\n",
       "      <td>...</td>\n",
       "      <td>...</td>\n",
       "      <td>...</td>\n",
       "      <td>...</td>\n",
       "      <td>...</td>\n",
       "      <td>...</td>\n",
       "      <td>...</td>\n",
       "    </tr>\n",
       "    <tr>\n",
       "      <th>15308</th>\n",
       "      <td>213629</td>\n",
       "      <td>ДОДО пицца</td>\n",
       "      <td>Сетевое</td>\n",
       "      <td>кафе</td>\n",
       "      <td>город Москва, Пресненская набережная, дом 12</td>\n",
       "      <td>25</td>\n",
       "      <td>Пресненская набережная</td>\n",
       "    </tr>\n",
       "    <tr>\n",
       "      <th>15325</th>\n",
       "      <td>198436</td>\n",
       "      <td>Милти</td>\n",
       "      <td>Сетевое</td>\n",
       "      <td>предприятие быстрого обслуживания</td>\n",
       "      <td>город Москва, Ленинградский проспект, дом 80, ...</td>\n",
       "      <td>0</td>\n",
       "      <td>Ленинградский проспект</td>\n",
       "    </tr>\n",
       "    <tr>\n",
       "      <th>15347</th>\n",
       "      <td>222491</td>\n",
       "      <td>Кальянная «Мята Lounge»</td>\n",
       "      <td>Сетевое</td>\n",
       "      <td>кафе</td>\n",
       "      <td>город Москва, Профсоюзная улица, дом 142, корп...</td>\n",
       "      <td>40</td>\n",
       "      <td>Профсоюзная улица</td>\n",
       "    </tr>\n",
       "    <tr>\n",
       "      <th>15350</th>\n",
       "      <td>213061</td>\n",
       "      <td>Мята</td>\n",
       "      <td>Сетевое</td>\n",
       "      <td>кафетерий</td>\n",
       "      <td>город Москва, Каширское шоссе, дом 96, корпус 1</td>\n",
       "      <td>35</td>\n",
       "      <td>Каширское шоссе</td>\n",
       "    </tr>\n",
       "    <tr>\n",
       "      <th>15358</th>\n",
       "      <td>213724</td>\n",
       "      <td>Шоколадница</td>\n",
       "      <td>Сетевое</td>\n",
       "      <td>кафе</td>\n",
       "      <td>город Москва, Варшавское шоссе, дом 87Б</td>\n",
       "      <td>54</td>\n",
       "      <td>Варшавское шоссе</td>\n",
       "    </tr>\n",
       "  </tbody>\n",
       "</table>\n",
       "<p>1505 rows × 7 columns</p>\n",
       "</div>"
      ],
      "text/plain": [
       "           id              object_name      chain  \\\n",
       "151    155973          Кафе «Андерсон»    Сетевое   \n",
       "152     23618            Кафе «Subway»    Сетевое   \n",
       "153    155852           Кафе «Ламаджо»  Несетевое   \n",
       "154    152556            Шаурма в пите  Несетевое   \n",
       "155    120658                  Выпечка  Несетевое   \n",
       "...       ...                      ...        ...   \n",
       "15308  213629               ДОДО пицца    Сетевое   \n",
       "15325  198436                    Милти    Сетевое   \n",
       "15347  222491  Кальянная «Мята Lounge»    Сетевое   \n",
       "15350  213061                     Мята    Сетевое   \n",
       "15358  213724              Шоколадница    Сетевое   \n",
       "\n",
       "                             object_type  \\\n",
       "151                                 кафе   \n",
       "152                                 кафе   \n",
       "153                                 кафе   \n",
       "154    предприятие быстрого обслуживания   \n",
       "155                            кафетерий   \n",
       "...                                  ...   \n",
       "15308                               кафе   \n",
       "15325  предприятие быстрого обслуживания   \n",
       "15347                               кафе   \n",
       "15350                          кафетерий   \n",
       "15358                               кафе   \n",
       "\n",
       "                                                 address  number  \\\n",
       "151                город Москва, Варшавское шоссе, дом 2     150   \n",
       "152      город Москва, Варшавское шоссе, дом 7, корпус 1      36   \n",
       "153               город Москва, Варшавское шоссе, дом 29      30   \n",
       "154     город Москва, Варшавское шоссе, дом 72, корпус 2       0   \n",
       "155              город Москва, Варшавское шоссе, дом 100       2   \n",
       "...                                                  ...     ...   \n",
       "15308       город Москва, Пресненская набережная, дом 12      25   \n",
       "15325  город Москва, Ленинградский проспект, дом 80, ...       0   \n",
       "15347  город Москва, Профсоюзная улица, дом 142, корп...      40   \n",
       "15350    город Москва, Каширское шоссе, дом 96, корпус 1      35   \n",
       "15358            город Москва, Варшавское шоссе, дом 87Б      54   \n",
       "\n",
       "                       street  \n",
       "151          Варшавское шоссе  \n",
       "152          Варшавское шоссе  \n",
       "153          Варшавское шоссе  \n",
       "154          Варшавское шоссе  \n",
       "155          Варшавское шоссе  \n",
       "...                       ...  \n",
       "15308  Пресненская набережная  \n",
       "15325  Ленинградский проспект  \n",
       "15347       Профсоюзная улица  \n",
       "15350         Каширское шоссе  \n",
       "15358        Варшавское шоссе  \n",
       "\n",
       "[1505 rows x 7 columns]"
      ]
     },
     "execution_count": 32,
     "metadata": {},
     "output_type": "execute_result"
    }
   ],
   "source": [
    "top10 = top10_location['street']\n",
    "top10_number = rest_data.query('street in @top10')\n",
    "top10_number"
   ]
  },
  {
   "cell_type": "code",
   "execution_count": 33,
   "metadata": {},
   "outputs": [
    {
     "data": {
      "application/vnd.plotly.v1+json": {
       "config": {
        "plotlyServerURL": "https://plot.ly"
       },
       "data": [
        {
         "alignmentgroup": "True",
         "hovertemplate": "street=%{x}<br>number=%{y}<extra></extra>",
         "legendgroup": "",
         "marker": {
          "color": "#636efa",
          "line": {
           "color": "green"
          }
         },
         "name": "",
         "notched": false,
         "offsetgroup": "",
         "orientation": "v",
         "showlegend": false,
         "type": "box",
         "x": [
          "Варшавское шоссе",
          "Варшавское шоссе",
          "Варшавское шоссе",
          "Варшавское шоссе",
          "Варшавское шоссе",
          "Варшавское шоссе",
          "проспект Вернадского",
          "проспект Вернадского",
          "проспект Вернадского",
          "проспект Вернадского",
          "проспект Вернадского",
          "проспект Вернадского",
          "проспект Вернадского",
          "проспект Вернадского",
          "проспект Вернадского",
          "проспект Вернадского",
          "проспект Вернадского",
          "проспект Вернадского",
          "проспект Вернадского",
          "Кутузовский проспект",
          "Каширское шоссе",
          "Каширское шоссе",
          "Каширское шоссе",
          "Каширское шоссе",
          "Каширское шоссе",
          "Кировоградская улица",
          "Кировоградская улица",
          "Кировоградская улица",
          "Кутузовский проспект",
          "Кутузовский проспект",
          "Кутузовский проспект",
          "Кутузовский проспект",
          "Кутузовский проспект",
          "Кутузовский проспект",
          "Кутузовский проспект",
          "Кутузовский проспект",
          "Кутузовский проспект",
          "Кутузовский проспект",
          "Ленинградский проспект",
          "Ленинградский проспект",
          "Ленинградский проспект",
          "Ленинградский проспект",
          "Ленинградский проспект",
          "Ленинградский проспект",
          "Ленинградский проспект",
          "Ленинградский проспект",
          "Ленинградский проспект",
          "Ленинградский проспект",
          "Ленинградский проспект",
          "Ленинградский проспект",
          "Ленинградский проспект",
          "Ленинградский проспект",
          "Ленинградский проспект",
          "Ленинградский проспект",
          "Ленинградский проспект",
          "Ленинградский проспект",
          "Ленинградский проспект",
          "Ленинградский проспект",
          "Ленинградский проспект",
          "Ленинградский проспект",
          "Ленинградский проспект",
          "Ленинградский проспект",
          "Ленинградский проспект",
          "Ленинградский проспект",
          "Ленинградский проспект",
          "Ленинский проспект",
          "Ленинский проспект",
          "Ленинский проспект",
          "Ленинский проспект",
          "Ленинский проспект",
          "Ленинский проспект",
          "Ленинский проспект",
          "Ленинский проспект",
          "Ленинский проспект",
          "Ленинский проспект",
          "Ленинский проспект",
          "Ленинский проспект",
          "Ленинский проспект",
          "Ленинский проспект",
          "Ленинский проспект",
          "Ленинский проспект",
          "Ленинский проспект",
          "Ленинский проспект",
          "Ленинский проспект",
          "Ленинский проспект",
          "Ленинский проспект",
          "Ленинский проспект",
          "Ленинский проспект",
          "Ленинский проспект",
          "Ленинский проспект",
          "Ленинский проспект",
          "Ленинский проспект",
          "проспект Мира",
          "проспект Мира",
          "проспект Мира",
          "проспект Мира",
          "проспект Мира",
          "проспект Мира",
          "проспект Мира",
          "проспект Мира",
          "проспект Мира",
          "проспект Мира",
          "проспект Мира",
          "проспект Мира",
          "проспект Мира",
          "проспект Мира",
          "проспект Мира",
          "проспект Мира",
          "проспект Мира",
          "проспект Мира",
          "проспект Мира",
          "проспект Мира",
          "проспект Мира",
          "проспект Мира",
          "проспект Мира",
          "проспект Мира",
          "проспект Мира",
          "проспект Мира",
          "проспект Мира",
          "проспект Мира",
          "проспект Мира",
          "проспект Мира",
          "Профсоюзная улица",
          "Профсоюзная улица",
          "Профсоюзная улица",
          "Профсоюзная улица",
          "Профсоюзная улица",
          "Профсоюзная улица",
          "Профсоюзная улица",
          "Профсоюзная улица",
          "Профсоюзная улица",
          "Профсоюзная улица",
          "Профсоюзная улица",
          "Профсоюзная улица",
          "Профсоюзная улица",
          "Профсоюзная улица",
          "Профсоюзная улица",
          "проспект Мира",
          "Ленинградский проспект",
          "Профсоюзная улица",
          "Ленинский проспект",
          "Ленинский проспект",
          "проспект Мира",
          "проспект Мира",
          "проспект Мира",
          "проспект Мира",
          "проспект Вернадского",
          "проспект Вернадского",
          "Кутузовский проспект",
          "Кутузовский проспект",
          "Кутузовский проспект",
          "Ленинградский проспект",
          "Ленинградский проспект",
          "Ленинградский проспект",
          "Каширское шоссе",
          "Варшавское шоссе",
          "Варшавское шоссе",
          "Варшавское шоссе",
          "Профсоюзная улица",
          "Профсоюзная улица",
          "Профсоюзная улица",
          "Профсоюзная улица",
          "Профсоюзная улица",
          "Профсоюзная улица",
          "Профсоюзная улица",
          "Профсоюзная улица",
          "Ленинский проспект",
          "Профсоюзная улица",
          "проспект Вернадского",
          "Ленинградский проспект",
          "Ленинградский проспект",
          "Ленинградский проспект",
          "Ленинский проспект",
          "проспект Мира",
          "проспект Мира",
          "Профсоюзная улица",
          "Ленинский проспект",
          "Ленинский проспект",
          "Ленинский проспект",
          "Ленинский проспект",
          "Ленинский проспект",
          "Ленинский проспект",
          "Ленинский проспект",
          "Ленинский проспект",
          "Ленинский проспект",
          "Ленинский проспект",
          "Ленинский проспект",
          "Ленинский проспект",
          "Ленинский проспект",
          "Ленинский проспект",
          "проспект Вернадского",
          "проспект Вернадского",
          "проспект Вернадского",
          "проспект Вернадского",
          "проспект Вернадского",
          "проспект Вернадского",
          "Ленинский проспект",
          "Ленинский проспект",
          "Ленинский проспект",
          "Ленинский проспект",
          "Ленинский проспект",
          "Ленинградский проспект",
          "Варшавское шоссе",
          "Варшавское шоссе",
          "Варшавское шоссе",
          "Варшавское шоссе",
          "Варшавское шоссе",
          "Варшавское шоссе",
          "Варшавское шоссе",
          "Варшавское шоссе",
          "Варшавское шоссе",
          "Варшавское шоссе",
          "Варшавское шоссе",
          "Кировоградская улица",
          "Кировоградская улица",
          "Кировоградская улица",
          "Кировоградская улица",
          "Кировоградская улица",
          "Кировоградская улица",
          "Кировоградская улица",
          "Кировоградская улица",
          "Кировоградская улица",
          "Профсоюзная улица",
          "Профсоюзная улица",
          "Профсоюзная улица",
          "Профсоюзная улица",
          "Профсоюзная улица",
          "Профсоюзная улица",
          "Профсоюзная улица",
          "Ленинский проспект",
          "Профсоюзная улица",
          "Профсоюзная улица",
          "Ленинский проспект",
          "Ленинский проспект",
          "проспект Вернадского",
          "проспект Вернадского",
          "проспект Вернадского",
          "проспект Вернадского",
          "проспект Вернадского",
          "Ленинский проспект",
          "Ленинский проспект",
          "Ленинский проспект",
          "Ленинский проспект",
          "Ленинский проспект",
          "Ленинский проспект",
          "Ленинский проспект",
          "проспект Вернадского",
          "Ленинский проспект",
          "Ленинский проспект",
          "Ленинский проспект",
          "Профсоюзная улица",
          "Профсоюзная улица",
          "Профсоюзная улица",
          "Ленинский проспект",
          "Ленинский проспект",
          "Ленинский проспект",
          "Ленинский проспект",
          "Ленинский проспект",
          "Ленинский проспект",
          "проспект Вернадского",
          "проспект Вернадского",
          "проспект Вернадского",
          "проспект Вернадского",
          "проспект Вернадского",
          "проспект Вернадского",
          "проспект Вернадского",
          "проспект Вернадского",
          "проспект Вернадского",
          "Ленинградский проспект",
          "Ленинградский проспект",
          "Ленинградский проспект",
          "Ленинградский проспект",
          "Ленинградский проспект",
          "Ленинградский проспект",
          "Ленинградский проспект",
          "Ленинградский проспект",
          "Ленинградский проспект",
          "Ленинградский проспект",
          "Ленинградский проспект",
          "Ленинградский проспект",
          "Ленинградский проспект",
          "Ленинградский проспект",
          "Ленинградский проспект",
          "Ленинградский проспект",
          "Ленинградский проспект",
          "Ленинградский проспект",
          "Ленинградский проспект",
          "Ленинградский проспект",
          "проспект Вернадского",
          "Ленинградский проспект",
          "Ленинградский проспект",
          "Ленинградский проспект",
          "Ленинградский проспект",
          "Ленинградский проспект",
          "Ленинградский проспект",
          "Ленинградский проспект",
          "Ленинградский проспект",
          "Ленинградский проспект",
          "Каширское шоссе",
          "Каширское шоссе",
          "Каширское шоссе",
          "Каширское шоссе",
          "Каширское шоссе",
          "Каширское шоссе",
          "Варшавское шоссе",
          "Каширское шоссе",
          "Каширское шоссе",
          "Каширское шоссе",
          "Каширское шоссе",
          "Каширское шоссе",
          "Варшавское шоссе",
          "Каширское шоссе",
          "Варшавское шоссе",
          "проспект Мира",
          "проспект Мира",
          "проспект Мира",
          "проспект Мира",
          "проспект Мира",
          "проспект Мира",
          "проспект Мира",
          "проспект Мира",
          "проспект Мира",
          "проспект Мира",
          "проспект Мира",
          "проспект Мира",
          "проспект Мира",
          "проспект Мира",
          "проспект Мира",
          "проспект Мира",
          "проспект Мира",
          "проспект Мира",
          "проспект Мира",
          "проспект Мира",
          "проспект Мира",
          "проспект Мира",
          "проспект Мира",
          "проспект Мира",
          "проспект Мира",
          "проспект Мира",
          "проспект Мира",
          "проспект Мира",
          "проспект Мира",
          "проспект Мира",
          "проспект Мира",
          "Кутузовский проспект",
          "Кутузовский проспект",
          "Кутузовский проспект",
          "Кутузовский проспект",
          "Кутузовский проспект",
          "Кутузовский проспект",
          "Кутузовский проспект",
          "Кутузовский проспект",
          "Кутузовский проспект",
          "Кутузовский проспект",
          "Варшавское шоссе",
          "Каширское шоссе",
          "Варшавское шоссе",
          "Каширское шоссе",
          "проспект Вернадского",
          "проспект Вернадского",
          "проспект Вернадского",
          "Ленинградский проспект",
          "Ленинградский проспект",
          "Ленинградский проспект",
          "Ленинградский проспект",
          "Ленинградский проспект",
          "проспект Мира",
          "проспект Мира",
          "Ленинградский проспект",
          "Ленинградский проспект",
          "Ленинградский проспект",
          "проспект Мира",
          "проспект Мира",
          "проспект Мира",
          "проспект Мира",
          "проспект Мира",
          "проспект Мира",
          "проспект Мира",
          "проспект Мира",
          "проспект Мира",
          "проспект Мира",
          "проспект Мира",
          "проспект Мира",
          "проспект Мира",
          "проспект Мира",
          "проспект Мира",
          "проспект Мира",
          "проспект Мира",
          "проспект Мира",
          "проспект Мира",
          "проспект Мира",
          "проспект Мира",
          "проспект Мира",
          "проспект Мира",
          "проспект Мира",
          "проспект Мира",
          "проспект Мира",
          "проспект Мира",
          "проспект Мира",
          "проспект Мира",
          "проспект Мира",
          "проспект Мира",
          "проспект Мира",
          "проспект Мира",
          "проспект Мира",
          "проспект Мира",
          "проспект Мира",
          "проспект Мира",
          "проспект Мира",
          "проспект Мира",
          "проспект Мира",
          "проспект Мира",
          "проспект Мира",
          "проспект Мира",
          "проспект Мира",
          "проспект Мира",
          "проспект Мира",
          "проспект Мира",
          "проспект Мира",
          "проспект Мира",
          "проспект Мира",
          "проспект Мира",
          "проспект Мира",
          "проспект Мира",
          "проспект Мира",
          "проспект Мира",
          "проспект Мира",
          "проспект Мира",
          "проспект Мира",
          "проспект Мира",
          "проспект Мира",
          "Ленинский проспект",
          "Профсоюзная улица",
          "Ленинский проспект",
          "Профсоюзная улица",
          "Ленинский проспект",
          "Профсоюзная улица",
          "Профсоюзная улица",
          "Профсоюзная улица",
          "Профсоюзная улица",
          "Профсоюзная улица",
          "Профсоюзная улица",
          "Профсоюзная улица",
          "Профсоюзная улица",
          "Ленинский проспект",
          "Профсоюзная улица",
          "Профсоюзная улица",
          "Профсоюзная улица",
          "Профсоюзная улица",
          "Профсоюзная улица",
          "Профсоюзная улица",
          "Профсоюзная улица",
          "Профсоюзная улица",
          "Профсоюзная улица",
          "Профсоюзная улица",
          "Профсоюзная улица",
          "Профсоюзная улица",
          "Профсоюзная улица",
          "Профсоюзная улица",
          "Профсоюзная улица",
          "Профсоюзная улица",
          "Профсоюзная улица",
          "Профсоюзная улица",
          "Профсоюзная улица",
          "Профсоюзная улица",
          "Профсоюзная улица",
          "Профсоюзная улица",
          "Профсоюзная улица",
          "Профсоюзная улица",
          "Профсоюзная улица",
          "Профсоюзная улица",
          "Профсоюзная улица",
          "Профсоюзная улица",
          "Профсоюзная улица",
          "Профсоюзная улица",
          "Профсоюзная улица",
          "Профсоюзная улица",
          "Профсоюзная улица",
          "Профсоюзная улица",
          "Ленинский проспект",
          "Ленинский проспект",
          "Ленинский проспект",
          "Ленинский проспект",
          "Ленинский проспект",
          "Ленинский проспект",
          "Ленинский проспект",
          "Ленинский проспект",
          "Ленинский проспект",
          "Ленинский проспект",
          "Ленинский проспект",
          "Профсоюзная улица",
          "Профсоюзная улица",
          "Профсоюзная улица",
          "Варшавское шоссе",
          "Варшавское шоссе",
          "Профсоюзная улица",
          "Профсоюзная улица",
          "Профсоюзная улица",
          "Профсоюзная улица",
          "Профсоюзная улица",
          "Профсоюзная улица",
          "проспект Вернадского",
          "проспект Вернадского",
          "проспект Вернадского",
          "проспект Вернадского",
          "проспект Вернадского",
          "проспект Вернадского",
          "проспект Вернадского",
          "проспект Вернадского",
          "проспект Вернадского",
          "проспект Вернадского",
          "проспект Вернадского",
          "проспект Вернадского",
          "проспект Вернадского",
          "проспект Вернадского",
          "Ленинский проспект",
          "Ленинский проспект",
          "Ленинский проспект",
          "Ленинский проспект",
          "Ленинский проспект",
          "проспект Вернадского",
          "проспект Вернадского",
          "проспект Вернадского",
          "проспект Вернадского",
          "проспект Вернадского",
          "проспект Вернадского",
          "проспект Вернадского",
          "проспект Вернадского",
          "проспект Вернадского",
          "проспект Вернадского",
          "проспект Вернадского",
          "проспект Вернадского",
          "проспект Вернадского",
          "проспект Вернадского",
          "проспект Вернадского",
          "проспект Вернадского",
          "проспект Вернадского",
          "проспект Вернадского",
          "проспект Вернадского",
          "проспект Вернадского",
          "проспект Вернадского",
          "проспект Вернадского",
          "проспект Вернадского",
          "проспект Вернадского",
          "проспект Вернадского",
          "проспект Вернадского",
          "проспект Вернадского",
          "Кутузовский проспект",
          "Кутузовский проспект",
          "Кутузовский проспект",
          "Кутузовский проспект",
          "Кутузовский проспект",
          "Кутузовский проспект",
          "Кутузовский проспект",
          "Кутузовский проспект",
          "Кутузовский проспект",
          "Кутузовский проспект",
          "Кутузовский проспект",
          "Кутузовский проспект",
          "Кутузовский проспект",
          "Кутузовский проспект",
          "Кутузовский проспект",
          "Кутузовский проспект",
          "Кутузовский проспект",
          "Кутузовский проспект",
          "Кутузовский проспект",
          "Кутузовский проспект",
          "Кутузовский проспект",
          "Кутузовский проспект",
          "Кутузовский проспект",
          "Кутузовский проспект",
          "Кутузовский проспект",
          "Кутузовский проспект",
          "Кутузовский проспект",
          "Кутузовский проспект",
          "Кутузовский проспект",
          "Ленинградский проспект",
          "Ленинградский проспект",
          "Ленинградский проспект",
          "Ленинградский проспект",
          "Ленинградский проспект",
          "Ленинградский проспект",
          "Ленинградский проспект",
          "Ленинградский проспект",
          "Ленинградский проспект",
          "Ленинградский проспект",
          "Ленинградский проспект",
          "Ленинградский проспект",
          "Ленинградский проспект",
          "Ленинградский проспект",
          "Ленинградский проспект",
          "Ленинградский проспект",
          "Ленинградский проспект",
          "Ленинградский проспект",
          "Ленинградский проспект",
          "Ленинградский проспект",
          "Ленинградский проспект",
          "Ленинградский проспект",
          "Ленинградский проспект",
          "Ленинградский проспект",
          "Ленинградский проспект",
          "Ленинградский проспект",
          "Ленинградский проспект",
          "Ленинградский проспект",
          "Ленинградский проспект",
          "Ленинградский проспект",
          "Ленинградский проспект",
          "Ленинградский проспект",
          "Ленинградский проспект",
          "Каширское шоссе",
          "Ленинский проспект",
          "Варшавское шоссе",
          "Каширское шоссе",
          "Каширское шоссе",
          "Каширское шоссе",
          "Варшавское шоссе",
          "Каширское шоссе",
          "Варшавское шоссе",
          "Варшавское шоссе",
          "Кировоградская улица",
          "Кировоградская улица",
          "Варшавское шоссе",
          "Варшавское шоссе",
          "Варшавское шоссе",
          "Каширское шоссе",
          "Варшавское шоссе",
          "Каширское шоссе",
          "Варшавское шоссе",
          "Каширское шоссе",
          "Кировоградская улица",
          "Кировоградская улица",
          "Кировоградская улица",
          "Кировоградская улица",
          "Кировоградская улица",
          "Кировоградская улица",
          "Варшавское шоссе",
          "Каширское шоссе",
          "Варшавское шоссе",
          "Каширское шоссе",
          "Каширское шоссе",
          "Каширское шоссе",
          "Каширское шоссе",
          "Каширское шоссе",
          "Каширское шоссе",
          "Каширское шоссе",
          "Каширское шоссе",
          "Кировоградская улица",
          "Варшавское шоссе",
          "Варшавское шоссе",
          "Варшавское шоссе",
          "Каширское шоссе",
          "Кировоградская улица",
          "Варшавское шоссе",
          "Варшавское шоссе",
          "Варшавское шоссе",
          "Варшавское шоссе",
          "Варшавское шоссе",
          "Варшавское шоссе",
          "Варшавское шоссе",
          "Варшавское шоссе",
          "Варшавское шоссе",
          "Варшавское шоссе",
          "Варшавское шоссе",
          "Ленинский проспект",
          "Ленинский проспект",
          "Варшавское шоссе",
          "Кировоградская улица",
          "Кировоградская улица",
          "Варшавское шоссе",
          "Варшавское шоссе",
          "Каширское шоссе",
          "Каширское шоссе",
          "Каширское шоссе",
          "Каширское шоссе",
          "Каширское шоссе",
          "Варшавское шоссе",
          "Каширское шоссе",
          "Каширское шоссе",
          "Каширское шоссе",
          "Каширское шоссе",
          "Каширское шоссе",
          "Каширское шоссе",
          "Каширское шоссе",
          "Каширское шоссе",
          "Варшавское шоссе",
          "Варшавское шоссе",
          "Варшавское шоссе",
          "Варшавское шоссе",
          "Варшавское шоссе",
          "Варшавское шоссе",
          "Варшавское шоссе",
          "Варшавское шоссе",
          "Варшавское шоссе",
          "Каширское шоссе",
          "Каширское шоссе",
          "Каширское шоссе",
          "Каширское шоссе",
          "Каширское шоссе",
          "Каширское шоссе",
          "Каширское шоссе",
          "Каширское шоссе",
          "Кировоградская улица",
          "Кировоградская улица",
          "Кировоградская улица",
          "Кировоградская улица",
          "Кировоградская улица",
          "Кировоградская улица",
          "Кировоградская улица",
          "Кировоградская улица",
          "Кировоградская улица",
          "Кировоградская улица",
          "Кировоградская улица",
          "Кировоградская улица",
          "Кировоградская улица",
          "Кировоградская улица",
          "Варшавское шоссе",
          "Варшавское шоссе",
          "Варшавское шоссе",
          "Варшавское шоссе",
          "Варшавское шоссе",
          "Варшавское шоссе",
          "Варшавское шоссе",
          "Варшавское шоссе",
          "Варшавское шоссе",
          "Варшавское шоссе",
          "Варшавское шоссе",
          "Варшавское шоссе",
          "Варшавское шоссе",
          "проспект Мира",
          "проспект Мира",
          "проспект Мира",
          "проспект Мира",
          "Ленинский проспект",
          "проспект Мира",
          "Ленинский проспект",
          "Ленинский проспект",
          "Ленинский проспект",
          "Пресненская набережная",
          "проспект Мира",
          "проспект Мира",
          "Пресненская набережная",
          "Пресненская набережная",
          "Пресненская набережная",
          "Пресненская набережная",
          "Пресненская набережная",
          "Пресненская набережная",
          "Пресненская набережная",
          "Пресненская набережная",
          "Пресненская набережная",
          "проспект Мира",
          "проспект Мира",
          "Пресненская набережная",
          "Пресненская набережная",
          "Пресненская набережная",
          "Пресненская набережная",
          "Пресненская набережная",
          "Пресненская набережная",
          "Пресненская набережная",
          "Пресненская набережная",
          "Пресненская набережная",
          "Пресненская набережная",
          "Пресненская набережная",
          "Пресненская набережная",
          "Пресненская набережная",
          "Пресненская набережная",
          "Пресненская набережная",
          "Пресненская набережная",
          "Пресненская набережная",
          "Пресненская набережная",
          "Пресненская набережная",
          "проспект Вернадского",
          "проспект Вернадского",
          "проспект Вернадского",
          "проспект Вернадского",
          "проспект Вернадского",
          "проспект Вернадского",
          "проспект Вернадского",
          "проспект Вернадского",
          "проспект Вернадского",
          "проспект Вернадского",
          "Кутузовский проспект",
          "Кутузовский проспект",
          "Кутузовский проспект",
          "Кутузовский проспект",
          "Кутузовский проспект",
          "Кутузовский проспект",
          "Кутузовский проспект",
          "Кутузовский проспект",
          "Кутузовский проспект",
          "Кутузовский проспект",
          "Кутузовский проспект",
          "Кутузовский проспект",
          "Кутузовский проспект",
          "Кутузовский проспект",
          "Кутузовский проспект",
          "Кутузовский проспект",
          "Кутузовский проспект",
          "Ленинский проспект",
          "Профсоюзная улица",
          "Кутузовский проспект",
          "Ленинский проспект",
          "Кировоградская улица",
          "Кировоградская улица",
          "Кировоградская улица",
          "Варшавское шоссе",
          "Варшавское шоссе",
          "Профсоюзная улица",
          "проспект Мира",
          "Кировоградская улица",
          "Кутузовский проспект",
          "проспект Вернадского",
          "проспект Мира",
          "проспект Мира",
          "Кутузовский проспект",
          "Ленинградский проспект",
          "Варшавское шоссе",
          "проспект Мира",
          "проспект Мира",
          "проспект Вернадского",
          "Ленинский проспект",
          "проспект Мира",
          "проспект Вернадского",
          "проспект Вернадского",
          "проспект Вернадского",
          "проспект Мира",
          "проспект Мира",
          "проспект Вернадского",
          "проспект Вернадского",
          "Ленинградский проспект",
          "Ленинградский проспект",
          "Кировоградская улица",
          "Каширское шоссе",
          "Каширское шоссе",
          "Каширское шоссе",
          "Кировоградская улица",
          "Кировоградская улица",
          "Варшавское шоссе",
          "Каширское шоссе",
          "Пресненская набережная",
          "проспект Мира",
          "проспект Мира",
          "проспект Мира",
          "Ленинградский проспект",
          "Варшавское шоссе",
          "Профсоюзная улица",
          "Пресненская набережная",
          "Кутузовский проспект",
          "Пресненская набережная",
          "Пресненская набережная",
          "Пресненская набережная",
          "Пресненская набережная",
          "Пресненская набережная",
          "Пресненская набережная",
          "Пресненская набережная",
          "Пресненская набережная",
          "Пресненская набережная",
          "проспект Мира",
          "Пресненская набережная",
          "Пресненская набережная",
          "Пресненская набережная",
          "Пресненская набережная",
          "Пресненская набережная",
          "Пресненская набережная",
          "Пресненская набережная",
          "Пресненская набережная",
          "Пресненская набережная",
          "Пресненская набережная",
          "проспект Вернадского",
          "проспект Мира",
          "проспект Мира",
          "Пресненская набережная",
          "Пресненская набережная",
          "Пресненская набережная",
          "Пресненская набережная",
          "Пресненская набережная",
          "Пресненская набережная",
          "Пресненская набережная",
          "Пресненская набережная",
          "Пресненская набережная",
          "Пресненская набережная",
          "Пресненская набережная",
          "Пресненская набережная",
          "Пресненская набережная",
          "Пресненская набережная",
          "Ленинский проспект",
          "Ленинградский проспект",
          "Профсоюзная улица",
          "Кировоградская улица",
          "Ленинский проспект",
          "Варшавское шоссе",
          "Варшавское шоссе",
          "проспект Мира",
          "Ленинский проспект",
          "проспект Вернадского",
          "Ленинский проспект",
          "Ленинский проспект",
          "Ленинский проспект",
          "Варшавское шоссе",
          "Ленинский проспект",
          "Каширское шоссе",
          "проспект Мира",
          "проспект Мира",
          "Ленинградский проспект",
          "Ленинградский проспект",
          "Профсоюзная улица",
          "Ленинский проспект",
          "Ленинский проспект",
          "проспект Мира",
          "Варшавское шоссе",
          "Ленинградский проспект",
          "Ленинградский проспект",
          "Кутузовский проспект",
          "Ленинский проспект",
          "Кутузовский проспект",
          "Ленинский проспект",
          "Каширское шоссе",
          "Пресненская набережная",
          "проспект Мира",
          "Кутузовский проспект",
          "Кутузовский проспект",
          "Варшавское шоссе",
          "Варшавское шоссе",
          "Профсоюзная улица",
          "Ленинградский проспект",
          "Ленинградский проспект",
          "Профсоюзная улица",
          "проспект Мира",
          "Ленинский проспект",
          "Кировоградская улица",
          "Кутузовский проспект",
          "Кутузовский проспект",
          "проспект Мира",
          "Варшавское шоссе",
          "проспект Мира",
          "проспект Мира",
          "проспект Вернадского",
          "проспект Вернадского",
          "Каширское шоссе",
          "Варшавское шоссе",
          "проспект Мира",
          "Кировоградская улица",
          "Ленинградский проспект",
          "Профсоюзная улица",
          "Профсоюзная улица",
          "Профсоюзная улица",
          "Каширское шоссе",
          "Каширское шоссе",
          "Каширское шоссе",
          "Ленинградский проспект",
          "Профсоюзная улица",
          "проспект Мира",
          "проспект Мира",
          "Ленинградский проспект",
          "Ленинский проспект",
          "Профсоюзная улица",
          "Варшавское шоссе",
          "Варшавское шоссе",
          "Варшавское шоссе",
          "проспект Вернадского",
          "Каширское шоссе",
          "Каширское шоссе",
          "Каширское шоссе",
          "Каширское шоссе",
          "Кировоградская улица",
          "Кировоградская улица",
          "Каширское шоссе",
          "Кутузовский проспект",
          "Ленинградский проспект",
          "Ленинградский проспект",
          "Ленинградский проспект",
          "Ленинский проспект",
          "Ленинский проспект",
          "Ленинский проспект",
          "проспект Мира",
          "проспект Мира",
          "проспект Мира",
          "Профсоюзная улица",
          "Профсоюзная улица",
          "Профсоюзная улица",
          "Ленинский проспект",
          "Кутузовский проспект",
          "проспект Вернадского",
          "Варшавское шоссе",
          "Ленинский проспект",
          "Ленинградский проспект",
          "Варшавское шоссе",
          "Варшавское шоссе",
          "Варшавское шоссе",
          "Варшавское шоссе",
          "Профсоюзная улица",
          "Профсоюзная улица",
          "Профсоюзная улица",
          "Профсоюзная улица",
          "Ленинский проспект",
          "Ленинский проспект",
          "Ленинский проспект",
          "Ленинградский проспект",
          "Ленинградский проспект",
          "Ленинградский проспект",
          "Варшавское шоссе",
          "Каширское шоссе",
          "Каширское шоссе",
          "Варшавское шоссе",
          "Каширское шоссе",
          "проспект Мира",
          "проспект Мира",
          "проспект Мира",
          "Профсоюзная улица",
          "Профсоюзная улица",
          "Профсоюзная улица",
          "Профсоюзная улица",
          "Профсоюзная улица",
          "Профсоюзная улица",
          "Профсоюзная улица",
          "Профсоюзная улица",
          "Профсоюзная улица",
          "Профсоюзная улица",
          "Профсоюзная улица",
          "Профсоюзная улица",
          "Ленинский проспект",
          "Профсоюзная улица",
          "Профсоюзная улица",
          "проспект Вернадского",
          "Кутузовский проспект",
          "Ленинградский проспект",
          "Ленинградский проспект",
          "Ленинградский проспект",
          "Ленинградский проспект",
          "Ленинградский проспект",
          "Ленинградский проспект",
          "Каширское шоссе",
          "Кировоградская улица",
          "Кировоградская улица",
          "Каширское шоссе",
          "Варшавское шоссе",
          "Варшавское шоссе",
          "Варшавское шоссе",
          "Варшавское шоссе",
          "Каширское шоссе",
          "Каширское шоссе",
          "Каширское шоссе",
          "Каширское шоссе",
          "Каширское шоссе",
          "Кировоградская улица",
          "Кировоградская улица",
          "Ленинский проспект",
          "Варшавское шоссе",
          "Варшавское шоссе",
          "Варшавское шоссе",
          "Варшавское шоссе",
          "Варшавское шоссе",
          "Каширское шоссе",
          "Кировоградская улица",
          "Кировоградская улица",
          "Кировоградская улица",
          "Кировоградская улица",
          "Кировоградская улица",
          "Кировоградская улица",
          "Кировоградская улица",
          "Кировоградская улица",
          "Кировоградская улица",
          "Кировоградская улица",
          "Кировоградская улица",
          "Кировоградская улица",
          "Кировоградская улица",
          "Варшавское шоссе",
          "Варшавское шоссе",
          "Пресненская набережная",
          "Пресненская набережная",
          "Пресненская набережная",
          "Пресненская набережная",
          "Пресненская набережная",
          "Пресненская набережная",
          "Пресненская набережная",
          "Пресненская набережная",
          "Пресненская набережная",
          "Пресненская набережная",
          "Пресненская набережная",
          "Пресненская набережная",
          "Пресненская набережная",
          "Пресненская набережная",
          "Пресненская набережная",
          "Пресненская набережная",
          "проспект Мира",
          "Пресненская набережная",
          "Пресненская набережная",
          "Пресненская набережная",
          "Пресненская набережная",
          "Пресненская набережная",
          "Пресненская набережная",
          "Пресненская набережная",
          "Пресненская набережная",
          "Пресненская набережная",
          "Пресненская набережная",
          "Пресненская набережная",
          "Пресненская набережная",
          "Пресненская набережная",
          "Пресненская набережная",
          "Пресненская набережная",
          "Пресненская набережная",
          "Пресненская набережная",
          "Пресненская набережная",
          "Пресненская набережная",
          "Пресненская набережная",
          "Пресненская набережная",
          "Пресненская набережная",
          "Пресненская набережная",
          "Пресненская набережная",
          "Пресненская набережная",
          "Пресненская набережная",
          "Пресненская набережная",
          "Пресненская набережная",
          "Пресненская набережная",
          "Пресненская набережная",
          "Пресненская набережная",
          "Ленинградский проспект",
          "Пресненская набережная",
          "Профсоюзная улица",
          "Варшавское шоссе",
          "Профсоюзная улица",
          "Ленинский проспект",
          "Пресненская набережная",
          "Варшавское шоссе",
          "Кировоградская улица",
          "Ленинградский проспект",
          "Пресненская набережная",
          "Кировоградская улица",
          "Ленинградский проспект",
          "Ленинградский проспект",
          "Пресненская набережная",
          "Пресненская набережная",
          "Кировоградская улица",
          "Кировоградская улица",
          "Ленинский проспект",
          "Ленинградский проспект",
          "Кировоградская улица",
          "Пресненская набережная",
          "Пресненская набережная",
          "Ленинградский проспект",
          "Варшавское шоссе",
          "Кировоградская улица",
          "Профсоюзная улица",
          "Пресненская набережная",
          "Пресненская набережная",
          "Пресненская набережная",
          "Пресненская набережная",
          "Пресненская набережная",
          "Пресненская набережная",
          "Варшавское шоссе",
          "проспект Вернадского",
          "Пресненская набережная",
          "Пресненская набережная",
          "Пресненская набережная",
          "Пресненская набережная",
          "проспект Мира",
          "Кировоградская улица",
          "Кировоградская улица",
          "Кировоградская улица",
          "Кировоградская улица",
          "Кировоградская улица",
          "Пресненская набережная",
          "Пресненская набережная",
          "Кировоградская улица",
          "Кировоградская улица",
          "Пресненская набережная",
          "проспект Вернадского",
          "Варшавское шоссе",
          "Каширское шоссе",
          "Ленинградский проспект",
          "Ленинградский проспект",
          "Ленинский проспект",
          "Ленинский проспект",
          "проспект Мира",
          "проспект Мира",
          "Профсоюзная улица",
          "Профсоюзная улица",
          "Профсоюзная улица",
          "Профсоюзная улица",
          "Профсоюзная улица",
          "Профсоюзная улица",
          "Профсоюзная улица",
          "проспект Мира",
          "Каширское шоссе",
          "Профсоюзная улица",
          "Профсоюзная улица",
          "Ленинградский проспект",
          "Ленинский проспект",
          "Ленинский проспект",
          "Варшавское шоссе",
          "Профсоюзная улица",
          "Профсоюзная улица",
          "Каширское шоссе",
          "Каширское шоссе",
          "Каширское шоссе",
          "проспект Вернадского",
          "Кутузовский проспект",
          "проспект Вернадского",
          "проспект Мира",
          "проспект Мира",
          "проспект Мира",
          "проспект Мира",
          "Профсоюзная улица",
          "Профсоюзная улица",
          "Профсоюзная улица",
          "Профсоюзная улица",
          "Профсоюзная улица",
          "Профсоюзная улица",
          "Профсоюзная улица",
          "Профсоюзная улица",
          "Профсоюзная улица",
          "Профсоюзная улица",
          "Профсоюзная улица",
          "Профсоюзная улица",
          "Профсоюзная улица",
          "Профсоюзная улица",
          "Профсоюзная улица",
          "Профсоюзная улица",
          "Профсоюзная улица",
          "Профсоюзная улица",
          "Профсоюзная улица",
          "Профсоюзная улица",
          "Профсоюзная улица",
          "Профсоюзная улица",
          "Профсоюзная улица",
          "Профсоюзная улица",
          "Профсоюзная улица",
          "Профсоюзная улица",
          "Ленинский проспект",
          "Ленинский проспект",
          "Ленинский проспект",
          "Ленинский проспект",
          "Профсоюзная улица",
          "Профсоюзная улица",
          "Ленинский проспект",
          "Ленинский проспект",
          "Профсоюзная улица",
          "проспект Вернадского",
          "Кутузовский проспект",
          "Кутузовский проспект",
          "Кутузовский проспект",
          "Ленинградский проспект",
          "Варшавское шоссе",
          "Кировоградская улица",
          "Кировоградская улица",
          "Кировоградская улица",
          "Каширское шоссе",
          "Варшавское шоссе",
          "Варшавское шоссе",
          "Кировоградская улица",
          "Варшавское шоссе",
          "Варшавское шоссе",
          "Варшавское шоссе",
          "Варшавское шоссе",
          "Пресненская набережная",
          "Пресненская набережная",
          "Пресненская набережная",
          "Пресненская набережная",
          "Пресненская набережная",
          "Пресненская набережная",
          "Пресненская набережная",
          "проспект Мира",
          "Ленинградский проспект",
          "Ленинградский проспект",
          "Варшавское шоссе",
          "Варшавское шоссе",
          "Ленинградский проспект",
          "Профсоюзная улица",
          "Профсоюзная улица",
          "Профсоюзная улица",
          "Варшавское шоссе",
          "Кировоградская улица",
          "Ленинградский проспект",
          "Ленинградский проспект",
          "Профсоюзная улица",
          "Профсоюзная улица",
          "Ленинградский проспект",
          "Профсоюзная улица",
          "Ленинградский проспект",
          "Ленинский проспект",
          "Варшавское шоссе",
          "Ленинский проспект",
          "проспект Вернадского",
          "Профсоюзная улица",
          "Профсоюзная улица",
          "Ленинградский проспект",
          "Ленинградский проспект",
          "Каширское шоссе",
          "Ленинградский проспект",
          "Ленинградский проспект",
          "Ленинградский проспект",
          "Ленинградский проспект",
          "Ленинский проспект",
          "Ленинский проспект",
          "Ленинский проспект",
          "Ленинский проспект",
          "Ленинградский проспект",
          "Ленинский проспект",
          "Ленинский проспект",
          "Ленинский проспект",
          "проспект Мира",
          "Профсоюзная улица",
          "Профсоюзная улица",
          "Профсоюзная улица",
          "Ленинградский проспект",
          "Варшавское шоссе",
          "Профсоюзная улица",
          "Профсоюзная улица",
          "Ленинский проспект",
          "Варшавское шоссе",
          "Варшавское шоссе",
          "Варшавское шоссе",
          "проспект Вернадского",
          "Ленинский проспект",
          "Варшавское шоссе",
          "Профсоюзная улица",
          "Профсоюзная улица",
          "Варшавское шоссе",
          "проспект Вернадского",
          "проспект Вернадского",
          "Ленинградский проспект",
          "Ленинградский проспект",
          "Ленинградский проспект",
          "Ленинградский проспект",
          "проспект Мира",
          "Каширское шоссе",
          "Каширское шоссе",
          "Каширское шоссе",
          "Каширское шоссе",
          "Каширское шоссе",
          "Варшавское шоссе",
          "проспект Мира",
          "проспект Мира",
          "Варшавское шоссе",
          "Варшавское шоссе",
          "Каширское шоссе",
          "Каширское шоссе",
          "Каширское шоссе",
          "Каширское шоссе",
          "Каширское шоссе",
          "Каширское шоссе",
          "Каширское шоссе",
          "Каширское шоссе",
          "проспект Мира",
          "проспект Мира",
          "проспект Мира",
          "проспект Мира",
          "проспект Мира",
          "проспект Мира",
          "проспект Мира",
          "проспект Мира",
          "проспект Мира",
          "проспект Мира",
          "проспект Мира",
          "проспект Мира",
          "Ленинский проспект",
          "проспект Вернадского",
          "проспект Вернадского",
          "проспект Вернадского",
          "проспект Вернадского",
          "проспект Вернадского",
          "проспект Вернадского",
          "проспект Вернадского",
          "проспект Вернадского",
          "проспект Вернадского",
          "проспект Вернадского",
          "Кутузовский проспект",
          "Кутузовский проспект",
          "Ленинградский проспект",
          "Варшавское шоссе",
          "Варшавское шоссе",
          "Варшавское шоссе",
          "Варшавское шоссе",
          "Кировоградская улица",
          "Варшавское шоссе",
          "Кировоградская улица",
          "Кировоградская улица",
          "Кировоградская улица",
          "Кировоградская улица",
          "Кировоградская улица",
          "Кировоградская улица",
          "Варшавское шоссе",
          "Варшавское шоссе",
          "Каширское шоссе",
          "Варшавское шоссе",
          "Кировоградская улица",
          "Варшавское шоссе",
          "Варшавское шоссе",
          "Каширское шоссе",
          "Каширское шоссе",
          "Каширское шоссе",
          "Кировоградская улица",
          "Кировоградская улица",
          "Кировоградская улица",
          "Кировоградская улица",
          "Кировоградская улица",
          "Кировоградская улица",
          "Кировоградская улица",
          "Кировоградская улица",
          "Кировоградская улица",
          "Кировоградская улица",
          "Кировоградская улица",
          "Варшавское шоссе",
          "Варшавское шоссе",
          "Варшавское шоссе",
          "Пресненская набережная",
          "Пресненская набережная",
          "Пресненская набережная",
          "Пресненская набережная",
          "Пресненская набережная",
          "Пресненская набережная",
          "Пресненская набережная",
          "Пресненская набережная",
          "Пресненская набережная",
          "Пресненская набережная",
          "Пресненская набережная",
          "Пресненская набережная",
          "Пресненская набережная",
          "Пресненская набережная",
          "Пресненская набережная",
          "Пресненская набережная",
          "Пресненская набережная",
          "Пресненская набережная",
          "Пресненская набережная",
          "Пресненская набережная",
          "Пресненская набережная",
          "Пресненская набережная",
          "Пресненская набережная",
          "Пресненская набережная",
          "Пресненская набережная",
          "проспект Вернадского",
          "проспект Вернадского",
          "проспект Вернадского",
          "проспект Вернадского",
          "проспект Вернадского",
          "проспект Вернадского",
          "Кутузовский проспект",
          "Кутузовский проспект",
          "Кутузовский проспект",
          "Кутузовский проспект",
          "Кутузовский проспект",
          "Кутузовский проспект",
          "Кутузовский проспект",
          "Кутузовский проспект",
          "Кутузовский проспект",
          "Кутузовский проспект",
          "Кутузовский проспект",
          "Кутузовский проспект",
          "Кутузовский проспект",
          "Кутузовский проспект",
          "Кутузовский проспект",
          "Варшавское шоссе",
          "Ленинградский проспект",
          "Ленинградский проспект",
          "Варшавское шоссе",
          "Варшавское шоссе",
          "проспект Вернадского",
          "Каширское шоссе",
          "Варшавское шоссе",
          "Кутузовский проспект",
          "Кутузовский проспект",
          "Кутузовский проспект",
          "Кутузовский проспект",
          "Кировоградская улица",
          "Ленинградский проспект",
          "Кировоградская улица",
          "проспект Мира",
          "Кутузовский проспект",
          "Варшавское шоссе",
          "Ленинский проспект",
          "Ленинградский проспект",
          "Кировоградская улица",
          "Ленинградский проспект",
          "проспект Мира",
          "Кировоградская улица",
          "проспект Мира",
          "Варшавское шоссе",
          "Ленинский проспект",
          "проспект Мира",
          "Каширское шоссе",
          "Ленинградский проспект",
          "Пресненская набережная",
          "Варшавское шоссе",
          "проспект Мира",
          "проспект Мира",
          "Варшавское шоссе",
          "Кировоградская улица",
          "Ленинградский проспект",
          "проспект Мира",
          "Варшавское шоссе",
          "Ленинградский проспект",
          "Кутузовский проспект",
          "Ленинградский проспект",
          "Кутузовский проспект",
          "Кутузовский проспект",
          "Пресненская набережная",
          "Ленинградский проспект",
          "Кировоградская улица",
          "Варшавское шоссе",
          "Кутузовский проспект",
          "Кутузовский проспект",
          "Пресненская набережная",
          "Ленинградский проспект",
          "Профсоюзная улица",
          "Каширское шоссе",
          "Варшавское шоссе"
         ],
         "x0": " ",
         "xaxis": "x",
         "y": [
          150,
          36,
          30,
          0,
          2,
          70,
          42,
          5,
          8,
          10,
          50,
          10,
          240,
          40,
          60,
          30,
          40,
          24,
          20,
          90,
          40,
          200,
          50,
          24,
          40,
          20,
          240,
          250,
          96,
          3,
          12,
          100,
          12,
          60,
          40,
          50,
          15,
          32,
          23,
          56,
          80,
          65,
          48,
          16,
          70,
          28,
          45,
          20,
          150,
          40,
          150,
          41,
          2,
          37,
          48,
          26,
          45,
          70,
          4,
          98,
          98,
          15,
          80,
          160,
          6,
          0,
          71,
          120,
          80,
          4,
          12,
          96,
          60,
          70,
          43,
          40,
          46,
          80,
          80,
          80,
          4,
          68,
          88,
          88,
          96,
          10,
          80,
          10,
          75,
          36,
          22,
          50,
          10,
          64,
          40,
          25,
          36,
          16,
          32,
          40,
          20,
          60,
          40,
          85,
          20,
          35,
          24,
          50,
          70,
          143,
          100,
          25,
          150,
          0,
          130,
          22,
          98,
          150,
          125,
          74,
          10,
          41,
          0,
          200,
          12,
          30,
          40,
          60,
          48,
          120,
          70,
          30,
          16,
          20,
          10,
          100,
          75,
          16,
          47,
          95,
          90,
          45,
          65,
          50,
          15,
          18,
          40,
          18,
          200,
          75,
          25,
          10,
          15,
          45,
          35,
          70,
          42,
          380,
          26,
          43,
          80,
          220,
          118,
          150,
          92,
          198,
          90,
          0,
          38,
          15,
          20,
          10,
          50,
          48,
          98,
          45,
          50,
          30,
          86,
          46,
          60,
          60,
          74,
          24,
          290,
          28,
          40,
          80,
          40,
          80,
          97,
          20,
          13,
          10,
          50,
          10,
          0,
          90,
          144,
          0,
          100,
          90,
          50,
          46,
          60,
          97,
          300,
          70,
          240,
          100,
          40,
          0,
          300,
          240,
          200,
          300,
          240,
          300,
          240,
          300,
          240,
          300,
          170,
          0,
          40,
          50,
          25,
          52,
          30,
          220,
          200,
          80,
          250,
          100,
          328,
          60,
          32,
          20,
          80,
          60,
          50,
          40,
          50,
          14,
          96,
          92,
          68,
          80,
          60,
          100,
          95,
          100,
          120,
          200,
          20,
          50,
          200,
          100,
          200,
          50,
          40,
          12,
          150,
          200,
          150,
          80,
          40,
          20,
          57,
          50,
          106,
          70,
          90,
          25,
          40,
          20,
          40,
          60,
          15,
          50,
          53,
          30,
          64,
          2,
          40,
          40,
          90,
          80,
          50,
          70,
          100,
          45,
          40,
          15,
          90,
          40,
          40,
          60,
          100,
          200,
          180,
          80,
          28,
          42,
          42,
          40,
          0,
          200,
          40,
          680,
          0,
          80,
          140,
          65,
          40,
          60,
          30,
          24,
          60,
          36,
          130,
          50,
          20,
          50,
          50,
          35,
          110,
          100,
          150,
          100,
          150,
          25,
          250,
          250,
          127,
          50,
          64,
          28,
          100,
          90,
          40,
          10,
          200,
          104,
          168,
          1200,
          200,
          200,
          200,
          50,
          68,
          200,
          92,
          50,
          250,
          80,
          45,
          48,
          100,
          120,
          23,
          70,
          32,
          190,
          95,
          95,
          45,
          200,
          95,
          90,
          110,
          20,
          40,
          40,
          20,
          52,
          60,
          200,
          273,
          44,
          92,
          128,
          80,
          225,
          95,
          45,
          80,
          25,
          110,
          86,
          198,
          218,
          16,
          10,
          12,
          96,
          136,
          100,
          20,
          165,
          150,
          173,
          150,
          20,
          40,
          50,
          50,
          23,
          92,
          70,
          56,
          68,
          100,
          250,
          60,
          48,
          20,
          90,
          45,
          150,
          80,
          16,
          50,
          50,
          150,
          109,
          90,
          56,
          50,
          50,
          150,
          32,
          160,
          300,
          240,
          150,
          35,
          80,
          54,
          55,
          20,
          20,
          20,
          190,
          89,
          10,
          40,
          80,
          20,
          86,
          50,
          15,
          40,
          12,
          4,
          12,
          70,
          24,
          56,
          0,
          75,
          70,
          0,
          70,
          50,
          0,
          0,
          0,
          24,
          50,
          90,
          180,
          120,
          55,
          150,
          120,
          60,
          100,
          120,
          12,
          30,
          20,
          25,
          4,
          98,
          30,
          40,
          72,
          68,
          70,
          40,
          90,
          60,
          100,
          12,
          150,
          24,
          95,
          200,
          210,
          240,
          100,
          100,
          20,
          20,
          10,
          30,
          98,
          5,
          80,
          40,
          40,
          49,
          250,
          165,
          94,
          140,
          140,
          495,
          80,
          186,
          30,
          40,
          24,
          40,
          85,
          36,
          40,
          40,
          50,
          40,
          80,
          48,
          90,
          10,
          19,
          24,
          150,
          84,
          90,
          120,
          180,
          10,
          9,
          46,
          74,
          20,
          15,
          60,
          96,
          42,
          35,
          100,
          50,
          40,
          40,
          98,
          40,
          98,
          35,
          30,
          92,
          96,
          96,
          90,
          100,
          120,
          150,
          154,
          98,
          160,
          134,
          50,
          60,
          86,
          255,
          86,
          85,
          47,
          90,
          45,
          90,
          83,
          12,
          60,
          25,
          20,
          60,
          2,
          20,
          54,
          300,
          36,
          95,
          60,
          80,
          625,
          78,
          120,
          180,
          40,
          20,
          60,
          67,
          46,
          96,
          30,
          60,
          56,
          40,
          250,
          70,
          160,
          50,
          16,
          200,
          80,
          25,
          60,
          80,
          30,
          300,
          10,
          98,
          55,
          46,
          0,
          36,
          292,
          46,
          24,
          48,
          46,
          24,
          30,
          40,
          80,
          12,
          350,
          15,
          75,
          75,
          40,
          10,
          5,
          20,
          120,
          64,
          64,
          40,
          102,
          48,
          95,
          110,
          46,
          46,
          28,
          92,
          20,
          54,
          180,
          46,
          44,
          96,
          80,
          500,
          56,
          60,
          60,
          0,
          15,
          5,
          47,
          5,
          5,
          6,
          87,
          87,
          160,
          87,
          87,
          86,
          87,
          20,
          7,
          98,
          90,
          24,
          98,
          98,
          20,
          70,
          80,
          60,
          24,
          24,
          176,
          24,
          12,
          21,
          21,
          20,
          25,
          30,
          55,
          25,
          120,
          152,
          250,
          80,
          160,
          80,
          25,
          10,
          6,
          12,
          80,
          30,
          180,
          97,
          10,
          12,
          8,
          10,
          8,
          15,
          13,
          15,
          70,
          80,
          50,
          54,
          40,
          20,
          185,
          40,
          80,
          300,
          80,
          48,
          237,
          88,
          140,
          32,
          250,
          30,
          150,
          100,
          65,
          60,
          80,
          60,
          30,
          30,
          30,
          45,
          5,
          120,
          350,
          50,
          10,
          60,
          50,
          50,
          50,
          60,
          30,
          0,
          30,
          50,
          38,
          60,
          10,
          60,
          60,
          60,
          60,
          60,
          40,
          100,
          0,
          0,
          60,
          70,
          0,
          30,
          20,
          20,
          30,
          30,
          10,
          96,
          30,
          30,
          60,
          20,
          30,
          49,
          220,
          40,
          16,
          20,
          50,
          34,
          2,
          20,
          24,
          91,
          30,
          30,
          70,
          50,
          25,
          78,
          30,
          40,
          4,
          18,
          3,
          40,
          6,
          1288,
          160,
          200,
          82,
          40,
          172,
          200,
          0,
          45,
          50,
          10,
          10,
          0,
          18,
          0,
          98,
          86,
          30,
          10,
          125,
          84,
          65,
          8,
          40,
          50,
          36,
          45,
          60,
          30,
          35,
          60,
          12,
          8,
          10,
          80,
          70,
          38,
          6,
          24,
          24,
          6,
          95,
          8,
          20,
          478,
          43,
          16,
          36,
          145,
          25,
          20,
          50,
          6,
          25,
          9,
          120,
          250,
          10,
          40,
          20,
          25,
          0,
          60,
          45,
          64,
          160,
          130,
          32,
          60,
          32,
          37,
          35,
          45,
          60,
          10,
          15,
          48,
          40,
          50,
          0,
          0,
          10,
          0,
          4,
          14,
          22,
          15,
          20,
          0,
          0,
          50,
          42,
          20,
          40,
          30,
          120,
          7,
          158,
          140,
          57,
          0,
          12,
          0,
          2,
          0,
          48,
          30,
          0,
          100,
          200,
          60,
          4,
          18,
          40,
          40,
          30,
          20,
          36,
          0,
          0,
          0,
          0,
          0,
          0,
          4,
          28,
          15,
          90,
          45,
          15,
          44,
          96,
          22,
          56,
          1,
          2,
          40,
          5,
          0,
          2,
          25,
          0,
          120,
          45,
          8,
          15,
          2,
          0,
          20,
          14,
          10,
          100,
          30,
          326,
          0,
          9,
          0,
          4,
          20,
          120,
          2,
          20,
          20,
          22,
          300,
          24,
          0,
          5,
          5,
          12,
          4,
          0,
          120,
          40,
          170,
          64,
          28,
          10,
          0,
          0,
          49,
          0,
          9,
          0,
          35,
          10,
          14,
          60,
          14,
          65,
          6,
          5,
          5,
          25,
          8,
          21,
          24,
          30,
          24,
          6,
          8,
          70,
          45,
          95,
          30,
          24,
          26,
          0,
          44,
          24,
          60,
          24,
          38,
          80,
          45,
          30,
          40,
          4,
          5,
          0,
          12,
          30,
          12,
          0,
          1,
          80,
          0,
          140,
          105,
          27,
          4,
          8,
          0,
          80,
          50,
          35,
          50,
          30,
          25,
          0,
          60,
          0,
          50,
          0,
          12,
          7,
          32,
          20,
          26,
          150,
          150,
          13,
          90,
          57,
          20,
          31,
          2,
          5,
          7,
          35,
          20,
          15,
          41,
          45,
          45,
          12,
          50,
          24,
          15,
          18,
          4,
          6,
          20,
          230,
          40,
          30,
          100,
          58,
          37,
          34,
          80,
          45,
          60,
          30,
          20,
          45,
          60,
          40,
          0,
          0,
          0,
          0,
          60,
          58,
          26,
          150,
          10,
          20,
          16,
          20,
          15,
          3,
          0,
          12,
          60,
          10,
          12,
          24,
          0,
          40,
          70,
          60,
          30,
          138,
          0,
          10,
          35,
          25,
          95,
          72,
          20,
          0,
          0,
          30,
          25,
          150,
          40,
          42,
          40,
          15,
          20,
          5,
          20,
          0,
          20,
          0,
          0,
          0,
          0,
          3,
          4,
          40,
          0,
          20,
          35,
          24,
          4,
          32,
          25,
          5,
          47,
          40,
          0,
          12,
          40,
          0,
          0,
          12,
          0,
          0,
          0,
          0,
          14,
          2,
          30,
          64,
          32,
          2,
          0,
          45,
          16,
          6,
          0,
          80,
          1700,
          10,
          15,
          4,
          0,
          20,
          50,
          0,
          0,
          15,
          0,
          20,
          0,
          0,
          0,
          0,
          0,
          0,
          0,
          0,
          0,
          15,
          0,
          15,
          0,
          0,
          155,
          30,
          16,
          50,
          10,
          120,
          0,
          45,
          30,
          0,
          40,
          8,
          0,
          0,
          0,
          50,
          70,
          35,
          100,
          232,
          20,
          60,
          64,
          24,
          24,
          0,
          4,
          0,
          32,
          0,
          6,
          0,
          60,
          5,
          50,
          5,
          65,
          80,
          27,
          12,
          12,
          10,
          20,
          0,
          33,
          10,
          15,
          9,
          0,
          16,
          2,
          2,
          8,
          55,
          10,
          0,
          150,
          0,
          50,
          0,
          80,
          30,
          75,
          73,
          35,
          6,
          2,
          3,
          0,
          15,
          28,
          40,
          4,
          8,
          28,
          10,
          0,
          16,
          0,
          0,
          48,
          0,
          30,
          25,
          35,
          45,
          16,
          18,
          15,
          18,
          5,
          12,
          10,
          0,
          0,
          25,
          47,
          3,
          10,
          50,
          10,
          30,
          10,
          110,
          25,
          100,
          0,
          0,
          44,
          25,
          12,
          40,
          20,
          0,
          15,
          25,
          15,
          2,
          25,
          268,
          0,
          0,
          4,
          20,
          96,
          43,
          20,
          20,
          20,
          20,
          20,
          20,
          20,
          10,
          150,
          30,
          1,
          1,
          1,
          1,
          1,
          0,
          40,
          0,
          80,
          20,
          12,
          20,
          24,
          100,
          46,
          46,
          0,
          10,
          120,
          120,
          0,
          6,
          6,
          0,
          38,
          30,
          76,
          12,
          0,
          10,
          0,
          160,
          0,
          0,
          6,
          8,
          80,
          6,
          6,
          0,
          27,
          0,
          0,
          24,
          16,
          2,
          2,
          5,
          0,
          7,
          6,
          4,
          4,
          4,
          4,
          4,
          6,
          10,
          11,
          15,
          3,
          3,
          4,
          4,
          40,
          35,
          40,
          3,
          4,
          48,
          20,
          0,
          90,
          20,
          40,
          40,
          2,
          4,
          45,
          30,
          0,
          30,
          32,
          39,
          20,
          30,
          0,
          0,
          0,
          30,
          0,
          0,
          30,
          30,
          42,
          90,
          8,
          8,
          50,
          17,
          12,
          30,
          0,
          0,
          10,
          20,
          15,
          43,
          20,
          0,
          0,
          16,
          0,
          0,
          25,
          10,
          100,
          20,
          0,
          34,
          30,
          33,
          0,
          20,
          0,
          15,
          20,
          0,
          0,
          15,
          50,
          30,
          50,
          0,
          65,
          0,
          40,
          10,
          0,
          0,
          2,
          0,
          0,
          25,
          0,
          40,
          35,
          54
         ],
         "y0": " ",
         "yaxis": "y"
        }
       ],
       "layout": {
        "boxmode": "group",
        "legend": {
         "tracegroupgap": 0
        },
        "template": {
         "data": {
          "bar": [
           {
            "error_x": {
             "color": "#2a3f5f"
            },
            "error_y": {
             "color": "#2a3f5f"
            },
            "marker": {
             "line": {
              "color": "#E5ECF6",
              "width": 0.5
             },
             "pattern": {
              "fillmode": "overlay",
              "size": 10,
              "solidity": 0.2
             }
            },
            "type": "bar"
           }
          ],
          "barpolar": [
           {
            "marker": {
             "line": {
              "color": "#E5ECF6",
              "width": 0.5
             },
             "pattern": {
              "fillmode": "overlay",
              "size": 10,
              "solidity": 0.2
             }
            },
            "type": "barpolar"
           }
          ],
          "carpet": [
           {
            "aaxis": {
             "endlinecolor": "#2a3f5f",
             "gridcolor": "white",
             "linecolor": "white",
             "minorgridcolor": "white",
             "startlinecolor": "#2a3f5f"
            },
            "baxis": {
             "endlinecolor": "#2a3f5f",
             "gridcolor": "white",
             "linecolor": "white",
             "minorgridcolor": "white",
             "startlinecolor": "#2a3f5f"
            },
            "type": "carpet"
           }
          ],
          "choropleth": [
           {
            "colorbar": {
             "outlinewidth": 0,
             "ticks": ""
            },
            "type": "choropleth"
           }
          ],
          "contour": [
           {
            "colorbar": {
             "outlinewidth": 0,
             "ticks": ""
            },
            "colorscale": [
             [
              0,
              "#0d0887"
             ],
             [
              0.1111111111111111,
              "#46039f"
             ],
             [
              0.2222222222222222,
              "#7201a8"
             ],
             [
              0.3333333333333333,
              "#9c179e"
             ],
             [
              0.4444444444444444,
              "#bd3786"
             ],
             [
              0.5555555555555556,
              "#d8576b"
             ],
             [
              0.6666666666666666,
              "#ed7953"
             ],
             [
              0.7777777777777778,
              "#fb9f3a"
             ],
             [
              0.8888888888888888,
              "#fdca26"
             ],
             [
              1,
              "#f0f921"
             ]
            ],
            "type": "contour"
           }
          ],
          "contourcarpet": [
           {
            "colorbar": {
             "outlinewidth": 0,
             "ticks": ""
            },
            "type": "contourcarpet"
           }
          ],
          "heatmap": [
           {
            "colorbar": {
             "outlinewidth": 0,
             "ticks": ""
            },
            "colorscale": [
             [
              0,
              "#0d0887"
             ],
             [
              0.1111111111111111,
              "#46039f"
             ],
             [
              0.2222222222222222,
              "#7201a8"
             ],
             [
              0.3333333333333333,
              "#9c179e"
             ],
             [
              0.4444444444444444,
              "#bd3786"
             ],
             [
              0.5555555555555556,
              "#d8576b"
             ],
             [
              0.6666666666666666,
              "#ed7953"
             ],
             [
              0.7777777777777778,
              "#fb9f3a"
             ],
             [
              0.8888888888888888,
              "#fdca26"
             ],
             [
              1,
              "#f0f921"
             ]
            ],
            "type": "heatmap"
           }
          ],
          "heatmapgl": [
           {
            "colorbar": {
             "outlinewidth": 0,
             "ticks": ""
            },
            "colorscale": [
             [
              0,
              "#0d0887"
             ],
             [
              0.1111111111111111,
              "#46039f"
             ],
             [
              0.2222222222222222,
              "#7201a8"
             ],
             [
              0.3333333333333333,
              "#9c179e"
             ],
             [
              0.4444444444444444,
              "#bd3786"
             ],
             [
              0.5555555555555556,
              "#d8576b"
             ],
             [
              0.6666666666666666,
              "#ed7953"
             ],
             [
              0.7777777777777778,
              "#fb9f3a"
             ],
             [
              0.8888888888888888,
              "#fdca26"
             ],
             [
              1,
              "#f0f921"
             ]
            ],
            "type": "heatmapgl"
           }
          ],
          "histogram": [
           {
            "marker": {
             "pattern": {
              "fillmode": "overlay",
              "size": 10,
              "solidity": 0.2
             }
            },
            "type": "histogram"
           }
          ],
          "histogram2d": [
           {
            "colorbar": {
             "outlinewidth": 0,
             "ticks": ""
            },
            "colorscale": [
             [
              0,
              "#0d0887"
             ],
             [
              0.1111111111111111,
              "#46039f"
             ],
             [
              0.2222222222222222,
              "#7201a8"
             ],
             [
              0.3333333333333333,
              "#9c179e"
             ],
             [
              0.4444444444444444,
              "#bd3786"
             ],
             [
              0.5555555555555556,
              "#d8576b"
             ],
             [
              0.6666666666666666,
              "#ed7953"
             ],
             [
              0.7777777777777778,
              "#fb9f3a"
             ],
             [
              0.8888888888888888,
              "#fdca26"
             ],
             [
              1,
              "#f0f921"
             ]
            ],
            "type": "histogram2d"
           }
          ],
          "histogram2dcontour": [
           {
            "colorbar": {
             "outlinewidth": 0,
             "ticks": ""
            },
            "colorscale": [
             [
              0,
              "#0d0887"
             ],
             [
              0.1111111111111111,
              "#46039f"
             ],
             [
              0.2222222222222222,
              "#7201a8"
             ],
             [
              0.3333333333333333,
              "#9c179e"
             ],
             [
              0.4444444444444444,
              "#bd3786"
             ],
             [
              0.5555555555555556,
              "#d8576b"
             ],
             [
              0.6666666666666666,
              "#ed7953"
             ],
             [
              0.7777777777777778,
              "#fb9f3a"
             ],
             [
              0.8888888888888888,
              "#fdca26"
             ],
             [
              1,
              "#f0f921"
             ]
            ],
            "type": "histogram2dcontour"
           }
          ],
          "mesh3d": [
           {
            "colorbar": {
             "outlinewidth": 0,
             "ticks": ""
            },
            "type": "mesh3d"
           }
          ],
          "parcoords": [
           {
            "line": {
             "colorbar": {
              "outlinewidth": 0,
              "ticks": ""
             }
            },
            "type": "parcoords"
           }
          ],
          "pie": [
           {
            "automargin": true,
            "type": "pie"
           }
          ],
          "scatter": [
           {
            "marker": {
             "colorbar": {
              "outlinewidth": 0,
              "ticks": ""
             }
            },
            "type": "scatter"
           }
          ],
          "scatter3d": [
           {
            "line": {
             "colorbar": {
              "outlinewidth": 0,
              "ticks": ""
             }
            },
            "marker": {
             "colorbar": {
              "outlinewidth": 0,
              "ticks": ""
             }
            },
            "type": "scatter3d"
           }
          ],
          "scattercarpet": [
           {
            "marker": {
             "colorbar": {
              "outlinewidth": 0,
              "ticks": ""
             }
            },
            "type": "scattercarpet"
           }
          ],
          "scattergeo": [
           {
            "marker": {
             "colorbar": {
              "outlinewidth": 0,
              "ticks": ""
             }
            },
            "type": "scattergeo"
           }
          ],
          "scattergl": [
           {
            "marker": {
             "colorbar": {
              "outlinewidth": 0,
              "ticks": ""
             }
            },
            "type": "scattergl"
           }
          ],
          "scattermapbox": [
           {
            "marker": {
             "colorbar": {
              "outlinewidth": 0,
              "ticks": ""
             }
            },
            "type": "scattermapbox"
           }
          ],
          "scatterpolar": [
           {
            "marker": {
             "colorbar": {
              "outlinewidth": 0,
              "ticks": ""
             }
            },
            "type": "scatterpolar"
           }
          ],
          "scatterpolargl": [
           {
            "marker": {
             "colorbar": {
              "outlinewidth": 0,
              "ticks": ""
             }
            },
            "type": "scatterpolargl"
           }
          ],
          "scatterternary": [
           {
            "marker": {
             "colorbar": {
              "outlinewidth": 0,
              "ticks": ""
             }
            },
            "type": "scatterternary"
           }
          ],
          "surface": [
           {
            "colorbar": {
             "outlinewidth": 0,
             "ticks": ""
            },
            "colorscale": [
             [
              0,
              "#0d0887"
             ],
             [
              0.1111111111111111,
              "#46039f"
             ],
             [
              0.2222222222222222,
              "#7201a8"
             ],
             [
              0.3333333333333333,
              "#9c179e"
             ],
             [
              0.4444444444444444,
              "#bd3786"
             ],
             [
              0.5555555555555556,
              "#d8576b"
             ],
             [
              0.6666666666666666,
              "#ed7953"
             ],
             [
              0.7777777777777778,
              "#fb9f3a"
             ],
             [
              0.8888888888888888,
              "#fdca26"
             ],
             [
              1,
              "#f0f921"
             ]
            ],
            "type": "surface"
           }
          ],
          "table": [
           {
            "cells": {
             "fill": {
              "color": "#EBF0F8"
             },
             "line": {
              "color": "white"
             }
            },
            "header": {
             "fill": {
              "color": "#C8D4E3"
             },
             "line": {
              "color": "white"
             }
            },
            "type": "table"
           }
          ]
         },
         "layout": {
          "annotationdefaults": {
           "arrowcolor": "#2a3f5f",
           "arrowhead": 0,
           "arrowwidth": 1
          },
          "autotypenumbers": "strict",
          "coloraxis": {
           "colorbar": {
            "outlinewidth": 0,
            "ticks": ""
           }
          },
          "colorscale": {
           "diverging": [
            [
             0,
             "#8e0152"
            ],
            [
             0.1,
             "#c51b7d"
            ],
            [
             0.2,
             "#de77ae"
            ],
            [
             0.3,
             "#f1b6da"
            ],
            [
             0.4,
             "#fde0ef"
            ],
            [
             0.5,
             "#f7f7f7"
            ],
            [
             0.6,
             "#e6f5d0"
            ],
            [
             0.7,
             "#b8e186"
            ],
            [
             0.8,
             "#7fbc41"
            ],
            [
             0.9,
             "#4d9221"
            ],
            [
             1,
             "#276419"
            ]
           ],
           "sequential": [
            [
             0,
             "#0d0887"
            ],
            [
             0.1111111111111111,
             "#46039f"
            ],
            [
             0.2222222222222222,
             "#7201a8"
            ],
            [
             0.3333333333333333,
             "#9c179e"
            ],
            [
             0.4444444444444444,
             "#bd3786"
            ],
            [
             0.5555555555555556,
             "#d8576b"
            ],
            [
             0.6666666666666666,
             "#ed7953"
            ],
            [
             0.7777777777777778,
             "#fb9f3a"
            ],
            [
             0.8888888888888888,
             "#fdca26"
            ],
            [
             1,
             "#f0f921"
            ]
           ],
           "sequentialminus": [
            [
             0,
             "#0d0887"
            ],
            [
             0.1111111111111111,
             "#46039f"
            ],
            [
             0.2222222222222222,
             "#7201a8"
            ],
            [
             0.3333333333333333,
             "#9c179e"
            ],
            [
             0.4444444444444444,
             "#bd3786"
            ],
            [
             0.5555555555555556,
             "#d8576b"
            ],
            [
             0.6666666666666666,
             "#ed7953"
            ],
            [
             0.7777777777777778,
             "#fb9f3a"
            ],
            [
             0.8888888888888888,
             "#fdca26"
            ],
            [
             1,
             "#f0f921"
            ]
           ]
          },
          "colorway": [
           "#636efa",
           "#EF553B",
           "#00cc96",
           "#ab63fa",
           "#FFA15A",
           "#19d3f3",
           "#FF6692",
           "#B6E880",
           "#FF97FF",
           "#FECB52"
          ],
          "font": {
           "color": "#2a3f5f"
          },
          "geo": {
           "bgcolor": "white",
           "lakecolor": "white",
           "landcolor": "#E5ECF6",
           "showlakes": true,
           "showland": true,
           "subunitcolor": "white"
          },
          "hoverlabel": {
           "align": "left"
          },
          "hovermode": "closest",
          "mapbox": {
           "style": "light"
          },
          "paper_bgcolor": "white",
          "plot_bgcolor": "#E5ECF6",
          "polar": {
           "angularaxis": {
            "gridcolor": "white",
            "linecolor": "white",
            "ticks": ""
           },
           "bgcolor": "#E5ECF6",
           "radialaxis": {
            "gridcolor": "white",
            "linecolor": "white",
            "ticks": ""
           }
          },
          "scene": {
           "xaxis": {
            "backgroundcolor": "#E5ECF6",
            "gridcolor": "white",
            "gridwidth": 2,
            "linecolor": "white",
            "showbackground": true,
            "ticks": "",
            "zerolinecolor": "white"
           },
           "yaxis": {
            "backgroundcolor": "#E5ECF6",
            "gridcolor": "white",
            "gridwidth": 2,
            "linecolor": "white",
            "showbackground": true,
            "ticks": "",
            "zerolinecolor": "white"
           },
           "zaxis": {
            "backgroundcolor": "#E5ECF6",
            "gridcolor": "white",
            "gridwidth": 2,
            "linecolor": "white",
            "showbackground": true,
            "ticks": "",
            "zerolinecolor": "white"
           }
          },
          "shapedefaults": {
           "line": {
            "color": "#2a3f5f"
           }
          },
          "ternary": {
           "aaxis": {
            "gridcolor": "white",
            "linecolor": "white",
            "ticks": ""
           },
           "baxis": {
            "gridcolor": "white",
            "linecolor": "white",
            "ticks": ""
           },
           "bgcolor": "#E5ECF6",
           "caxis": {
            "gridcolor": "white",
            "linecolor": "white",
            "ticks": ""
           }
          },
          "title": {
           "x": 0.05
          },
          "xaxis": {
           "automargin": true,
           "gridcolor": "white",
           "linecolor": "white",
           "ticks": "",
           "title": {
            "standoff": 15
           },
           "zerolinecolor": "white",
           "zerolinewidth": 2
          },
          "yaxis": {
           "automargin": true,
           "gridcolor": "white",
           "linecolor": "white",
           "ticks": "",
           "title": {
            "standoff": 15
           },
           "zerolinecolor": "white",
           "zerolinewidth": 2
          }
         }
        },
        "title": {
         "text": "Distribution of seats for streets with a large number of objects"
        },
        "xaxis": {
         "anchor": "y",
         "domain": [
          0,
          1
         ],
         "title": {
          "text": "Top 10 streets by number of objects"
         }
        },
        "yaxis": {
         "anchor": "x",
         "domain": [
          0,
          1
         ],
         "title": {
          "text": "Number of seats"
         }
        }
       }
      }
     },
     "metadata": {},
     "output_type": "display_data"
    }
   ],
   "source": [
    "fig = px.box(top10_number, \n",
    "             x='street', \n",
    "             y='number', \n",
    "             title='Distribution of seats for streets with a large number of objects')\n",
    "fig.update_layout(xaxis_title='Top 10 streets by number of objects',\n",
    "                 yaxis_title='Number of seats')\n",
    "fig.data[0].marker.line.color = 'green'\n",
    "fig.show()"
   ]
  },
  {
   "cell_type": "markdown",
   "metadata": {},
   "source": [
    "Among the top 10 streets in terms of the number of objects, Kutuzovsky Avenue stands out, since it has outliers in establishments with 1,700 and 1,200 seats. Such meanings exist only in the dining room of the Cathedral of Christ the Savior."
   ]
  },
  {
   "cell_type": "markdown",
   "metadata": {},
   "source": [
    "# Summary"
   ]
  },
  {
   "cell_type": "markdown",
   "metadata": {},
   "source": [
    "Based on the results of the study, we can conclude:\n",
    "1) The largest number of establishments corresponds to the type of cafe, there are 6099 such establishments, which corresponds to 39.69% of the total number. \n",
    "2) The largest share of chain establishments is also suitable for this type of establishment - 9%.\n",
    "3) The distribution graph shows that a large number of establishments correspond to a small number of places.\n",
    "4) The largest number of seats on average belongs to canteens - more than 130 seats.\n",
    "5) The largest number of establishments are located on Mira Avenue - more than 200 establishments.\n",
    "As part of the project, it is worth noting that a robotic cafe should be opened in the center of Moscow, in particular on Profsoyuznaya Street in the Academichesky district. Here are some arguments:\n",
    "1) this street is in the top 10 most “busy” for establishments, that is, there is a lot of traffic there, which can play into the hands of an attempt to stand out and make a specific cafe with robots;\n",
    "2) This area is located near Moscow State University, the main and one of the largest universities in Moscow and Russia, which means young students should appreciate the new product;\n",
    "3) On average, establishments on this street have 24 seats, which means you can spend less money on renting or purchasing premises, while robots will significantly speed up the work of the cafe."
   ]
  }
 ],
 "metadata": {
  "ExecuteTimeLog": [
   {
    "duration": 1210,
    "start_time": "2022-08-15T10:00:38.804Z"
   },
   {
    "duration": 627,
    "start_time": "2022-08-15T10:00:40.016Z"
   },
   {
    "duration": 1147,
    "start_time": "2022-08-15T10:01:03.008Z"
   }
  ],
  "kernelspec": {
   "display_name": "Python 3.9.12 ('base')",
   "language": "python",
   "name": "python3"
  },
  "language_info": {
   "codemirror_mode": {
    "name": "ipython",
    "version": 3
   },
   "file_extension": ".py",
   "mimetype": "text/x-python",
   "name": "python",
   "nbconvert_exporter": "python",
   "pygments_lexer": "ipython3",
   "version": "3.9.12"
  },
  "toc": {
   "base_numbering": 1,
   "nav_menu": {},
   "number_sections": true,
   "sideBar": true,
   "skip_h1_title": true,
   "title_cell": "Table of Contents",
   "title_sidebar": "Contents",
   "toc_cell": false,
   "toc_position": {},
   "toc_section_display": true,
   "toc_window_display": false
  },
  "vscode": {
   "interpreter": {
    "hash": "0c74b0a454e3c9d730ef9fb08a167c1214258abf4e1cbd79a5eb93a13b26ba0f"
   }
  }
 },
 "nbformat": 4,
 "nbformat_minor": 2
}
