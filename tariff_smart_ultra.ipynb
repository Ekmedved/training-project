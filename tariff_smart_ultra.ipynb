{
 "cells": [
  {
   "cell_type": "markdown",
   "metadata": {},
   "source": [
    "Привет, Алексей!\n",
    "Надеюсь, ты не против, что мы с тобой будем на \"ты\". Меня зовут Комиссаров Алексей. Я буду проверять твою работу и помогать тебе в освоении материала. Я буду использовать следующую цветовую разметку:\n",
    "\n",
    "<div class=\"alert alert-danger\">\n",
    "<b>Комментарий от ревьюера:</b> Так я отмечаю пункты твоей работы, которые необходимо будет переделать.  </div>\n",
    "\n",
    "<div class=\"alert alert-warning\">\n",
    "<b>Комментарий от ревьюера:</b> Так я отмечаю то, что можно было бы улучшить/изменить/учесть или же добавляю пояснения к комментариям другого типа. Необходимости переделывать эти пункты нет, но принять во внимание стоит.</div>\n",
    "\n",
    "<div class=\"alert alert-success\">\n",
    "<b>Комментарий от ревьюера:</b> Так я выделяю все остальные комментарии и особо удачные моменты твоей работы.</div><br/>\n",
    "\n",
    "Разбирать твою работу мы будем в формате диалога, поэтому прошу отвечать на мои комментарии, задавать вопросы, если они возникли, и делать это в отдельном блоке таким цветом, который ты выберешь.<br/><br/>\n",
    "\n",
    "Прошу тебя не удалять эти комментарии, они нам помогут отследить историю изменений.\n",
    "<hr style=\"border: 1px solid #000;\">"
   ]
  },
  {
   "cell_type": "markdown",
   "metadata": {},
   "source": [
    "<hr style=\"border: 1px solid #000;\"> \n",
    "\n",
    "<div class=\"alert alert-warning\">\n",
    "\n",
    "<strong><font size=5>Комментарий от ревьюера</font></strong><br/>\n",
    "    \n",
    "Рекомендую работу начинать с содержания. Оно поможет тебе перемещаться по проекту и позволит не забыть какой-либо из пунктов работы. И работа будет выглядеть более презентабельной.<br/><br/>\n",
    "Пусть это и не критично, но отмечу этот пункт как обязательный к проработке. Буду рад тебе помочь с этим.\n",
    "    \n",
    "</div>"
   ]
  },
  {
   "cell_type": "markdown",
   "metadata": {},
   "source": [
    "<div class=\"alert alert-warning\">\n",
    "\n",
    "И приведу пример:\n",
    "    \n",
    "</div>"
   ]
  },
  {
   "cell_type": "markdown",
   "metadata": {},
   "source": [
    "<b><font size=5>Содержание</font></b><a name=\"to_content.\"></a>\n",
    "* [0. Описание проекта](#0.)\n",
    "* [1. Шаг 1. Откройте файл с данными и изучите общую информацию](#1.)\n",
    "     - [1.1. Вывод](#1.1.)\n",
    "* [2. Шаг 2. Подготовьте данные](#2.)\n",
    "     - [2.1. Группировка нескольких таблиц с данными в одну обобщенную](#2.1.)\n",
    "     - [2.2. Найдите и исправьте ошибки в данных](#2.2.)\n",
    "     - [2.3. Приведите данные к нужным типам](#2.3.)\n",
    "     - [2.4. Расчет помесячной выручки для каждого пользователя](#2.4.)\n",
    "     - [2.5. Сгруппированная таблица для каждого пользователя по количеству звонков, сообщений, гигабайтов и выручки за месяц](#2.5.)\n",
    "     - [2.6. Вывод](#2.6.)\n",
    "* [3. Шаг 3. Проанализируйте данные](#3.)\n",
    "     - [3.1. Вывод](#3.1.)\n",
    "* [4. Шаг 4. Проверьте гипотезы](#4.)\n",
    "     - [4.1. Вывод](#4.1.)\n",
    "     - [4.2. Вывод](#4.1.)\n",
    "* [5. Общий вывод](#5.)"
   ]
  },
  {
   "cell_type": "markdown",
   "metadata": {},
   "source": [
    "<div class=\"alert alert-warning\">\n",
    "    \n",
    "Как ты можешь видеть, мы помимо указания текста в квадратных скобках, добавляем ещё гиперссылку на пункт:\n",
    "```html\n",
    "(#0.)\n",
    "```\n",
    "А в ячейке того пункта, к которому мы должны переместиться при нажатии на этот пункт в содержании, добавляем:\n",
    "```html\n",
    "<a name=\"0.\"></a>\n",
    "```\n",
    "Обрати внимание, что в блок <b>Содержание</b> я ещё добавил \n",
    "```html\n",
    "<a name=\"to_content.\"></a>\n",
    "```\n",
    "Это позволит нам из каждого пункта возвращаться обратно к содержанию. А у каждого пункта добавляем что-то похожее на <b>\"(к содержанию)\"</b>, чтобы перемещаться обратно к содержанию. Очень удобно, когда у нас работает переход как от содержания к конкретному пункту, так и от конкретного пункта обратно к содержанию. \n",
    "    \n",
    "    \n",
    "Ниже создаю тестовую ячейку. На неё переместится экран при нажатии на \"1.1. Пункт 1.1\" в содержании. А когда мы нажмем <b>\"(к содержанию)\"</b>, то мы вернемся обратно к содержанию. Попробуй :)\n",
    "</div>"
   ]
  },
  {
   "cell_type": "markdown",
   "metadata": {},
   "source": [
    "Описание проекта<a name=\"0.\"></a><br/>\n",
    "[<font size=\"2\">(к содержанию)</font>](#to_content.)"
   ]
  },
  {
   "cell_type": "markdown",
   "metadata": {},
   "source": [
    "<div class=\"alert alert-warning\">\n",
    "    \n",
    "Поэтому очень рекомендую поработать над содержанием. Нам оно очень поможет.\n",
    "</div>\n",
    "<hr style=\"border: 1px solid #000;\"> "
   ]
  },
  {
   "cell_type": "markdown",
   "metadata": {},
   "source": [
    "<div class=\"alert alert-danger\">\n",
    "Алексей, сделал содержание также, как ты написал, но ссылки не срабатывают. Помоги разобраться с этим моментом.</div>"
   ]
  },
  {
   "cell_type": "markdown",
   "metadata": {},
   "source": [
    "<hr style=\"border: 1px solid #000;\"> \n",
    "\n",
    "<div class=\"alert alert-success\">\n",
    "<strong><font size=5>Комментарий от ревьюера (v.2)</font></strong><br/>\n",
    "    \n",
    "Да, прошу прощения, что сразу не указал. Чтобы ссылки работали, нужно заголовки делать не через ##, а, например, вот так:\n",
    "```html\n",
    "<strong><font size=5>1 Описание проекта</font></strong><br/>    \n",
    "```\n",
    "тогда ссылки работать будут. Когда мы указываем решётку, тогда Jupyter, учитывая его последние нововведения, на базе этого формирует своё собственное содержание, и поэтому по ссылкам на такие ячейки не пускает.\n",
    "    \n",
    "</div>\n",
    "<hr style=\"border: 1px solid #000;\"> "
   ]
  },
  {
   "cell_type": "markdown",
   "metadata": {},
   "source": [
    "<strong><font size=5>1 Описание проекта</font></strong><br/>\n",
    "[<font size=\"2\">(к содержанию)</font>](#to_content.)"
   ]
  },
  {
   "cell_type": "markdown",
   "metadata": {},
   "source": [
    "Вы аналитик компании «Мегалайн» — федерального оператора сотовой связи. Клиентам предлагают два тарифных плана: «Смарт» и «Ультра». Чтобы скорректировать рекламный бюджет, коммерческий департамент хочет понять, какой тариф приносит больше денег.\n",
    "Вам предстоит сделать предварительный анализ тарифов на небольшой выборке клиентов. В вашем распоряжении данные 500 пользователей «Мегалайна»: кто они, откуда, каким тарифом пользуются, сколько звонков и сообщений каждый отправил за 2018 год. Нужно проанализировать поведение клиентов и сделать вывод — какой тариф лучше."
   ]
  },
  {
   "cell_type": "markdown",
   "metadata": {},
   "source": [
    "## Шаг 1. Откройте файл с данными и изучите общую информацию<a name=\"1.\"></a><br/>\n",
    "[<font size=\"2\">(к содержанию)</font>](#to_content.)"
   ]
  },
  {
   "cell_type": "code",
   "execution_count": 1,
   "metadata": {},
   "outputs": [],
   "source": [
    "import pandas as pd\n",
    "import numpy as np\n",
    "import matplotlib.pyplot as plt\n",
    "from math import factorial\n",
    "from scipy import stats as st\n",
    "\n",
    "df_calls = pd.read_csv('/datasets/calls.csv', sep = ',')\n",
    "df_calls.to_csv('calls.csv')\n",
    "df_internet = pd.read_csv('/datasets/internet.csv', sep = ',')\n",
    "df_internet.to_csv('internet.csv')\n",
    "df_messages = pd.read_csv('/datasets/messages.csv', sep = ',')\n",
    "df_messages.to_csv('messages.csv')\n",
    "df_tariffs = pd.read_csv('/datasets/tariffs.csv', sep = ',')\n",
    "df_tariffs.to_csv('tariffs.csv')\n",
    "df_users = pd.read_csv('/datasets/users.csv', sep = ',')\n",
    "df_users.to_csv('users.csv')"
   ]
  },
  {
   "cell_type": "code",
   "execution_count": 2,
   "metadata": {},
   "outputs": [
    {
     "name": "stdout",
     "output_type": "stream",
     "text": [
      "<class 'pandas.core.frame.DataFrame'>\n",
      "RangeIndex: 202607 entries, 0 to 202606\n",
      "Data columns (total 4 columns):\n",
      "id           202607 non-null object\n",
      "call_date    202607 non-null object\n",
      "duration     202607 non-null float64\n",
      "user_id      202607 non-null int64\n",
      "dtypes: float64(1), int64(1), object(2)\n",
      "memory usage: 6.2+ MB\n"
     ]
    },
    {
     "data": {
      "text/html": [
       "<div>\n",
       "<style scoped>\n",
       "    .dataframe tbody tr th:only-of-type {\n",
       "        vertical-align: middle;\n",
       "    }\n",
       "\n",
       "    .dataframe tbody tr th {\n",
       "        vertical-align: top;\n",
       "    }\n",
       "\n",
       "    .dataframe thead th {\n",
       "        text-align: right;\n",
       "    }\n",
       "</style>\n",
       "<table border=\"1\" class=\"dataframe\">\n",
       "  <thead>\n",
       "    <tr style=\"text-align: right;\">\n",
       "      <th></th>\n",
       "      <th>id</th>\n",
       "      <th>call_date</th>\n",
       "      <th>duration</th>\n",
       "      <th>user_id</th>\n",
       "    </tr>\n",
       "  </thead>\n",
       "  <tbody>\n",
       "    <tr>\n",
       "      <td>0</td>\n",
       "      <td>1000_0</td>\n",
       "      <td>2018-07-25</td>\n",
       "      <td>0.00</td>\n",
       "      <td>1000</td>\n",
       "    </tr>\n",
       "    <tr>\n",
       "      <td>1</td>\n",
       "      <td>1000_1</td>\n",
       "      <td>2018-08-17</td>\n",
       "      <td>0.00</td>\n",
       "      <td>1000</td>\n",
       "    </tr>\n",
       "    <tr>\n",
       "      <td>2</td>\n",
       "      <td>1000_2</td>\n",
       "      <td>2018-06-11</td>\n",
       "      <td>2.85</td>\n",
       "      <td>1000</td>\n",
       "    </tr>\n",
       "    <tr>\n",
       "      <td>3</td>\n",
       "      <td>1000_3</td>\n",
       "      <td>2018-09-21</td>\n",
       "      <td>13.80</td>\n",
       "      <td>1000</td>\n",
       "    </tr>\n",
       "    <tr>\n",
       "      <td>4</td>\n",
       "      <td>1000_4</td>\n",
       "      <td>2018-12-15</td>\n",
       "      <td>5.18</td>\n",
       "      <td>1000</td>\n",
       "    </tr>\n",
       "  </tbody>\n",
       "</table>\n",
       "</div>"
      ],
      "text/plain": [
       "       id   call_date  duration  user_id\n",
       "0  1000_0  2018-07-25      0.00     1000\n",
       "1  1000_1  2018-08-17      0.00     1000\n",
       "2  1000_2  2018-06-11      2.85     1000\n",
       "3  1000_3  2018-09-21     13.80     1000\n",
       "4  1000_4  2018-12-15      5.18     1000"
      ]
     },
     "execution_count": 2,
     "metadata": {},
     "output_type": "execute_result"
    }
   ],
   "source": [
    "df_calls.info()\n",
    "df_calls.head()"
   ]
  },
  {
   "cell_type": "code",
   "execution_count": 3,
   "metadata": {},
   "outputs": [
    {
     "name": "stdout",
     "output_type": "stream",
     "text": [
      "<class 'pandas.core.frame.DataFrame'>\n",
      "RangeIndex: 149396 entries, 0 to 149395\n",
      "Data columns (total 5 columns):\n",
      "Unnamed: 0      149396 non-null int64\n",
      "id              149396 non-null object\n",
      "mb_used         149396 non-null float64\n",
      "session_date    149396 non-null object\n",
      "user_id         149396 non-null int64\n",
      "dtypes: float64(1), int64(2), object(2)\n",
      "memory usage: 5.7+ MB\n"
     ]
    },
    {
     "data": {
      "text/html": [
       "<div>\n",
       "<style scoped>\n",
       "    .dataframe tbody tr th:only-of-type {\n",
       "        vertical-align: middle;\n",
       "    }\n",
       "\n",
       "    .dataframe tbody tr th {\n",
       "        vertical-align: top;\n",
       "    }\n",
       "\n",
       "    .dataframe thead th {\n",
       "        text-align: right;\n",
       "    }\n",
       "</style>\n",
       "<table border=\"1\" class=\"dataframe\">\n",
       "  <thead>\n",
       "    <tr style=\"text-align: right;\">\n",
       "      <th></th>\n",
       "      <th>Unnamed: 0</th>\n",
       "      <th>id</th>\n",
       "      <th>mb_used</th>\n",
       "      <th>session_date</th>\n",
       "      <th>user_id</th>\n",
       "    </tr>\n",
       "  </thead>\n",
       "  <tbody>\n",
       "    <tr>\n",
       "      <td>0</td>\n",
       "      <td>0</td>\n",
       "      <td>1000_0</td>\n",
       "      <td>112.95</td>\n",
       "      <td>2018-11-25</td>\n",
       "      <td>1000</td>\n",
       "    </tr>\n",
       "    <tr>\n",
       "      <td>1</td>\n",
       "      <td>1</td>\n",
       "      <td>1000_1</td>\n",
       "      <td>1052.81</td>\n",
       "      <td>2018-09-07</td>\n",
       "      <td>1000</td>\n",
       "    </tr>\n",
       "    <tr>\n",
       "      <td>2</td>\n",
       "      <td>2</td>\n",
       "      <td>1000_2</td>\n",
       "      <td>1197.26</td>\n",
       "      <td>2018-06-25</td>\n",
       "      <td>1000</td>\n",
       "    </tr>\n",
       "    <tr>\n",
       "      <td>3</td>\n",
       "      <td>3</td>\n",
       "      <td>1000_3</td>\n",
       "      <td>550.27</td>\n",
       "      <td>2018-08-22</td>\n",
       "      <td>1000</td>\n",
       "    </tr>\n",
       "    <tr>\n",
       "      <td>4</td>\n",
       "      <td>4</td>\n",
       "      <td>1000_4</td>\n",
       "      <td>302.56</td>\n",
       "      <td>2018-09-24</td>\n",
       "      <td>1000</td>\n",
       "    </tr>\n",
       "  </tbody>\n",
       "</table>\n",
       "</div>"
      ],
      "text/plain": [
       "   Unnamed: 0      id  mb_used session_date  user_id\n",
       "0           0  1000_0   112.95   2018-11-25     1000\n",
       "1           1  1000_1  1052.81   2018-09-07     1000\n",
       "2           2  1000_2  1197.26   2018-06-25     1000\n",
       "3           3  1000_3   550.27   2018-08-22     1000\n",
       "4           4  1000_4   302.56   2018-09-24     1000"
      ]
     },
     "execution_count": 3,
     "metadata": {},
     "output_type": "execute_result"
    }
   ],
   "source": [
    "df_internet.info()\n",
    "df_internet.head()"
   ]
  },
  {
   "cell_type": "code",
   "execution_count": 4,
   "metadata": {},
   "outputs": [
    {
     "name": "stdout",
     "output_type": "stream",
     "text": [
      "<class 'pandas.core.frame.DataFrame'>\n",
      "RangeIndex: 123036 entries, 0 to 123035\n",
      "Data columns (total 3 columns):\n",
      "id              123036 non-null object\n",
      "message_date    123036 non-null object\n",
      "user_id         123036 non-null int64\n",
      "dtypes: int64(1), object(2)\n",
      "memory usage: 2.8+ MB\n"
     ]
    },
    {
     "data": {
      "text/html": [
       "<div>\n",
       "<style scoped>\n",
       "    .dataframe tbody tr th:only-of-type {\n",
       "        vertical-align: middle;\n",
       "    }\n",
       "\n",
       "    .dataframe tbody tr th {\n",
       "        vertical-align: top;\n",
       "    }\n",
       "\n",
       "    .dataframe thead th {\n",
       "        text-align: right;\n",
       "    }\n",
       "</style>\n",
       "<table border=\"1\" class=\"dataframe\">\n",
       "  <thead>\n",
       "    <tr style=\"text-align: right;\">\n",
       "      <th></th>\n",
       "      <th>id</th>\n",
       "      <th>message_date</th>\n",
       "      <th>user_id</th>\n",
       "    </tr>\n",
       "  </thead>\n",
       "  <tbody>\n",
       "    <tr>\n",
       "      <td>0</td>\n",
       "      <td>1000_0</td>\n",
       "      <td>2018-06-27</td>\n",
       "      <td>1000</td>\n",
       "    </tr>\n",
       "    <tr>\n",
       "      <td>1</td>\n",
       "      <td>1000_1</td>\n",
       "      <td>2018-10-08</td>\n",
       "      <td>1000</td>\n",
       "    </tr>\n",
       "    <tr>\n",
       "      <td>2</td>\n",
       "      <td>1000_2</td>\n",
       "      <td>2018-08-04</td>\n",
       "      <td>1000</td>\n",
       "    </tr>\n",
       "    <tr>\n",
       "      <td>3</td>\n",
       "      <td>1000_3</td>\n",
       "      <td>2018-06-16</td>\n",
       "      <td>1000</td>\n",
       "    </tr>\n",
       "    <tr>\n",
       "      <td>4</td>\n",
       "      <td>1000_4</td>\n",
       "      <td>2018-12-05</td>\n",
       "      <td>1000</td>\n",
       "    </tr>\n",
       "  </tbody>\n",
       "</table>\n",
       "</div>"
      ],
      "text/plain": [
       "       id message_date  user_id\n",
       "0  1000_0   2018-06-27     1000\n",
       "1  1000_1   2018-10-08     1000\n",
       "2  1000_2   2018-08-04     1000\n",
       "3  1000_3   2018-06-16     1000\n",
       "4  1000_4   2018-12-05     1000"
      ]
     },
     "execution_count": 4,
     "metadata": {},
     "output_type": "execute_result"
    }
   ],
   "source": [
    "df_messages.info()\n",
    "df_messages.head()"
   ]
  },
  {
   "cell_type": "code",
   "execution_count": 5,
   "metadata": {},
   "outputs": [
    {
     "name": "stdout",
     "output_type": "stream",
     "text": [
      "<class 'pandas.core.frame.DataFrame'>\n",
      "RangeIndex: 2 entries, 0 to 1\n",
      "Data columns (total 8 columns):\n",
      "messages_included        2 non-null int64\n",
      "mb_per_month_included    2 non-null int64\n",
      "minutes_included         2 non-null int64\n",
      "rub_monthly_fee          2 non-null int64\n",
      "rub_per_gb               2 non-null int64\n",
      "rub_per_message          2 non-null int64\n",
      "rub_per_minute           2 non-null int64\n",
      "tariff_name              2 non-null object\n",
      "dtypes: int64(7), object(1)\n",
      "memory usage: 256.0+ bytes\n"
     ]
    },
    {
     "data": {
      "text/html": [
       "<div>\n",
       "<style scoped>\n",
       "    .dataframe tbody tr th:only-of-type {\n",
       "        vertical-align: middle;\n",
       "    }\n",
       "\n",
       "    .dataframe tbody tr th {\n",
       "        vertical-align: top;\n",
       "    }\n",
       "\n",
       "    .dataframe thead th {\n",
       "        text-align: right;\n",
       "    }\n",
       "</style>\n",
       "<table border=\"1\" class=\"dataframe\">\n",
       "  <thead>\n",
       "    <tr style=\"text-align: right;\">\n",
       "      <th></th>\n",
       "      <th>messages_included</th>\n",
       "      <th>mb_per_month_included</th>\n",
       "      <th>minutes_included</th>\n",
       "      <th>rub_monthly_fee</th>\n",
       "      <th>rub_per_gb</th>\n",
       "      <th>rub_per_message</th>\n",
       "      <th>rub_per_minute</th>\n",
       "      <th>tariff_name</th>\n",
       "    </tr>\n",
       "  </thead>\n",
       "  <tbody>\n",
       "    <tr>\n",
       "      <td>0</td>\n",
       "      <td>50</td>\n",
       "      <td>15360</td>\n",
       "      <td>500</td>\n",
       "      <td>550</td>\n",
       "      <td>200</td>\n",
       "      <td>3</td>\n",
       "      <td>3</td>\n",
       "      <td>smart</td>\n",
       "    </tr>\n",
       "    <tr>\n",
       "      <td>1</td>\n",
       "      <td>1000</td>\n",
       "      <td>30720</td>\n",
       "      <td>3000</td>\n",
       "      <td>1950</td>\n",
       "      <td>150</td>\n",
       "      <td>1</td>\n",
       "      <td>1</td>\n",
       "      <td>ultra</td>\n",
       "    </tr>\n",
       "  </tbody>\n",
       "</table>\n",
       "</div>"
      ],
      "text/plain": [
       "   messages_included  mb_per_month_included  minutes_included  \\\n",
       "0                 50                  15360               500   \n",
       "1               1000                  30720              3000   \n",
       "\n",
       "   rub_monthly_fee  rub_per_gb  rub_per_message  rub_per_minute tariff_name  \n",
       "0              550         200                3               3       smart  \n",
       "1             1950         150                1               1       ultra  "
      ]
     },
     "execution_count": 5,
     "metadata": {},
     "output_type": "execute_result"
    }
   ],
   "source": [
    "df_tariffs.info()\n",
    "df_tariffs.head()"
   ]
  },
  {
   "cell_type": "code",
   "execution_count": 6,
   "metadata": {
    "scrolled": false
   },
   "outputs": [
    {
     "name": "stdout",
     "output_type": "stream",
     "text": [
      "<class 'pandas.core.frame.DataFrame'>\n",
      "RangeIndex: 500 entries, 0 to 499\n",
      "Data columns (total 8 columns):\n",
      "user_id       500 non-null int64\n",
      "age           500 non-null int64\n",
      "churn_date    38 non-null object\n",
      "city          500 non-null object\n",
      "first_name    500 non-null object\n",
      "last_name     500 non-null object\n",
      "reg_date      500 non-null object\n",
      "tariff        500 non-null object\n",
      "dtypes: int64(2), object(6)\n",
      "memory usage: 31.4+ KB\n"
     ]
    },
    {
     "data": {
      "text/html": [
       "<div>\n",
       "<style scoped>\n",
       "    .dataframe tbody tr th:only-of-type {\n",
       "        vertical-align: middle;\n",
       "    }\n",
       "\n",
       "    .dataframe tbody tr th {\n",
       "        vertical-align: top;\n",
       "    }\n",
       "\n",
       "    .dataframe thead th {\n",
       "        text-align: right;\n",
       "    }\n",
       "</style>\n",
       "<table border=\"1\" class=\"dataframe\">\n",
       "  <thead>\n",
       "    <tr style=\"text-align: right;\">\n",
       "      <th></th>\n",
       "      <th>user_id</th>\n",
       "      <th>age</th>\n",
       "      <th>churn_date</th>\n",
       "      <th>city</th>\n",
       "      <th>first_name</th>\n",
       "      <th>last_name</th>\n",
       "      <th>reg_date</th>\n",
       "      <th>tariff</th>\n",
       "    </tr>\n",
       "  </thead>\n",
       "  <tbody>\n",
       "    <tr>\n",
       "      <td>0</td>\n",
       "      <td>1000</td>\n",
       "      <td>52</td>\n",
       "      <td>NaN</td>\n",
       "      <td>Краснодар</td>\n",
       "      <td>Рафаил</td>\n",
       "      <td>Верещагин</td>\n",
       "      <td>2018-05-25</td>\n",
       "      <td>ultra</td>\n",
       "    </tr>\n",
       "    <tr>\n",
       "      <td>1</td>\n",
       "      <td>1001</td>\n",
       "      <td>41</td>\n",
       "      <td>NaN</td>\n",
       "      <td>Москва</td>\n",
       "      <td>Иван</td>\n",
       "      <td>Ежов</td>\n",
       "      <td>2018-11-01</td>\n",
       "      <td>smart</td>\n",
       "    </tr>\n",
       "    <tr>\n",
       "      <td>2</td>\n",
       "      <td>1002</td>\n",
       "      <td>59</td>\n",
       "      <td>NaN</td>\n",
       "      <td>Стерлитамак</td>\n",
       "      <td>Евгений</td>\n",
       "      <td>Абрамович</td>\n",
       "      <td>2018-06-17</td>\n",
       "      <td>smart</td>\n",
       "    </tr>\n",
       "    <tr>\n",
       "      <td>3</td>\n",
       "      <td>1003</td>\n",
       "      <td>23</td>\n",
       "      <td>NaN</td>\n",
       "      <td>Москва</td>\n",
       "      <td>Белла</td>\n",
       "      <td>Белякова</td>\n",
       "      <td>2018-08-17</td>\n",
       "      <td>ultra</td>\n",
       "    </tr>\n",
       "    <tr>\n",
       "      <td>4</td>\n",
       "      <td>1004</td>\n",
       "      <td>68</td>\n",
       "      <td>NaN</td>\n",
       "      <td>Новокузнецк</td>\n",
       "      <td>Татьяна</td>\n",
       "      <td>Авдеенко</td>\n",
       "      <td>2018-05-14</td>\n",
       "      <td>ultra</td>\n",
       "    </tr>\n",
       "  </tbody>\n",
       "</table>\n",
       "</div>"
      ],
      "text/plain": [
       "   user_id  age churn_date         city first_name  last_name    reg_date  \\\n",
       "0     1000   52        NaN    Краснодар     Рафаил  Верещагин  2018-05-25   \n",
       "1     1001   41        NaN       Москва       Иван       Ежов  2018-11-01   \n",
       "2     1002   59        NaN  Стерлитамак    Евгений  Абрамович  2018-06-17   \n",
       "3     1003   23        NaN       Москва      Белла   Белякова  2018-08-17   \n",
       "4     1004   68        NaN  Новокузнецк    Татьяна   Авдеенко  2018-05-14   \n",
       "\n",
       "  tariff  \n",
       "0  ultra  \n",
       "1  smart  \n",
       "2  smart  \n",
       "3  ultra  \n",
       "4  ultra  "
      ]
     },
     "execution_count": 6,
     "metadata": {},
     "output_type": "execute_result"
    }
   ],
   "source": [
    "df_users.info()\n",
    "df_users.head()"
   ]
  },
  {
   "cell_type": "markdown",
   "metadata": {},
   "source": [
    "### Вывод<a name=\"1.1\"></a><br/>\n",
    "[<font size=\"2\">(к содержанию)</font>](#to_content.)"
   ]
  },
  {
   "cell_type": "markdown",
   "metadata": {},
   "source": [
    "По таблице users видно, что в анализе принимают участие данные 500 пользователей разных тарифов из разных городов. Всего 38 клиентов закончили пользоваться услугами оператора. Дифференциация происходит по двум тарифам \"Ультра\" и \"Смарт\". По каждому пользователю у нас есть информацию по количеству звонков, продолжительности звонков, количеству используемого интернет трафика, дате отправляемых сообщений, а также сведениям о тарифах. Данные в разных таблицах неоднородны, поэтому необходимо будет собрать все данные в одну таблицу методом Merge. Стоит также отметить, что пропуски присутствуют только в столбце churn_rate, который определяет дату окончания пользования тарифом."
   ]
  },
  {
   "cell_type": "markdown",
   "metadata": {},
   "source": [
    "<hr style=\"border: 1px solid #000;\"> \n",
    "\n",
    "<div class=\"alert alert-success\">\n",
    "<strong><font size=5>Комментарий от ревьюера</font></strong><br/>\n",
    "    \n",
    "Отдельно стоит отметить, что пропусков у нас, без учета столбца <b>churn_rate</b>, нет, даже во фрейме на 150 тысяч строк.\n",
    "    \n",
    "</div>\n",
    "<hr style=\"border: 1px solid #000;\"> "
   ]
  },
  {
   "cell_type": "markdown",
   "metadata": {},
   "source": [
    "<div class=\"alert alert-success\">\n",
    "Дополнил вывод.</div><br/>"
   ]
  },
  {
   "cell_type": "markdown",
   "metadata": {},
   "source": [
    "## Шаг 2. Подготовьте данные<a name=\"2.\"></a><br/>\n",
    "[<font size=\"2\">(к содержанию)</font>](#to_content.)"
   ]
  },
  {
   "cell_type": "markdown",
   "metadata": {},
   "source": [
    "На данном шаге мы приведем данные к нужным типам, найдем и исправим ошибки в данных. Также посчитаем для каждого пользователя:\n",
    "количество сделанных звонков и израсходованных минут разговора по месяцам;\n",
    "количество отправленных сообщений по месяцам;\n",
    "объем израсходованного интернет-трафика по месяцам;\n",
    "помесячную выручку с каждого пользователя"
   ]
  },
  {
   "cell_type": "markdown",
   "metadata": {},
   "source": [
    "<hr style=\"border: 1px solid #000;\"> \n",
    "\n",
    "<div class=\"alert alert-warning\">\n",
    "<strong><font size=5>Комментарий от ревьюера</font></strong><br/>\n",
    "    \n",
    "Стоит предварительно объяснить, что сейчас будет происходить. А то тут одно за другим - даты у нас списком от первой до последней, картезианский джойн, а на выходе получается репорт. С какими целями это всё? Зачем джойн? Что получаем?\n",
    "    \n",
    "</div>\n",
    "<hr style=\"border: 1px solid #000;\"> "
   ]
  },
  {
   "cell_type": "markdown",
   "metadata": {},
   "source": [
    "<div class=\"alert alert-success\">\n",
    "Добавил описание и комментарии к коду.</div><br/>"
   ]
  },
  {
   "cell_type": "code",
   "execution_count": 7,
   "metadata": {
    "scrolled": true
   },
   "outputs": [
    {
     "name": "stdout",
     "output_type": "stream",
     "text": [
      "6000\n",
      "Количество записей после обработки:  3259\n"
     ]
    },
    {
     "data": {
      "text/html": [
       "<div>\n",
       "<style scoped>\n",
       "    .dataframe tbody tr th:only-of-type {\n",
       "        vertical-align: middle;\n",
       "    }\n",
       "\n",
       "    .dataframe tbody tr th {\n",
       "        vertical-align: top;\n",
       "    }\n",
       "\n",
       "    .dataframe thead th {\n",
       "        text-align: right;\n",
       "    }\n",
       "</style>\n",
       "<table border=\"1\" class=\"dataframe\">\n",
       "  <thead>\n",
       "    <tr style=\"text-align: right;\">\n",
       "      <th></th>\n",
       "      <th>month</th>\n",
       "      <th>key</th>\n",
       "      <th>user_id</th>\n",
       "      <th>age</th>\n",
       "      <th>churn_date</th>\n",
       "      <th>city</th>\n",
       "      <th>first_name</th>\n",
       "      <th>last_name</th>\n",
       "      <th>reg_date</th>\n",
       "      <th>tariff_name</th>\n",
       "      <th>reg_month</th>\n",
       "    </tr>\n",
       "  </thead>\n",
       "  <tbody>\n",
       "    <tr>\n",
       "      <td>5</td>\n",
       "      <td>1</td>\n",
       "      <td>1</td>\n",
       "      <td>1005</td>\n",
       "      <td>67</td>\n",
       "      <td>NaN</td>\n",
       "      <td>Набережные Челны</td>\n",
       "      <td>Афанасий</td>\n",
       "      <td>Горлов</td>\n",
       "      <td>2018-01-25</td>\n",
       "      <td>smart</td>\n",
       "      <td>2018-01-01</td>\n",
       "    </tr>\n",
       "    <tr>\n",
       "      <td>32</td>\n",
       "      <td>1</td>\n",
       "      <td>1</td>\n",
       "      <td>1032</td>\n",
       "      <td>31</td>\n",
       "      <td>NaN</td>\n",
       "      <td>Ульяновск</td>\n",
       "      <td>Инна</td>\n",
       "      <td>Игнатьева</td>\n",
       "      <td>2018-01-04</td>\n",
       "      <td>smart</td>\n",
       "      <td>2018-01-01</td>\n",
       "    </tr>\n",
       "    <tr>\n",
       "      <td>45</td>\n",
       "      <td>1</td>\n",
       "      <td>1</td>\n",
       "      <td>1045</td>\n",
       "      <td>48</td>\n",
       "      <td>NaN</td>\n",
       "      <td>Улан-Удэ</td>\n",
       "      <td>Джемма</td>\n",
       "      <td>Карасева</td>\n",
       "      <td>2018-01-30</td>\n",
       "      <td>smart</td>\n",
       "      <td>2018-01-01</td>\n",
       "    </tr>\n",
       "    <tr>\n",
       "      <td>55</td>\n",
       "      <td>1</td>\n",
       "      <td>1</td>\n",
       "      <td>1055</td>\n",
       "      <td>39</td>\n",
       "      <td>NaN</td>\n",
       "      <td>Казань</td>\n",
       "      <td>Луиза</td>\n",
       "      <td>Березина</td>\n",
       "      <td>2018-01-02</td>\n",
       "      <td>smart</td>\n",
       "      <td>2018-01-01</td>\n",
       "    </tr>\n",
       "    <tr>\n",
       "      <td>71</td>\n",
       "      <td>1</td>\n",
       "      <td>1</td>\n",
       "      <td>1071</td>\n",
       "      <td>20</td>\n",
       "      <td>2018-08-31</td>\n",
       "      <td>Омск</td>\n",
       "      <td>Гектор</td>\n",
       "      <td>Чумаков</td>\n",
       "      <td>2018-01-09</td>\n",
       "      <td>smart</td>\n",
       "      <td>2018-01-01</td>\n",
       "    </tr>\n",
       "  </tbody>\n",
       "</table>\n",
       "</div>"
      ],
      "text/plain": [
       "    month  key  user_id  age  churn_date              city first_name  \\\n",
       "5       1    1     1005   67         NaN  Набережные Челны   Афанасий   \n",
       "32      1    1     1032   31         NaN         Ульяновск       Инна   \n",
       "45      1    1     1045   48         NaN          Улан-Удэ     Джемма   \n",
       "55      1    1     1055   39         NaN            Казань      Луиза   \n",
       "71      1    1     1071   20  2018-08-31              Омск     Гектор   \n",
       "\n",
       "    last_name    reg_date tariff_name  reg_month  \n",
       "5      Горлов  2018-01-25       smart 2018-01-01  \n",
       "32  Игнатьева  2018-01-04       smart 2018-01-01  \n",
       "45   Карасева  2018-01-30       smart 2018-01-01  \n",
       "55   Березина  2018-01-02       smart 2018-01-01  \n",
       "71    Чумаков  2018-01-09       smart 2018-01-01  "
      ]
     },
     "execution_count": 7,
     "metadata": {},
     "output_type": "execute_result"
    }
   ],
   "source": [
    "df_users['reg_month'] = df_users['reg_date'].values.astype('datetime64[M]') #Создадим для каждого пользователя в df_users столбец с месяцем регистрации со всеми возможными значениями\n",
    "min_month = df_users['reg_date'].values.astype('datetime64[M]').min()\n",
    "max_month = df_users['reg_date'].values.astype('datetime64[M]').max()\n",
    "pd.date_range(min_month,max_month,freq='MS')\n",
    "dr = pd.DataFrame(pd.date_range(min_month,max_month,freq='MS')) #Создадим DataFrame со всеми значениями месяцев, присутствующих в таблице df_users\n",
    "dr.columns = ['month']\n",
    "print(len(df_users)*len(dr))\n",
    "dr['key'] = 1\n",
    "df_users['key'] = 1\n",
    "df_users_merge = dr.merge(df_users,on='key') #Соединим таблицу со всеми значениями месяцев и таблицей df_users\n",
    "print('Количество записей после обработки: ', len(df_users_merge[df_users_merge['month']>=df_users_merge['reg_month']]))\n",
    "df_users_merge = df_users_merge[df_users_merge['month'] >= df_users_merge['reg_month']] #Оставим только актуальные наблюдения \n",
    "df_users_merge['month'] = pd.DatetimeIndex(df_users_merge['month']).month #Переведем столбец month\n",
    "df_users_merge.rename(columns={'tariff': 'tariff_name'}, inplace=True) #Поменяем название столбца для дальнейшего объединения\n",
    "df_users_merge.head() "
   ]
  },
  {
   "cell_type": "code",
   "execution_count": 8,
   "metadata": {},
   "outputs": [],
   "source": [
    "df_calls['month'] = pd.DatetimeIndex(df_calls['call_date']).month #Переведем столбцы month, где выделим месяц из даты\n",
    "df_internet['month'] = pd.DatetimeIndex(df_internet['session_date']).month\n",
    "df_messages['month'] = pd.DatetimeIndex(df_messages['message_date']).month\n",
    "df_internet['gb_used'] = df_internet['mb_used'] / 1024 #Переведем столбец из мб в гб\n",
    "del df_internet['mb_used']\n",
    "calls_grouped = df_calls.pivot_table(index=['user_id', 'month'], values='duration', aggfunc=['count', 'sum'])\n",
    "calls_grouped.set_axis(['number_of_calls', 'call_duration'], axis='columns', inplace=True)                                                                                             \n",
    "internet_grouped = df_internet.pivot_table(index=['user_id', 'month'], values='gb_used', aggfunc='sum')\n",
    "messages_grouped = df_messages.pivot_table(index=['user_id', 'month'], aggfunc='count')\n",
    "del messages_grouped['id']\n",
    "messages_grouped.set_axis(['number_of_messages'], axis='columns', inplace=True)\n",
    "data_grouped = (calls_grouped, messages_grouped, internet_grouped)\n",
    "for data in data_grouped:\n",
    "    data.head(10)"
   ]
  },
  {
   "cell_type": "markdown",
   "metadata": {},
   "source": [
    "<hr style=\"border: 1px solid #000;\"> \n",
    "\n",
    "<div class=\"alert alert-warning\">\n",
    "<strong><font size=5>Комментарий от ревьюера</font></strong><br/>\n",
    "    \n",
    "Тут всё прозрачней, но всё равно стоит такое разбивать на несколько ячеек, а между ними добавлять комментарии о том, что сейчас будет происходить. Так будет проще отследить твои действия и дать тебе рекомендации по тому, как оптимизировать этот самый код. Но как ни крути выводить датафрейм надо без команды <b>print</b> - она просто убивает весь его презентабельный вид, и его становится невозможно читать.\n",
    "    \n",
    "</div>\n",
    "<hr style=\"border: 1px solid #000;\"> "
   ]
  },
  {
   "cell_type": "markdown",
   "metadata": {},
   "source": [
    "<div class=\"alert alert-success\">\n",
    "Поправил наименование report, чтобы было понятно по названию смысл таблицы. У меня почему то функция dataframe.head() не выводится. Поэтому принял решение сделать print.</div><br/>"
   ]
  },
  {
   "cell_type": "markdown",
   "metadata": {},
   "source": [
    "<hr style=\"border: 1px solid #000;\"> \n",
    "\n",
    "<div class=\"alert alert-warning\">\n",
    "<strong><font size=5>Комментарий от ревьюера (v.2)</font></strong><br/>\n",
    "    \n",
    "Да, чтобы вывести сразу несколько подряд, надо писать например <b>display(data.head(10))</b>. Это не внутренний метод пандас, а метод из другой библиотеки если что.\n",
    "    \n",
    "</div>\n",
    "<hr style=\"border: 1px solid #000;\"> "
   ]
  },
  {
   "cell_type": "markdown",
   "metadata": {},
   "source": [
    "### Группировка нескольких таблиц с данными в одну обобщенную.<a name=\"2.1\"></a><br/>\n",
    "[<font size=\"2\">(к содержанию)</font>](#to_content.)"
   ]
  },
  {
   "cell_type": "code",
   "execution_count": 9,
   "metadata": {},
   "outputs": [],
   "source": [
    "df = calls_grouped.merge(internet_grouped, how='outer', on=('user_id', 'month')).merge(messages_grouped, how='outer', on=('user_id', 'month')).merge(df_users_merge, on=('user_id', 'month'), how='outer').merge(df_tariffs, on='tariff_name', how='outer')"
   ]
  },
  {
   "cell_type": "markdown",
   "metadata": {},
   "source": [
    "### Найдите и исправьте ошибки в данных.<a name=\"2.2\"></a><br/>\n",
    "[<font size=\"2\">(к содержанию)</font>](#to_content.)"
   ]
  },
  {
   "cell_type": "code",
   "execution_count": 10,
   "metadata": {},
   "outputs": [
    {
     "data": {
      "text/html": [
       "<div>\n",
       "<style scoped>\n",
       "    .dataframe tbody tr th:only-of-type {\n",
       "        vertical-align: middle;\n",
       "    }\n",
       "\n",
       "    .dataframe tbody tr th {\n",
       "        vertical-align: top;\n",
       "    }\n",
       "\n",
       "    .dataframe thead th {\n",
       "        text-align: right;\n",
       "    }\n",
       "</style>\n",
       "<table border=\"1\" class=\"dataframe\">\n",
       "  <thead>\n",
       "    <tr style=\"text-align: right;\">\n",
       "      <th></th>\n",
       "      <th>user_id</th>\n",
       "      <th>month</th>\n",
       "      <th>number_of_calls</th>\n",
       "      <th>call_duration</th>\n",
       "      <th>gb_used</th>\n",
       "      <th>number_of_messages</th>\n",
       "      <th>age</th>\n",
       "      <th>churn_date</th>\n",
       "      <th>city</th>\n",
       "      <th>first_name</th>\n",
       "      <th>...</th>\n",
       "      <th>reg_date</th>\n",
       "      <th>tariff_name</th>\n",
       "      <th>reg_month</th>\n",
       "      <th>messages_included</th>\n",
       "      <th>minutes_included</th>\n",
       "      <th>rub_monthly_fee</th>\n",
       "      <th>rub_per_gb</th>\n",
       "      <th>rub_per_message</th>\n",
       "      <th>rub_per_minute</th>\n",
       "      <th>gb_per_month_included</th>\n",
       "    </tr>\n",
       "  </thead>\n",
       "  <tbody>\n",
       "    <tr>\n",
       "      <td>0</td>\n",
       "      <td>1000</td>\n",
       "      <td>5</td>\n",
       "      <td>22.0</td>\n",
       "      <td>150.06</td>\n",
       "      <td>2.200674</td>\n",
       "      <td>22.0</td>\n",
       "      <td>52</td>\n",
       "      <td>NaN</td>\n",
       "      <td>Краснодар</td>\n",
       "      <td>Рафаил</td>\n",
       "      <td>...</td>\n",
       "      <td>2018-05-25</td>\n",
       "      <td>ultra</td>\n",
       "      <td>2018-05-01</td>\n",
       "      <td>1000</td>\n",
       "      <td>3000</td>\n",
       "      <td>1950</td>\n",
       "      <td>150</td>\n",
       "      <td>1</td>\n",
       "      <td>1</td>\n",
       "      <td>30.0</td>\n",
       "    </tr>\n",
       "    <tr>\n",
       "      <td>1</td>\n",
       "      <td>1000</td>\n",
       "      <td>6</td>\n",
       "      <td>43.0</td>\n",
       "      <td>158.90</td>\n",
       "      <td>22.689229</td>\n",
       "      <td>60.0</td>\n",
       "      <td>52</td>\n",
       "      <td>NaN</td>\n",
       "      <td>Краснодар</td>\n",
       "      <td>Рафаил</td>\n",
       "      <td>...</td>\n",
       "      <td>2018-05-25</td>\n",
       "      <td>ultra</td>\n",
       "      <td>2018-05-01</td>\n",
       "      <td>1000</td>\n",
       "      <td>3000</td>\n",
       "      <td>1950</td>\n",
       "      <td>150</td>\n",
       "      <td>1</td>\n",
       "      <td>1</td>\n",
       "      <td>30.0</td>\n",
       "    </tr>\n",
       "    <tr>\n",
       "      <td>2</td>\n",
       "      <td>1000</td>\n",
       "      <td>7</td>\n",
       "      <td>47.0</td>\n",
       "      <td>318.80</td>\n",
       "      <td>13.675430</td>\n",
       "      <td>75.0</td>\n",
       "      <td>52</td>\n",
       "      <td>NaN</td>\n",
       "      <td>Краснодар</td>\n",
       "      <td>Рафаил</td>\n",
       "      <td>...</td>\n",
       "      <td>2018-05-25</td>\n",
       "      <td>ultra</td>\n",
       "      <td>2018-05-01</td>\n",
       "      <td>1000</td>\n",
       "      <td>3000</td>\n",
       "      <td>1950</td>\n",
       "      <td>150</td>\n",
       "      <td>1</td>\n",
       "      <td>1</td>\n",
       "      <td>30.0</td>\n",
       "    </tr>\n",
       "    <tr>\n",
       "      <td>3</td>\n",
       "      <td>1000</td>\n",
       "      <td>8</td>\n",
       "      <td>52.0</td>\n",
       "      <td>389.87</td>\n",
       "      <td>13.726494</td>\n",
       "      <td>81.0</td>\n",
       "      <td>52</td>\n",
       "      <td>NaN</td>\n",
       "      <td>Краснодар</td>\n",
       "      <td>Рафаил</td>\n",
       "      <td>...</td>\n",
       "      <td>2018-05-25</td>\n",
       "      <td>ultra</td>\n",
       "      <td>2018-05-01</td>\n",
       "      <td>1000</td>\n",
       "      <td>3000</td>\n",
       "      <td>1950</td>\n",
       "      <td>150</td>\n",
       "      <td>1</td>\n",
       "      <td>1</td>\n",
       "      <td>30.0</td>\n",
       "    </tr>\n",
       "    <tr>\n",
       "      <td>4</td>\n",
       "      <td>1000</td>\n",
       "      <td>9</td>\n",
       "      <td>58.0</td>\n",
       "      <td>440.14</td>\n",
       "      <td>14.227451</td>\n",
       "      <td>57.0</td>\n",
       "      <td>52</td>\n",
       "      <td>NaN</td>\n",
       "      <td>Краснодар</td>\n",
       "      <td>Рафаил</td>\n",
       "      <td>...</td>\n",
       "      <td>2018-05-25</td>\n",
       "      <td>ultra</td>\n",
       "      <td>2018-05-01</td>\n",
       "      <td>1000</td>\n",
       "      <td>3000</td>\n",
       "      <td>1950</td>\n",
       "      <td>150</td>\n",
       "      <td>1</td>\n",
       "      <td>1</td>\n",
       "      <td>30.0</td>\n",
       "    </tr>\n",
       "  </tbody>\n",
       "</table>\n",
       "<p>5 rows × 21 columns</p>\n",
       "</div>"
      ],
      "text/plain": [
       "   user_id  month  number_of_calls  call_duration    gb_used  \\\n",
       "0     1000      5             22.0         150.06   2.200674   \n",
       "1     1000      6             43.0         158.90  22.689229   \n",
       "2     1000      7             47.0         318.80  13.675430   \n",
       "3     1000      8             52.0         389.87  13.726494   \n",
       "4     1000      9             58.0         440.14  14.227451   \n",
       "\n",
       "   number_of_messages  age churn_date       city first_name  ...    reg_date  \\\n",
       "0                22.0   52        NaN  Краснодар     Рафаил  ...  2018-05-25   \n",
       "1                60.0   52        NaN  Краснодар     Рафаил  ...  2018-05-25   \n",
       "2                75.0   52        NaN  Краснодар     Рафаил  ...  2018-05-25   \n",
       "3                81.0   52        NaN  Краснодар     Рафаил  ...  2018-05-25   \n",
       "4                57.0   52        NaN  Краснодар     Рафаил  ...  2018-05-25   \n",
       "\n",
       "  tariff_name  reg_month messages_included  minutes_included  rub_monthly_fee  \\\n",
       "0       ultra 2018-05-01              1000              3000             1950   \n",
       "1       ultra 2018-05-01              1000              3000             1950   \n",
       "2       ultra 2018-05-01              1000              3000             1950   \n",
       "3       ultra 2018-05-01              1000              3000             1950   \n",
       "4       ultra 2018-05-01              1000              3000             1950   \n",
       "\n",
       "   rub_per_gb  rub_per_message  rub_per_minute  gb_per_month_included  \n",
       "0         150                1               1                   30.0  \n",
       "1         150                1               1                   30.0  \n",
       "2         150                1               1                   30.0  \n",
       "3         150                1               1                   30.0  \n",
       "4         150                1               1                   30.0  \n",
       "\n",
       "[5 rows x 21 columns]"
      ]
     },
     "execution_count": 10,
     "metadata": {},
     "output_type": "execute_result"
    }
   ],
   "source": [
    "df['gb_per_month_included'] = df['mb_per_month_included'] / 1024\n",
    "del df['mb_per_month_included']\n",
    "df['number_of_calls'] = df['number_of_calls'].fillna(0)\n",
    "df['call_duration'] = df['call_duration'].fillna(0)\n",
    "df['gb_used'] = df['gb_used'].fillna(0)\n",
    "df['number_of_messages'] = df['number_of_messages'].fillna(0)\n",
    "del df['key']\n",
    "df.head()"
   ]
  },
  {
   "cell_type": "markdown",
   "metadata": {},
   "source": [
    "<hr style=\"border: 1px solid #000;\"> \n",
    "\n",
    "<div class=\"alert alert-danger\">\n",
    "<strong><font size=5>Комментарий от ревьюера</font></strong><br/>\n",
    "    \n",
    "Выше мы уже приводили мегабайты к гигабайтам, после чего ты удалил столбец с мегабайтами. А теперь мы опять делим на 1024. Почему?\n",
    "    \n",
    "</div>\n",
    "<hr style=\"border: 1px solid #000;\"> "
   ]
  },
  {
   "cell_type": "markdown",
   "metadata": {},
   "source": [
    "<div class=\"alert alert-success\">\n",
    "Я перевел значения по столбцу mb_used в прошлом пункте, а сейчас столбец mb_per_month_included.</div><br/> "
   ]
  },
  {
   "cell_type": "markdown",
   "metadata": {},
   "source": [
    "<hr style=\"border: 1px solid #000;\"> \n",
    "\n",
    "<div class=\"alert alert-success\">\n",
    "<strong><font size=5>Комментарий от ревьюера (v.2)</font></strong><br/>\n",
    "    \n",
    "Теперь хорошо.\n",
    "    \n",
    "</div>\n",
    "<hr style=\"border: 1px solid #000;\"> "
   ]
  },
  {
   "cell_type": "markdown",
   "metadata": {},
   "source": [
    "### Приведите данные к нужным типам<a name=\"2.3\"></a><br/>\n",
    "[<font size=\"2\">(к содержанию)</font>](#to_content.)"
   ]
  },
  {
   "cell_type": "code",
   "execution_count": 11,
   "metadata": {},
   "outputs": [
    {
     "data": {
      "text/html": [
       "<div>\n",
       "<style scoped>\n",
       "    .dataframe tbody tr th:only-of-type {\n",
       "        vertical-align: middle;\n",
       "    }\n",
       "\n",
       "    .dataframe tbody tr th {\n",
       "        vertical-align: top;\n",
       "    }\n",
       "\n",
       "    .dataframe thead th {\n",
       "        text-align: right;\n",
       "    }\n",
       "</style>\n",
       "<table border=\"1\" class=\"dataframe\">\n",
       "  <thead>\n",
       "    <tr style=\"text-align: right;\">\n",
       "      <th></th>\n",
       "      <th>user_id</th>\n",
       "      <th>month</th>\n",
       "      <th>number_of_calls</th>\n",
       "      <th>call_duration</th>\n",
       "      <th>gb_used</th>\n",
       "      <th>number_of_messages</th>\n",
       "      <th>age</th>\n",
       "      <th>churn_date</th>\n",
       "      <th>city</th>\n",
       "      <th>first_name</th>\n",
       "      <th>...</th>\n",
       "      <th>reg_date</th>\n",
       "      <th>tariff_name</th>\n",
       "      <th>reg_month</th>\n",
       "      <th>messages_included</th>\n",
       "      <th>minutes_included</th>\n",
       "      <th>rub_monthly_fee</th>\n",
       "      <th>rub_per_gb</th>\n",
       "      <th>rub_per_message</th>\n",
       "      <th>rub_per_minute</th>\n",
       "      <th>gb_per_month_included</th>\n",
       "    </tr>\n",
       "  </thead>\n",
       "  <tbody>\n",
       "    <tr>\n",
       "      <td>0</td>\n",
       "      <td>1000</td>\n",
       "      <td>5</td>\n",
       "      <td>22</td>\n",
       "      <td>150</td>\n",
       "      <td>2.20</td>\n",
       "      <td>22</td>\n",
       "      <td>52</td>\n",
       "      <td>NaN</td>\n",
       "      <td>Краснодар</td>\n",
       "      <td>Рафаил</td>\n",
       "      <td>...</td>\n",
       "      <td>2018-05-25</td>\n",
       "      <td>ultra</td>\n",
       "      <td>2018-05-01</td>\n",
       "      <td>1000</td>\n",
       "      <td>3000</td>\n",
       "      <td>1950</td>\n",
       "      <td>150</td>\n",
       "      <td>1</td>\n",
       "      <td>1</td>\n",
       "      <td>30.0</td>\n",
       "    </tr>\n",
       "    <tr>\n",
       "      <td>1</td>\n",
       "      <td>1000</td>\n",
       "      <td>6</td>\n",
       "      <td>43</td>\n",
       "      <td>158</td>\n",
       "      <td>22.69</td>\n",
       "      <td>60</td>\n",
       "      <td>52</td>\n",
       "      <td>NaN</td>\n",
       "      <td>Краснодар</td>\n",
       "      <td>Рафаил</td>\n",
       "      <td>...</td>\n",
       "      <td>2018-05-25</td>\n",
       "      <td>ultra</td>\n",
       "      <td>2018-05-01</td>\n",
       "      <td>1000</td>\n",
       "      <td>3000</td>\n",
       "      <td>1950</td>\n",
       "      <td>150</td>\n",
       "      <td>1</td>\n",
       "      <td>1</td>\n",
       "      <td>30.0</td>\n",
       "    </tr>\n",
       "    <tr>\n",
       "      <td>2</td>\n",
       "      <td>1000</td>\n",
       "      <td>7</td>\n",
       "      <td>47</td>\n",
       "      <td>318</td>\n",
       "      <td>13.68</td>\n",
       "      <td>75</td>\n",
       "      <td>52</td>\n",
       "      <td>NaN</td>\n",
       "      <td>Краснодар</td>\n",
       "      <td>Рафаил</td>\n",
       "      <td>...</td>\n",
       "      <td>2018-05-25</td>\n",
       "      <td>ultra</td>\n",
       "      <td>2018-05-01</td>\n",
       "      <td>1000</td>\n",
       "      <td>3000</td>\n",
       "      <td>1950</td>\n",
       "      <td>150</td>\n",
       "      <td>1</td>\n",
       "      <td>1</td>\n",
       "      <td>30.0</td>\n",
       "    </tr>\n",
       "    <tr>\n",
       "      <td>3</td>\n",
       "      <td>1000</td>\n",
       "      <td>8</td>\n",
       "      <td>52</td>\n",
       "      <td>389</td>\n",
       "      <td>13.73</td>\n",
       "      <td>81</td>\n",
       "      <td>52</td>\n",
       "      <td>NaN</td>\n",
       "      <td>Краснодар</td>\n",
       "      <td>Рафаил</td>\n",
       "      <td>...</td>\n",
       "      <td>2018-05-25</td>\n",
       "      <td>ultra</td>\n",
       "      <td>2018-05-01</td>\n",
       "      <td>1000</td>\n",
       "      <td>3000</td>\n",
       "      <td>1950</td>\n",
       "      <td>150</td>\n",
       "      <td>1</td>\n",
       "      <td>1</td>\n",
       "      <td>30.0</td>\n",
       "    </tr>\n",
       "    <tr>\n",
       "      <td>4</td>\n",
       "      <td>1000</td>\n",
       "      <td>9</td>\n",
       "      <td>58</td>\n",
       "      <td>440</td>\n",
       "      <td>14.23</td>\n",
       "      <td>57</td>\n",
       "      <td>52</td>\n",
       "      <td>NaN</td>\n",
       "      <td>Краснодар</td>\n",
       "      <td>Рафаил</td>\n",
       "      <td>...</td>\n",
       "      <td>2018-05-25</td>\n",
       "      <td>ultra</td>\n",
       "      <td>2018-05-01</td>\n",
       "      <td>1000</td>\n",
       "      <td>3000</td>\n",
       "      <td>1950</td>\n",
       "      <td>150</td>\n",
       "      <td>1</td>\n",
       "      <td>1</td>\n",
       "      <td>30.0</td>\n",
       "    </tr>\n",
       "  </tbody>\n",
       "</table>\n",
       "<p>5 rows × 21 columns</p>\n",
       "</div>"
      ],
      "text/plain": [
       "   user_id  month  number_of_calls  call_duration  gb_used  \\\n",
       "0     1000      5               22            150     2.20   \n",
       "1     1000      6               43            158    22.69   \n",
       "2     1000      7               47            318    13.68   \n",
       "3     1000      8               52            389    13.73   \n",
       "4     1000      9               58            440    14.23   \n",
       "\n",
       "   number_of_messages  age churn_date       city first_name  ...    reg_date  \\\n",
       "0                  22   52        NaN  Краснодар     Рафаил  ...  2018-05-25   \n",
       "1                  60   52        NaN  Краснодар     Рафаил  ...  2018-05-25   \n",
       "2                  75   52        NaN  Краснодар     Рафаил  ...  2018-05-25   \n",
       "3                  81   52        NaN  Краснодар     Рафаил  ...  2018-05-25   \n",
       "4                  57   52        NaN  Краснодар     Рафаил  ...  2018-05-25   \n",
       "\n",
       "  tariff_name  reg_month messages_included  minutes_included  rub_monthly_fee  \\\n",
       "0       ultra 2018-05-01              1000              3000             1950   \n",
       "1       ultra 2018-05-01              1000              3000             1950   \n",
       "2       ultra 2018-05-01              1000              3000             1950   \n",
       "3       ultra 2018-05-01              1000              3000             1950   \n",
       "4       ultra 2018-05-01              1000              3000             1950   \n",
       "\n",
       "   rub_per_gb  rub_per_message  rub_per_minute  gb_per_month_included  \n",
       "0         150                1               1                   30.0  \n",
       "1         150                1               1                   30.0  \n",
       "2         150                1               1                   30.0  \n",
       "3         150                1               1                   30.0  \n",
       "4         150                1               1                   30.0  \n",
       "\n",
       "[5 rows x 21 columns]"
      ]
     },
     "execution_count": 11,
     "metadata": {},
     "output_type": "execute_result"
    }
   ],
   "source": [
    "df['call_duration'] = df['call_duration'].astype('int')\n",
    "df['gb_used'] = df['gb_used'].round(2)\n",
    "df['number_of_messages'] = df['number_of_messages'].astype('int')\n",
    "df['number_of_calls'] = df['number_of_calls'].astype('int')\n",
    "df.head()"
   ]
  },
  {
   "cell_type": "code",
   "execution_count": 12,
   "metadata": {},
   "outputs": [
    {
     "name": "stdout",
     "output_type": "stream",
     "text": [
      "Общее количество наблюдений:  3259\n",
      "Количество пропущенных значений по столбцам:  user_id                     0\n",
      "month                       0\n",
      "number_of_calls             0\n",
      "call_duration               0\n",
      "gb_used                     0\n",
      "number_of_messages          0\n",
      "age                         0\n",
      "churn_date               3027\n",
      "city                        0\n",
      "first_name                  0\n",
      "last_name                   0\n",
      "reg_date                    0\n",
      "tariff_name                 0\n",
      "reg_month                   0\n",
      "messages_included           0\n",
      "minutes_included            0\n",
      "rub_monthly_fee             0\n",
      "rub_per_gb                  0\n",
      "rub_per_message             0\n",
      "rub_per_minute              0\n",
      "gb_per_month_included       0\n",
      "dtype: int64\n",
      "Количество дубликатов:  0\n"
     ]
    }
   ],
   "source": [
    "print('Общее количество наблюдений: ', len(df))\n",
    "print('Количество пропущенных значений по столбцам: ', df.isna().sum())\n",
    "print('Количество дубликатов: ', df.duplicated().sum())"
   ]
  },
  {
   "cell_type": "markdown",
   "metadata": {},
   "source": [
    "### Расчет помесячной выручки для каждого пользователя<a name=\"2.4\"></a><br/>\n",
    "[<font size=\"2\">(к содержанию)</font>](#to_content.)"
   ]
  },
  {
   "cell_type": "code",
   "execution_count": 13,
   "metadata": {
    "scrolled": true
   },
   "outputs": [
    {
     "data": {
      "text/html": [
       "<div>\n",
       "<style scoped>\n",
       "    .dataframe tbody tr th:only-of-type {\n",
       "        vertical-align: middle;\n",
       "    }\n",
       "\n",
       "    .dataframe tbody tr th {\n",
       "        vertical-align: top;\n",
       "    }\n",
       "\n",
       "    .dataframe thead th {\n",
       "        text-align: right;\n",
       "    }\n",
       "</style>\n",
       "<table border=\"1\" class=\"dataframe\">\n",
       "  <thead>\n",
       "    <tr style=\"text-align: right;\">\n",
       "      <th></th>\n",
       "      <th>user_id</th>\n",
       "      <th>month</th>\n",
       "      <th>number_of_calls</th>\n",
       "      <th>call_duration</th>\n",
       "      <th>gb_used</th>\n",
       "      <th>number_of_messages</th>\n",
       "      <th>age</th>\n",
       "      <th>churn_date</th>\n",
       "      <th>city</th>\n",
       "      <th>first_name</th>\n",
       "      <th>...</th>\n",
       "      <th>tariff_name</th>\n",
       "      <th>reg_month</th>\n",
       "      <th>messages_included</th>\n",
       "      <th>minutes_included</th>\n",
       "      <th>rub_monthly_fee</th>\n",
       "      <th>rub_per_gb</th>\n",
       "      <th>rub_per_message</th>\n",
       "      <th>rub_per_minute</th>\n",
       "      <th>gb_per_month_included</th>\n",
       "      <th>month_payment</th>\n",
       "    </tr>\n",
       "  </thead>\n",
       "  <tbody>\n",
       "    <tr>\n",
       "      <td>0</td>\n",
       "      <td>1000</td>\n",
       "      <td>5</td>\n",
       "      <td>22</td>\n",
       "      <td>150</td>\n",
       "      <td>2.20</td>\n",
       "      <td>22</td>\n",
       "      <td>52</td>\n",
       "      <td>NaN</td>\n",
       "      <td>Краснодар</td>\n",
       "      <td>Рафаил</td>\n",
       "      <td>...</td>\n",
       "      <td>ultra</td>\n",
       "      <td>2018-05-01</td>\n",
       "      <td>1000</td>\n",
       "      <td>3000</td>\n",
       "      <td>1950</td>\n",
       "      <td>150</td>\n",
       "      <td>1</td>\n",
       "      <td>1</td>\n",
       "      <td>30.0</td>\n",
       "      <td>1950.0</td>\n",
       "    </tr>\n",
       "    <tr>\n",
       "      <td>1</td>\n",
       "      <td>1000</td>\n",
       "      <td>6</td>\n",
       "      <td>43</td>\n",
       "      <td>158</td>\n",
       "      <td>22.69</td>\n",
       "      <td>60</td>\n",
       "      <td>52</td>\n",
       "      <td>NaN</td>\n",
       "      <td>Краснодар</td>\n",
       "      <td>Рафаил</td>\n",
       "      <td>...</td>\n",
       "      <td>ultra</td>\n",
       "      <td>2018-05-01</td>\n",
       "      <td>1000</td>\n",
       "      <td>3000</td>\n",
       "      <td>1950</td>\n",
       "      <td>150</td>\n",
       "      <td>1</td>\n",
       "      <td>1</td>\n",
       "      <td>30.0</td>\n",
       "      <td>1950.0</td>\n",
       "    </tr>\n",
       "    <tr>\n",
       "      <td>2</td>\n",
       "      <td>1000</td>\n",
       "      <td>7</td>\n",
       "      <td>47</td>\n",
       "      <td>318</td>\n",
       "      <td>13.68</td>\n",
       "      <td>75</td>\n",
       "      <td>52</td>\n",
       "      <td>NaN</td>\n",
       "      <td>Краснодар</td>\n",
       "      <td>Рафаил</td>\n",
       "      <td>...</td>\n",
       "      <td>ultra</td>\n",
       "      <td>2018-05-01</td>\n",
       "      <td>1000</td>\n",
       "      <td>3000</td>\n",
       "      <td>1950</td>\n",
       "      <td>150</td>\n",
       "      <td>1</td>\n",
       "      <td>1</td>\n",
       "      <td>30.0</td>\n",
       "      <td>1950.0</td>\n",
       "    </tr>\n",
       "    <tr>\n",
       "      <td>3</td>\n",
       "      <td>1000</td>\n",
       "      <td>8</td>\n",
       "      <td>52</td>\n",
       "      <td>389</td>\n",
       "      <td>13.73</td>\n",
       "      <td>81</td>\n",
       "      <td>52</td>\n",
       "      <td>NaN</td>\n",
       "      <td>Краснодар</td>\n",
       "      <td>Рафаил</td>\n",
       "      <td>...</td>\n",
       "      <td>ultra</td>\n",
       "      <td>2018-05-01</td>\n",
       "      <td>1000</td>\n",
       "      <td>3000</td>\n",
       "      <td>1950</td>\n",
       "      <td>150</td>\n",
       "      <td>1</td>\n",
       "      <td>1</td>\n",
       "      <td>30.0</td>\n",
       "      <td>1950.0</td>\n",
       "    </tr>\n",
       "    <tr>\n",
       "      <td>4</td>\n",
       "      <td>1000</td>\n",
       "      <td>9</td>\n",
       "      <td>58</td>\n",
       "      <td>440</td>\n",
       "      <td>14.23</td>\n",
       "      <td>57</td>\n",
       "      <td>52</td>\n",
       "      <td>NaN</td>\n",
       "      <td>Краснодар</td>\n",
       "      <td>Рафаил</td>\n",
       "      <td>...</td>\n",
       "      <td>ultra</td>\n",
       "      <td>2018-05-01</td>\n",
       "      <td>1000</td>\n",
       "      <td>3000</td>\n",
       "      <td>1950</td>\n",
       "      <td>150</td>\n",
       "      <td>1</td>\n",
       "      <td>1</td>\n",
       "      <td>30.0</td>\n",
       "      <td>1950.0</td>\n",
       "    </tr>\n",
       "  </tbody>\n",
       "</table>\n",
       "<p>5 rows × 22 columns</p>\n",
       "</div>"
      ],
      "text/plain": [
       "   user_id  month  number_of_calls  call_duration  gb_used  \\\n",
       "0     1000      5               22            150     2.20   \n",
       "1     1000      6               43            158    22.69   \n",
       "2     1000      7               47            318    13.68   \n",
       "3     1000      8               52            389    13.73   \n",
       "4     1000      9               58            440    14.23   \n",
       "\n",
       "   number_of_messages  age churn_date       city first_name  ... tariff_name  \\\n",
       "0                  22   52        NaN  Краснодар     Рафаил  ...       ultra   \n",
       "1                  60   52        NaN  Краснодар     Рафаил  ...       ultra   \n",
       "2                  75   52        NaN  Краснодар     Рафаил  ...       ultra   \n",
       "3                  81   52        NaN  Краснодар     Рафаил  ...       ultra   \n",
       "4                  57   52        NaN  Краснодар     Рафаил  ...       ultra   \n",
       "\n",
       "   reg_month messages_included minutes_included  rub_monthly_fee  rub_per_gb  \\\n",
       "0 2018-05-01              1000             3000             1950         150   \n",
       "1 2018-05-01              1000             3000             1950         150   \n",
       "2 2018-05-01              1000             3000             1950         150   \n",
       "3 2018-05-01              1000             3000             1950         150   \n",
       "4 2018-05-01              1000             3000             1950         150   \n",
       "\n",
       "   rub_per_message  rub_per_minute  gb_per_month_included  month_payment  \n",
       "0                1               1                   30.0         1950.0  \n",
       "1                1               1                   30.0         1950.0  \n",
       "2                1               1                   30.0         1950.0  \n",
       "3                1               1                   30.0         1950.0  \n",
       "4                1               1                   30.0         1950.0  \n",
       "\n",
       "[5 rows x 22 columns]"
      ]
     },
     "execution_count": 13,
     "metadata": {},
     "output_type": "execute_result"
    }
   ],
   "source": [
    "def month_calc(row):\n",
    "    calls = row['call_duration']\n",
    "    messages = row['number_of_messages']\n",
    "    internet = row['gb_used']\n",
    " \n",
    "    tariff = row['tariff_name']\n",
    " \n",
    "    minutes_lim = row['minutes_included']\n",
    "    messages_lim = row['messages_included']\n",
    "    internet_lim = row['gb_per_month_included']\n",
    " \n",
    "    # переплата по звонкам\n",
    "    call_overlimit = max(calls - minutes_lim, 0)\n",
    "    call_overpay = call_overlimit * row['rub_per_minute']\n",
    " \n",
    "    # переплата по сообщениям\n",
    "    messages_overlimit = max(messages - messages_lim, 0)\n",
    "    messages_overpay = messages_overlimit * row['rub_per_message']\n",
    " \n",
    "    # переплата за трафик интернета\n",
    "    internet_overlimit = np.ceil(max(internet - internet_lim, 0))   \n",
    "    internet_overpay = internet_overlimit * row['rub_per_gb']\n",
    " \n",
    "    return (call_overpay + messages_overpay + internet_overpay + row['rub_monthly_fee'])\n",
    " \n",
    "df['month_payment'] = df.apply(month_calc, axis=1)\n",
    "df['month_payment'] = df['month_payment'].round(2)\n",
    "df.head()"
   ]
  },
  {
   "cell_type": "markdown",
   "metadata": {},
   "source": [
    "<hr style=\"border: 1px solid #000;\"> \n",
    "\n",
    "<div class=\"alert alert-success\">\n",
    "<strong><font size=5>Комментарий от ревьюера</font></strong><br/>\n",
    "    \n",
    "О, гигабайты округлили до целых чисел в большую сторону при расчете платы за месяц. Это отлично.\n",
    "    \n",
    "</div>\n",
    "<hr style=\"border: 1px solid #000;\"> "
   ]
  },
  {
   "cell_type": "markdown",
   "metadata": {},
   "source": [
    "### Сгруппированная таблица для каждого пользователя по количеству звонков, сообщений, гигабайтов и выручки за месяц<a name=\"2.5\"></a><br/>\n",
    "[<font size=\"2\">(к содержанию)</font>](#to_content.)"
   ]
  },
  {
   "cell_type": "code",
   "execution_count": 14,
   "metadata": {},
   "outputs": [
    {
     "data": {
      "text/html": [
       "<div>\n",
       "<style scoped>\n",
       "    .dataframe tbody tr th:only-of-type {\n",
       "        vertical-align: middle;\n",
       "    }\n",
       "\n",
       "    .dataframe tbody tr th {\n",
       "        vertical-align: top;\n",
       "    }\n",
       "\n",
       "    .dataframe thead th {\n",
       "        text-align: right;\n",
       "    }\n",
       "</style>\n",
       "<table border=\"1\" class=\"dataframe\">\n",
       "  <thead>\n",
       "    <tr style=\"text-align: right;\">\n",
       "      <th></th>\n",
       "      <th></th>\n",
       "      <th>call_duration</th>\n",
       "      <th>gb_used</th>\n",
       "      <th>month_payment</th>\n",
       "      <th>number_of_calls</th>\n",
       "      <th>number_of_messages</th>\n",
       "    </tr>\n",
       "    <tr>\n",
       "      <th>user_id</th>\n",
       "      <th>month</th>\n",
       "      <th></th>\n",
       "      <th></th>\n",
       "      <th></th>\n",
       "      <th></th>\n",
       "      <th></th>\n",
       "    </tr>\n",
       "  </thead>\n",
       "  <tbody>\n",
       "    <tr>\n",
       "      <td rowspan=\"8\" valign=\"top\">1000</td>\n",
       "      <td>5</td>\n",
       "      <td>150</td>\n",
       "      <td>2.20</td>\n",
       "      <td>1950.0</td>\n",
       "      <td>22</td>\n",
       "      <td>22</td>\n",
       "    </tr>\n",
       "    <tr>\n",
       "      <td>6</td>\n",
       "      <td>158</td>\n",
       "      <td>22.69</td>\n",
       "      <td>1950.0</td>\n",
       "      <td>43</td>\n",
       "      <td>60</td>\n",
       "    </tr>\n",
       "    <tr>\n",
       "      <td>7</td>\n",
       "      <td>318</td>\n",
       "      <td>13.68</td>\n",
       "      <td>1950.0</td>\n",
       "      <td>47</td>\n",
       "      <td>75</td>\n",
       "    </tr>\n",
       "    <tr>\n",
       "      <td>8</td>\n",
       "      <td>389</td>\n",
       "      <td>13.73</td>\n",
       "      <td>1950.0</td>\n",
       "      <td>52</td>\n",
       "      <td>81</td>\n",
       "    </tr>\n",
       "    <tr>\n",
       "      <td>9</td>\n",
       "      <td>440</td>\n",
       "      <td>14.23</td>\n",
       "      <td>1950.0</td>\n",
       "      <td>58</td>\n",
       "      <td>57</td>\n",
       "    </tr>\n",
       "    <tr>\n",
       "      <td>10</td>\n",
       "      <td>328</td>\n",
       "      <td>14.36</td>\n",
       "      <td>1950.0</td>\n",
       "      <td>57</td>\n",
       "      <td>73</td>\n",
       "    </tr>\n",
       "    <tr>\n",
       "      <td>11</td>\n",
       "      <td>319</td>\n",
       "      <td>14.41</td>\n",
       "      <td>1950.0</td>\n",
       "      <td>43</td>\n",
       "      <td>58</td>\n",
       "    </tr>\n",
       "    <tr>\n",
       "      <td>12</td>\n",
       "      <td>312</td>\n",
       "      <td>9.59</td>\n",
       "      <td>1950.0</td>\n",
       "      <td>46</td>\n",
       "      <td>70</td>\n",
       "    </tr>\n",
       "    <tr>\n",
       "      <td rowspan=\"2\" valign=\"top\">1001</td>\n",
       "      <td>11</td>\n",
       "      <td>408</td>\n",
       "      <td>18.00</td>\n",
       "      <td>1150.0</td>\n",
       "      <td>59</td>\n",
       "      <td>0</td>\n",
       "    </tr>\n",
       "    <tr>\n",
       "      <td>12</td>\n",
       "      <td>391</td>\n",
       "      <td>13.71</td>\n",
       "      <td>550.0</td>\n",
       "      <td>63</td>\n",
       "      <td>0</td>\n",
       "    </tr>\n",
       "    <tr>\n",
       "      <td rowspan=\"5\" valign=\"top\">1002</td>\n",
       "      <td>6</td>\n",
       "      <td>110</td>\n",
       "      <td>10.60</td>\n",
       "      <td>550.0</td>\n",
       "      <td>15</td>\n",
       "      <td>4</td>\n",
       "    </tr>\n",
       "    <tr>\n",
       "      <td>7</td>\n",
       "      <td>204</td>\n",
       "      <td>17.17</td>\n",
       "      <td>1150.0</td>\n",
       "      <td>26</td>\n",
       "      <td>11</td>\n",
       "    </tr>\n",
       "    <tr>\n",
       "      <td>8</td>\n",
       "      <td>269</td>\n",
       "      <td>19.84</td>\n",
       "      <td>1550.0</td>\n",
       "      <td>42</td>\n",
       "      <td>13</td>\n",
       "    </tr>\n",
       "    <tr>\n",
       "      <td>9</td>\n",
       "      <td>195</td>\n",
       "      <td>16.30</td>\n",
       "      <td>950.0</td>\n",
       "      <td>36</td>\n",
       "      <td>4</td>\n",
       "    </tr>\n",
       "    <tr>\n",
       "      <td>10</td>\n",
       "      <td>199</td>\n",
       "      <td>13.56</td>\n",
       "      <td>550.0</td>\n",
       "      <td>33</td>\n",
       "      <td>10</td>\n",
       "    </tr>\n",
       "  </tbody>\n",
       "</table>\n",
       "</div>"
      ],
      "text/plain": [
       "               call_duration  gb_used  month_payment  number_of_calls  \\\n",
       "user_id month                                                           \n",
       "1000    5                150     2.20         1950.0               22   \n",
       "        6                158    22.69         1950.0               43   \n",
       "        7                318    13.68         1950.0               47   \n",
       "        8                389    13.73         1950.0               52   \n",
       "        9                440    14.23         1950.0               58   \n",
       "        10               328    14.36         1950.0               57   \n",
       "        11               319    14.41         1950.0               43   \n",
       "        12               312     9.59         1950.0               46   \n",
       "1001    11               408    18.00         1150.0               59   \n",
       "        12               391    13.71          550.0               63   \n",
       "1002    6                110    10.60          550.0               15   \n",
       "        7                204    17.17         1150.0               26   \n",
       "        8                269    19.84         1550.0               42   \n",
       "        9                195    16.30          950.0               36   \n",
       "        10               199    13.56          550.0               33   \n",
       "\n",
       "               number_of_messages  \n",
       "user_id month                      \n",
       "1000    5                      22  \n",
       "        6                      60  \n",
       "        7                      75  \n",
       "        8                      81  \n",
       "        9                      57  \n",
       "        10                     73  \n",
       "        11                     58  \n",
       "        12                     70  \n",
       "1001    11                      0  \n",
       "        12                      0  \n",
       "1002    6                       4  \n",
       "        7                      11  \n",
       "        8                      13  \n",
       "        9                       4  \n",
       "        10                     10  "
      ]
     },
     "execution_count": 14,
     "metadata": {},
     "output_type": "execute_result"
    }
   ],
   "source": [
    "df_grouped = df.pivot_table(index=['user_id', 'month'], values=['number_of_calls', 'call_duration', 'gb_used', 'number_of_messages', 'month_payment'], aggfunc='sum')\n",
    "df_grouped.head(15)"
   ]
  },
  {
   "cell_type": "markdown",
   "metadata": {},
   "source": [
    "<hr style=\"border: 1px solid #000;\"> \n",
    "\n",
    "<div class=\"alert alert-warning\">\n",
    "<strong><font size=5>Комментарий от ревьюера</font></strong><br/>\n",
    "    \n",
    "Так, а для каких целей мы её сформировали? Дальше по ходу работы мы её не используем, графики мы по ней тоже не рисовали.\n",
    "    \n",
    "</div>\n",
    "<hr style=\"border: 1px solid #000;\"> "
   ]
  },
  {
   "cell_type": "markdown",
   "metadata": {},
   "source": [
    "<div class=\"alert alert-success\">\n",
    "Вывел данную таблицу, так как была задача сформировать по каждому пользователю информацию по сделанным звонкам, количеству сообщений, интернет-трафику и среднемесячной выручке.</div><br/> "
   ]
  },
  {
   "cell_type": "markdown",
   "metadata": {},
   "source": [
    "<hr style=\"border: 1px solid #000;\"> \n",
    "\n",
    "<div class=\"alert alert-success\">\n",
    "<strong><font size=5>Комментарий от ревьюера (v.2)</font></strong><br/>\n",
    "    \n",
    "Тогда отлично.\n",
    "    \n",
    "</div>\n",
    "<hr style=\"border: 1px solid #000;\"> "
   ]
  },
  {
   "cell_type": "markdown",
   "metadata": {},
   "source": [
    "### Вывод<a name=\"2.6\"></a><br/>\n",
    "[<font size=\"2\">(к содержанию)</font>](#to_content.)"
   ]
  },
  {
   "cell_type": "markdown",
   "metadata": {},
   "source": [
    "Были добавлены столбцы с месяцем для каждого пользователя в таблицы df_users, df_calls, df_internet, df_messages, чтобы в дальнейшем производить соединение по этому столбцу. Столбец mb_used был преобразовал в столбец gb_used. \n",
    "Таблицы calls_grouped, internet_grouped, messages_grouped, report, df_tariffs были сгруппированы в таблицу df. В столбцах number_of_calls, call_duration, gb_used, number_of_messages пропущенные данные были заполены \"0\", так как эти данные могут быть не заполнены по нескольким причинам: 1) по причине объединения таблиц; 2) по причине того, что клиент не пользовался данными услугами. Обе этих причины позволяют заполнить данные \"0\". \n",
    "Данные в столбца number_of_messages, call_duration и number_of_calls были приведены к типу int, так как эти данные могут быть только целочисленными. Был посчитан столбец month_payment с учетом перерасчетов по тарифам. В таблице df_grouped были посчитаны суммарные значения по месяцам для каждого пользователя по столбцам call_duration,\tgb_used\tmonth_payment, number_of_calls и\tnumber_of_messages."
   ]
  },
  {
   "cell_type": "markdown",
   "metadata": {},
   "source": [
    "<hr style=\"border: 1px solid #000;\"> \n",
    "\n",
    "<div class=\"alert alert-success\">\n",
    "<strong><font size=5>Комментарий от ревьюера</font></strong><br/>\n",
    "    \n",
    "Хороший свод тех действий, которые были совершены выше. Всё-таки лучше по ходу работы тоже комментировать.\n",
    "    \n",
    "</div>\n",
    "<hr style=\"border: 1px solid #000;\"> "
   ]
  },
  {
   "cell_type": "markdown",
   "metadata": {},
   "source": [
    "<div class=\"alert alert-success\">\n",
    "Принял к сведению. </div><br/> "
   ]
  },
  {
   "cell_type": "markdown",
   "metadata": {},
   "source": [
    "## Шаг 3. Проанализируйте данные<a name=\"3.\"></a><br/>\n",
    "[<font size=\"2\">(к содержанию)</font>](#to_content.)"
   ]
  },
  {
   "cell_type": "code",
   "execution_count": 15,
   "metadata": {
    "scrolled": false
   },
   "outputs": [
    {
     "name": "stdout",
     "output_type": "stream",
     "text": [
      "AxesSubplot(0.125,0.125;0.775x0.755)\n"
     ]
    },
    {
     "data": {
      "image/png": "[encoded data removed]",
      "text/plain": [
       "<Figure size 432x288 with 1 Axes>"
      ]
     },
     "metadata": {
      "needs_background": "light"
     },
     "output_type": "display_data"
    },
    {
     "name": "stdout",
     "output_type": "stream",
     "text": [
      "AxesSubplot(0.125,0.125;0.775x0.755)\n"
     ]
    },
    {
     "data": {
      "image/png": "[encoded data removed]",
      "text/plain": [
       "<Figure size 432x288 with 1 Axes>"
      ]
     },
     "metadata": {
      "needs_background": "light"
     },
     "output_type": "display_data"
    },
    {
     "name": "stdout",
     "output_type": "stream",
     "text": [
      "AxesSubplot(0.125,0.125;0.775x0.755)\n"
     ]
    },
    {
     "data": {
      "image/png": "[encoded data removed]",
      "text/plain": [
       "<Figure size 432x288 with 1 Axes>"
      ]
     },
     "metadata": {
      "needs_background": "light"
     },
     "output_type": "display_data"
    }
   ],
   "source": [
    "df_smart = df.query('tariff_name == \"smart\"')\n",
    "df_ultra = df.query('tariff_name == \"ultra\"')\n",
    "df_smart_calls = df_smart.pivot_table(index='month', values='call_duration', aggfunc='mean')\n",
    "df_smart_messages = df_smart.pivot_table(index='month', values='number_of_messages', aggfunc='mean')\n",
    "df_smart_internet = df_smart.pivot_table(index='month', values='gb_used', aggfunc='mean')\n",
    "df_ultra_calls = df_ultra.pivot_table(index='month', values='call_duration', aggfunc='mean')\n",
    "df_ultra_messages = df_ultra.pivot_table(index='month', values='number_of_messages', aggfunc='mean')\n",
    "df_ultra_internet = df_ultra.pivot_table(index='month', values='gb_used', aggfunc='mean')\n",
    "ax_calls = df_smart_calls['call_duration'].plot(kind='hist', y='call_duration', range=(170, 600), bins=50, linewidth=10, alpha=0.7, label='smart')\n",
    "df_ultra_calls['call_duration'].plot(kind='hist', y='call_duration', range=(170,600), bins=50, linewidth=10, alpha=0.7, label='ultra', ax=ax_calls, grid=True, legend=True, title='Звонки')\n",
    "_ = plt.xlabel('Продолжительность звонков')\n",
    "_ = plt.ylabel('Клиенты')\n",
    "print(ax_calls)\n",
    "plt.show()\n",
    "ax_messages = df_smart_messages.plot(kind='hist', y='number_of_messages', range=(16, 60), bins=50, linewidth=10, alpha=0.7, label='smart')\n",
    "df_ultra_messages.plot(kind='hist', y='number_of_messages', range=(16,60), bins=50, linewidth=10, alpha=0.7, label='ultra', ax=ax_messages, grid=True, legend=True, title='Сообщения')\n",
    "_ = plt.xlabel('Количество сообщений')\n",
    "_ = plt.ylabel('Клиенты')\n",
    "print(ax_messages)\n",
    "plt.show()\n",
    "ax_internet = df_smart_internet.plot(kind='hist', y='gb_used', range=(5, 25), bins=50, linewidth=10, alpha=0.7, label='smart')\n",
    "df_ultra_internet.plot(kind='hist', y='gb_used', range=(5, 25), bins=50, linewidth=10, alpha=0.7, label='ultra', ax=ax_internet, grid=True, legend=True, title='Интернет')\n",
    "_ = plt.xlabel('Используемый трафик')\n",
    "_ = plt.ylabel('Клиенты')\n",
    "print(ax_internet)\n",
    "plt.show()\n"
   ]
  },
  {
   "cell_type": "markdown",
   "metadata": {},
   "source": [
    "<hr style=\"border: 1px solid #000;\"> \n",
    "\n",
    "<div class=\"alert alert-danger\">\n",
    "<strong><font size=5>Комментарий от ревьюера</font></strong><br/>\n",
    "    \n",
    "Необходимо подписать оси графиков и дать им заголовки. А то не ясно, что мы рисуем.\n",
    "    \n",
    "</div>\n",
    "<hr style=\"border: 1px solid #000;\"> "
   ]
  },
  {
   "cell_type": "markdown",
   "metadata": {},
   "source": [
    "<div class=\"alert alert-success\">\n",
    "Исправил. </div><br/> "
   ]
  },
  {
   "cell_type": "code",
   "execution_count": 16,
   "metadata": {
    "scrolled": false
   },
   "outputs": [
    {
     "name": "stdout",
     "output_type": "stream",
     "text": [
      "550.0     624\n",
      "950.0     102\n",
      "1350.0     85\n",
      "1150.0     84\n",
      "750.0      77\n",
      "         ... \n",
      "892.0       1\n",
      "1760.0      1\n",
      "1488.0      1\n",
      "2097.0      1\n",
      "2845.0      1\n",
      "Name: month_payment, Length: 697, dtype: int64\n",
      "Общее количество наблюдений с пользователями \"Смарт\": 2253\n",
      "1950.0    872\n",
      "2250.0     21\n",
      "2400.0     18\n",
      "2550.0     13\n",
      "2100.0     12\n",
      "2700.0     10\n",
      "3000.0     10\n",
      "3300.0      9\n",
      "3150.0      9\n",
      "3750.0      9\n",
      "2850.0      7\n",
      "3900.0      6\n",
      "3450.0      4\n",
      "3600.0      2\n",
      "4200.0      1\n",
      "4650.0      1\n",
      "4050.0      1\n",
      "4800.0      1\n",
      "Name: month_payment, dtype: int64\n",
      "Общее количество наблюдений с пользователями \"Ультра\": 1006\n"
     ]
    }
   ],
   "source": [
    "smart_month_payment = df_smart['month_payment']\n",
    "smart_month_payment.reset_index(drop=True)\n",
    "ultra_month_payment = df_ultra['month_payment']\n",
    "ultra_month_payment.reset_index(drop=True)\n",
    "print(smart_month_payment.value_counts())\n",
    "print('Общее количество наблюдений с пользователями \"Смарт\":', smart_month_payment.count())\n",
    "print(ultra_month_payment.value_counts())\n",
    "print('Общее количество наблюдений с пользователями \"Ультра\":', ultra_month_payment.count())"
   ]
  },
  {
   "cell_type": "code",
   "execution_count": 17,
   "metadata": {
    "scrolled": false
   },
   "outputs": [
    {
     "name": "stdout",
     "output_type": "stream",
     "text": [
      "             call_duration_mean  gb_used_mean  month_payment_mean  \\\n",
      "tariff_name                                                         \n",
      "smart                389.733245     15.659996         1248.600089   \n",
      "ultra                486.222664     18.615636         2067.644135   \n",
      "\n",
      "             number_of_messages_mean  call_duration_var  gb_used_var  \\\n",
      "tariff_name                                                            \n",
      "smart                      33.028407       33680.139734    35.157794   \n",
      "ultra                      48.333002       93085.150371   102.403536   \n",
      "\n",
      "             month_payment_var  number_of_messages_var  call_duration_std  \\\n",
      "tariff_name                                                                 \n",
      "smart            639136.840444              800.072017         183.521497   \n",
      "ultra            138855.041393             2287.368601         305.098591   \n",
      "\n",
      "             gb_used_std  month_payment_std  number_of_messages_std  \n",
      "tariff_name                                                          \n",
      "smart           5.929401         799.460343               28.285544  \n",
      "ultra          10.119463         372.632582               47.826442  \n"
     ]
    },
    {
     "data": {
      "image/png": "[encoded data removed]",
      "text/plain": [
       "<Figure size 432x288 with 1 Axes>"
      ]
     },
     "metadata": {
      "needs_background": "light"
     },
     "output_type": "display_data"
    },
    {
     "data": {
      "image/png": "[encoded data removed]",
      "text/plain": [
       "<Figure size 432x288 with 1 Axes>"
      ]
     },
     "metadata": {
      "needs_background": "light"
     },
     "output_type": "display_data"
    },
    {
     "data": {
      "image/png": "[encoded data removed]",
      "text/plain": [
       "<Figure size 432x288 with 1 Axes>"
      ]
     },
     "metadata": {
      "needs_background": "light"
     },
     "output_type": "display_data"
    },
    {
     "data": {
      "image/png": "[encoded data removed]",
      "text/plain": [
       "<Figure size 432x288 with 1 Axes>"
      ]
     },
     "metadata": {
      "needs_background": "light"
     },
     "output_type": "display_data"
    }
   ],
   "source": [
    "grouped_data = df.pivot_table(index='tariff_name', values=['call_duration', 'gb_used', 'number_of_messages', 'month_payment'], aggfunc=['mean', 'var', 'std'])\n",
    "grouped_data.columns = ['call_duration_mean', 'gb_used_mean', 'month_payment_mean', 'number_of_messages_mean', 'call_duration_var', 'gb_used_var', 'month_payment_var', 'number_of_messages_var',  'call_duration_std', 'gb_used_std', 'month_payment_std', 'number_of_messages_std', ]\n",
    "print(grouped_data)\n",
    "\n",
    "for tariff in ['smart', 'ultra']:\n",
    "    df.query('tariff_name == @tariff')['call_duration'].plot(kind='hist', bins=30, alpha=0.5)\n",
    "_ = plt.legend(['smart', 'ultra'])\n",
    "_ = plt.title('Звонки')\n",
    "_ = plt.xlabel('Минуты')\n",
    "_ = plt.ylabel('Клиенты')\n",
    "plt.show()\n",
    "\n",
    "for tariff in ['smart', 'ultra']:\n",
    "    df.query('tariff_name == @tariff')['gb_used'].plot(kind='hist', bins=30, alpha=0.5)\n",
    "_ = plt.legend(['smart', 'ultra'])\n",
    "_ = plt.title('Интернет')\n",
    "_ = plt.xlabel('Гигабайты')\n",
    "_ = plt.ylabel('Клиенты')\n",
    "plt.show()\n",
    "\n",
    "for tariff in ['smart', 'ultra']:\n",
    "    df.query('tariff_name == @tariff')['number_of_messages'].plot(kind='hist', bins=30, alpha=0.5)\n",
    "_ = plt.legend(['smart', 'ultra'])\n",
    "_ = plt.title('Сообщения')\n",
    "_ = plt.xlabel('Количество сообщений')\n",
    "_ = plt.ylabel('Клиенты')\n",
    "plt.show()\n",
    "\n",
    "for tariff in ['smart', 'ultra']:\n",
    "    df.query('tariff_name == @tariff')['month_payment'].plot(kind='hist', bins=30, alpha=0.5)\n",
    "_ = plt.legend(['smart', 'ultra'])\n",
    "_ = plt.title('Выручка')\n",
    "_ = plt.xlabel('Месячный платеж')\n",
    "_ = plt.ylabel('Клиенты')\n",
    "plt.show()\n",
    "\n",
    "\n",
    "# dict_for_auto = {\n",
    "#     'call_duration' : [30, (0, 1600)],\n",
    "#     'gb_used' : [30, (0, 50)],\n",
    "#     'number_of_messages' : [30, (0, 300)],\n",
    "# }\n",
    "\n",
    "# for column in dict_for_auto.keys():\n",
    "# #     quantiles = df[column].quantile([0.25, 0.75])\n",
    "# #     iqr = quantiles.iloc[1] - quantiles.iloc[0]\n",
    "#     for tariff in ['ultra', 'smart']: \n",
    "# #         df.query('tariff_name == @tariff')[column].plot(kind='hist', bins = dict_for_auto[column][0], range = (max(0, quantiles.iloc[0] - 1.5 * iqr), quantiles.iloc[1] + 1.5 * iqr), alpha=0.5)\n",
    "#         df.query('tariff_name == @tariff')[column].plot(kind='hist', bins = 30, alpha=0.5)\n",
    "#         plt.ylabel('Количество клиентов', fontsize=12)\n",
    "#         plt.title(column)\n",
    "#         plt.ylabel('КЛиенты')\n",
    "#         plt.show()"
   ]
  },
  {
   "cell_type": "markdown",
   "metadata": {},
   "source": [
    "<hr style=\"border: 1px solid #000;\"> \n",
    "\n",
    "<div class=\"alert alert-danger\">\n",
    "<strong><font size=5>Комментарий от ревьюера</font></strong><br/>\n",
    "    \n",
    "После каждого блока с графиками должен быть вывод. Тут других вариантов быть не может. Слишком важную информацию мы отображаем на графиках, чтобы оставлять комментарии по ним на потом.\n",
    "    \n",
    "</div>\n",
    "<hr style=\"border: 1px solid #000;\"> "
   ]
  },
  {
   "cell_type": "markdown",
   "metadata": {},
   "source": [
    "<div class=\"alert alert-success\">\n",
    "Исправил. </div><br/> "
   ]
  },
  {
   "cell_type": "markdown",
   "metadata": {},
   "source": [
    "### Вывод<a name=\"3.1\"></a><br/>\n",
    "[<font size=\"2\">(к содержанию)</font>](#to_content.)"
   ]
  },
  {
   "cell_type": "markdown",
   "metadata": {},
   "source": [
    "Согласно графику call_duration у обоих тарифов видны выделяющиеся столбцы в районе от 0 до 20 минут/месяц, таких пользователей около 70. У тарифа \"Смарт\" выделяется явный пик в районе 400 минут/месяц, около 240 клиентов. Распределение звонков у тарифа \"Смарт\" в среднем идет до 1000 минус/месяц, после чего значения крайни редки или прекращаются. В то время как у тарифа \"Ультра\", несмотря на пик в районе 20 минут/месяц, распределение идет равномерно с уменьшением в районе 800 минут/месяц, в то время как встречаются пользователи со значениями около 1600 минут/месяц. Пользователи тарифа \"Смарт\" в основном пользуются от 10 до 22 гигабайт в месяц с пиком в районе 16 гб/месяц. Пользователи \"Ультра\" используют более равномерно трафик с  пиком около 20 гб/месяц, но при этом в отличие от пользователей \"Смарта\" используют больше 25 гб/месяц. Пользователи обоих тарифных планов используют около 5-10 сообщений в месяц, о чем свидетельствуют пики около 0, таких пользователей у тарифов \"Смарт\" и \"Ультра\" 402 и 280 соответственно. У пользователей тарифа \"Смарт\" все три показателя звонки, интернет и сообщения характеризуются как графики с нормальным распределением.\n",
    "Согласно графику интернет трафика очевидно, что пользователи тарифа \"Смарт\" обычно выходят за пределы ежемесячного трафика, в то время как по остальным видам связи пользователи обычно не выбиваются из пределов тарифа."
   ]
  },
  {
   "cell_type": "markdown",
   "metadata": {},
   "source": [
    "<hr style=\"border: 1px solid #000;\"> \n",
    "\n",
    "<div class=\"alert alert-warning\">\n",
    "<strong><font size=5>Комментарий от ревьюера</font></strong><br/>\n",
    "    \n",
    "Тут хорошо. Стоит добавить, что многие пользователи тарифа \"Смарт\" регулярно выходят за пределы лимитов по интернет-трафику. Это сильно выбивается из общей картины, потому что по другим типам связи все в лимиты обычно укладываются.\n",
    "    \n",
    "</div>\n",
    "<hr style=\"border: 1px solid #000;\"> "
   ]
  },
  {
   "cell_type": "markdown",
   "metadata": {},
   "source": [
    "<div class=\"alert alert-success\">\n",
    "Исправил. </div><br/> "
   ]
  },
  {
   "cell_type": "markdown",
   "metadata": {},
   "source": [
    "## Шаг 4. Проверьте гипотезы<a name=\"4.\"></a><br/>\n",
    "[<font size=\"2\">(к содержанию)</font>](#to_content.)"
   ]
  },
  {
   "cell_type": "code",
   "execution_count": 18,
   "metadata": {
    "scrolled": false
   },
   "outputs": [
    {
     "name": "stdout",
     "output_type": "stream",
     "text": [
      "             month_payment\n",
      "tariff_name               \n",
      "smart        639136.840444\n",
      "ultra        138855.041393\n"
     ]
    }
   ],
   "source": [
    "var = df.pivot_table(index='tariff_name', values='month_payment', aggfunc='var')\n",
    "print(var)\n",
    "# variance_smart = smart_month_payment.np.var()\n",
    "# variance_ultra = ultra_month_payment.np.var()\n",
    "# print('Дисперсия тарифа \"Смарт\" равна: ', variance_smart)\n",
    "# print('Дисперсия тарифа \"Ультра\" равна: ', variance_ultra)"
   ]
  },
  {
   "cell_type": "markdown",
   "metadata": {},
   "source": [
    "У нас есть основание полагать, что выборки взяты из схожих по параметрам совокупностей, поэтому значение equal_var=False. Воспользуемся критерием Т-стъюдента, так как тарифу \"Смарт\" соотвествует нормальному распределению.  \n",
    "Нулевая гипотеза: средняя выручка пользователей тарифов «Ультра» и «Смарт» равна.\n",
    "Альтернативная гипотеза: средняя выручка пользователей тарифов «Ультра» и «Смарт» различается."
   ]
  },
  {
   "cell_type": "markdown",
   "metadata": {},
   "source": [
    "<hr style=\"border: 1px solid #000;\"> \n",
    "\n",
    "<div class=\"alert alert-danger\">\n",
    "<strong><font size=5>Комментарий от ревьюера</font></strong><br/>\n",
    "    \n",
    "У нас общий тип данных - данные по тарифам сотовой связи. Но первые данные могут быть по тарифу \"Эконом\", а вторые - по тарифу \"VIP+\", и разница в значениях выручки может быть и десятикратной. Ты правильно делаешь, что сравниваешь дисперсию. Если дисперсии отличаются, значит <b>equal_var=False</b>.\n",
    "    \n",
    "</div>\n",
    "<hr style=\"border: 1px solid #000;\"> "
   ]
  },
  {
   "cell_type": "markdown",
   "metadata": {},
   "source": [
    "<div class=\"alert alert-success\">\n",
    "Исправил. </div><br/> "
   ]
  },
  {
   "cell_type": "markdown",
   "metadata": {},
   "source": [
    "<hr style=\"border: 1px solid #000;\"> \n",
    "\n",
    "<div class=\"alert alert-success\">\n",
    "<strong><font size=5>Комментарий от ревьюера (v.2)</font></strong><br/>\n",
    "    \n",
    "Не, изначально ты был прав, что если выборки взяты из схожих по параметрам совокупностей, то можно предположить, что дисперсии равны. Но это не отменяет саму необходимость проверить, равны ли они. И именно по причине того, что они не равны, мы принимаем   <b>equal_var=False</b>.               \n",
    "    \n",
    "</div>\n",
    "<hr style=\"border: 1px solid #000;\"> "
   ]
  },
  {
   "cell_type": "code",
   "execution_count": 19,
   "metadata": {
    "scrolled": false
   },
   "outputs": [
    {
     "name": "stdout",
     "output_type": "stream",
     "text": [
      "p-значение: {} 1.5492639615835422e-283\n",
      "Отвергаем нулевую гипотезу\n"
     ]
    }
   ],
   "source": [
    "alpha = 0.05  # критический уровень статистической значимости\n",
    "# если p-value окажется меньше него - отвергнем гипотезу\n",
    "\n",
    "results = st.ttest_ind(smart_month_payment, ultra_month_payment, equal_var=False)\n",
    "\n",
    "print('p-значение: {}', results.pvalue)\n",
    "\n",
    "\n",
    "if results.pvalue < alpha:\n",
    "    print(\"Отвергаем нулевую гипотезу\")\n",
    "else:\n",
    "    print('Не можем отвергнуть нулевую гипотезу')"
   ]
  },
  {
   "cell_type": "markdown",
   "metadata": {},
   "source": [
    "### Вывод<a name=\"4.1\"></a><br/>\n",
    "[<font size=\"2\">(к содержанию)</font>](#to_content.)"
   ]
  },
  {
   "cell_type": "markdown",
   "metadata": {},
   "source": [
    "Можно сделать вывод, что средние двух выборочных совокупностей не равны, о чем свидетельствует p-значение равное ~0.0."
   ]
  },
  {
   "cell_type": "markdown",
   "metadata": {},
   "source": [
    "Нулевая гипотеза: средняя выручка пользователей из Москвы равна выручке пользователей из других регионов.\n",
    "Альтернативная гипотеза: средняя выручка пользователей из Москвы отличается от выручки пользователей из других регионов."
   ]
  },
  {
   "cell_type": "code",
   "execution_count": 20,
   "metadata": {},
   "outputs": [
    {
     "name": "stdout",
     "output_type": "stream",
     "text": [
      "p-значение: 0.36699582980859224\n",
      "Не можем отвергнуть нулевую гипотезу\n"
     ]
    }
   ],
   "source": [
    "alpha = 0.05  # критический уровень статистической значимости\n",
    "# если p-value окажется меньше него - отвергнем гипотезу\n",
    "\n",
    "results = st.ttest_ind(df.query('city == \"Москва\"')['month_payment'], df.query('city != \"Москва\"')['month_payment'], equal_var=False)\n",
    "\n",
    "print('p-значение:', results.pvalue)\n",
    "\n",
    "\n",
    "if results.pvalue < alpha:\n",
    "    print(\"Отвергаем нулевую гипотезу\")\n",
    "else:\n",
    "    print('Не можем отвергнуть нулевую гипотезу')"
   ]
  },
  {
   "cell_type": "markdown",
   "metadata": {},
   "source": [
    "### Вывод<a name=\"4.2\"></a><br/>\n",
    "[<font size=\"2\">(к содержанию)</font>](#to_content.)"
   ]
  },
  {
   "cell_type": "markdown",
   "metadata": {},
   "source": [
    "Можно сделать вывод, что хотя и средние двух выборочных совокупностей по Москве и другим регионам равны, с вероятностью в почти 37% такое или большее различие можно получить случайно. Это явно слишком большая вероятность, чтобы делать вывод о значимом различии между Москвой и регионами."
   ]
  },
  {
   "cell_type": "markdown",
   "metadata": {},
   "source": [
    "<hr style=\"border: 1px solid #000;\"> \n",
    "\n",
    "<div class=\"alert alert-warning\">\n",
    "<strong><font size=5>Комментарий от ревьюера</font></strong><br/>\n",
    "    \n",
    "С <b>equal_var</b> надо поправить. Но результаты верные.\n",
    "    \n",
    "</div>\n",
    "<hr style=\"border: 1px solid #000;\"> "
   ]
  },
  {
   "cell_type": "markdown",
   "metadata": {},
   "source": [
    "<div class=\"alert alert-success\">\n",
    "Исправил. </div><br/> "
   ]
  },
  {
   "cell_type": "markdown",
   "metadata": {},
   "source": [
    "## Общий вывод"
   ]
  },
  {
   "cell_type": "markdown",
   "metadata": {},
   "source": [
    "По результатам исследования можно сделать вывод, что тариф \"Смарт\" характеризуется более низкими средними показателями по сравнению с тарифом \"Ультра\": звонки (\"Смарт\": 389.73, \"Ультра\": 486.22), интернет (\"Смарт\": 15.66, \"Ультра\": 18.62), сообщения(\"Смарт\": 33.03, \"Ультра\": 48.33). при этом люди с таким тарифом чаще склонны к переплатам по тарифу. Это свидетельствует о том, что люди с тарифом \"Ультра\", возможно, берут тариф с расчетом на болельшее количество минут и интернета, а также с расчетом на возможные переплаты по тарифу \"Смарт\". Но все же люди с тарифом \"Смарт\" обычно не переплачивают на столько, чтобы по сумме заплатить больше, чем за тариф \"Ультра\". \n",
    "В 872 из 1006 наблюдений свидетельствуют, что клиенты используют тариф \"Ультра\", не переплачивая за перерасход, что может свидетельствовать о комфортных для клиентов тарифных рамок по звонкам, интернету и сообщениям. В то время как всего в 624 из 2253 в тарифе \"Смарт\" не выходят за рамки месячной платы. Исходя из этого можно предположить, что тариф \"Ультра\" самый комфортный для пользоватлей тариф.   \n",
    "Возможно, компании стоит незначительно уменьшить в тарифе количество включенного интернета и звонков при этом спустив границу у тарифа \"Ультра\", тогда пользователи захотят перейти на тариф \"Ультра\", что повлечет за собой увеличение среднемесячной выручки, а, соотвественно, и увеличение общей выручки компании. Либо несколько увеличить плату за перерасход по тарифу, что должно повлечь такие же последствия."
   ]
  },
  {
   "cell_type": "markdown",
   "metadata": {},
   "source": [
    "<hr style=\"border: 1px solid #000;\"> \n",
    "\n",
    "<div>\n",
    "<strong><font size=5>Комментарий от ревьюера</font></strong><br/>\n",
    "    \n",
    "Хорошее предложение по снижению лимитов и стоимости тарифа для переманивая пользователей на сторону \"Ультры\".\n",
    "    \n",
    "Прошу поправить пункты, отмеченные красным, и при желании и возможности те, которые отмечены жёлтым.\n",
    "    \n",
    "Жду твою работу на повторную проверку.   \n",
    "    \n",
    "</div>\n",
    "<hr style=\"border: 1px solid #000;\"> "
   ]
  },
  {
   "cell_type": "markdown",
   "metadata": {},
   "source": [
    "<hr style=\"border: 1px solid #000;\"> \n",
    "\n",
    "<div class=\"alert alert-success\">\n",
    "<strong><font size=5>Комментарий от ревьюера (v.2)</font></strong><br/>\n",
    "    \n",
    "Теперь хорошо. Работа чистая.\n",
    "    \n",
    "Жду тебя на следующих проектах.\n",
    "    \n",
    "</div>\n",
    "<hr style=\"border: 1px solid #000;\"> "
   ]
  }
 ],
 "metadata": {
  "ExecuteTimeLog": [
   {
    "duration": 4094,
    "start_time": "2022-08-15T09:41:02.638Z"
   }
  ],
  "kernelspec": {
   "display_name": "Python 3 (ipykernel)",
   "language": "python",
   "name": "python3"
  },
  "language_info": {
   "codemirror_mode": {
    "name": "ipython",
    "version": 3
   },
   "file_extension": ".py",
   "mimetype": "text/x-python",
   "name": "python",
   "nbconvert_exporter": "python",
   "pygments_lexer": "ipython3",
   "version": "3.9.5"
  },
  "toc": {
   "base_numbering": 1,
   "nav_menu": {
    "height": "282px",
    "width": "807px"
   },
   "number_sections": true,
   "sideBar": true,
   "skip_h1_title": true,
   "title_cell": "Table of Contents",
   "title_sidebar": "Contents",
   "toc_cell": false,
   "toc_position": {},
   "toc_section_display": true,
   "toc_window_display": false
  }
 },
 "nbformat": 4,
 "nbformat_minor": 2
}
