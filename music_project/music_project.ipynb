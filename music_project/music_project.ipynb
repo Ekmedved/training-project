{
 "cells": [
  {
   "cell_type": "markdown",
   "metadata": {
    "colab_type": "text",
    "deletable": false,
    "id": "5UYxO1GdF6Wy",
    "tags": []
   },
   "source": [
    "# Description of the project"
   ]
  },
  {
   "cell_type": "markdown",
   "metadata": {
    "colab_type": "text",
    "deletable": false,
    "id": "iI4ITclJaFWh"
   },
   "source": [
    "Music search service"
   ]
  },
  {
   "cell_type": "code",
   "execution_count": 1,
   "metadata": {
    "colab": {},
    "colab_type": "code",
    "deletable": false,
    "id": "HirRov5vZ3MT"
   },
   "outputs": [],
   "source": [
    "# import library\n",
    "import pandas as pd "
   ]
  },
  {
   "cell_type": "code",
   "execution_count": 2,
   "metadata": {
    "colab": {},
    "colab_type": "code",
    "deletable": false,
    "id": "NB6j931yS4hy"
   },
   "outputs": [],
   "source": [
    "# Read\n",
    "df = pd.read_csv('music_project.csv', index_col=0)"
   ]
  },
  {
   "cell_type": "code",
   "execution_count": 3,
   "metadata": {
    "colab": {},
    "colab_type": "code",
    "deletable": false,
    "id": "DY5i8tgXVDGj"
   },
   "outputs": [
    {
     "data": {
      "text/html": [
       "<div>\n",
       "<style scoped>\n",
       "    .dataframe tbody tr th:only-of-type {\n",
       "        vertical-align: middle;\n",
       "    }\n",
       "\n",
       "    .dataframe tbody tr th {\n",
       "        vertical-align: top;\n",
       "    }\n",
       "\n",
       "    .dataframe thead th {\n",
       "        text-align: right;\n",
       "    }\n",
       "</style>\n",
       "<table border=\"1\" class=\"dataframe\">\n",
       "  <thead>\n",
       "    <tr style=\"text-align: right;\">\n",
       "      <th></th>\n",
       "      <th>userID</th>\n",
       "      <th>Track</th>\n",
       "      <th>artist</th>\n",
       "      <th>genre</th>\n",
       "      <th>City</th>\n",
       "      <th>time</th>\n",
       "      <th>Day</th>\n",
       "    </tr>\n",
       "  </thead>\n",
       "  <tbody>\n",
       "    <tr>\n",
       "      <th>0</th>\n",
       "      <td>FFB692EC</td>\n",
       "      <td>Kamigata To Boots</td>\n",
       "      <td>The Mass Missile</td>\n",
       "      <td>rock</td>\n",
       "      <td>Saint-Petersburg</td>\n",
       "      <td>20:28:33</td>\n",
       "      <td>Wednesday</td>\n",
       "    </tr>\n",
       "    <tr>\n",
       "      <th>1</th>\n",
       "      <td>55204538</td>\n",
       "      <td>Delayed Because of Accident</td>\n",
       "      <td>Andreas Rönnberg</td>\n",
       "      <td>rock</td>\n",
       "      <td>Moscow</td>\n",
       "      <td>14:07:09</td>\n",
       "      <td>Friday</td>\n",
       "    </tr>\n",
       "    <tr>\n",
       "      <th>2</th>\n",
       "      <td>20EC38</td>\n",
       "      <td>Funiculì funiculà</td>\n",
       "      <td>Mario Lanza</td>\n",
       "      <td>pop</td>\n",
       "      <td>Saint-Petersburg</td>\n",
       "      <td>20:58:07</td>\n",
       "      <td>Wednesday</td>\n",
       "    </tr>\n",
       "    <tr>\n",
       "      <th>3</th>\n",
       "      <td>A3DD03C9</td>\n",
       "      <td>Dragons in the Sunset</td>\n",
       "      <td>Fire + Ice</td>\n",
       "      <td>folk</td>\n",
       "      <td>Saint-Petersburg</td>\n",
       "      <td>08:37:09</td>\n",
       "      <td>Monday</td>\n",
       "    </tr>\n",
       "    <tr>\n",
       "      <th>4</th>\n",
       "      <td>E2DC1FAE</td>\n",
       "      <td>Soul People</td>\n",
       "      <td>Space Echo</td>\n",
       "      <td>dance</td>\n",
       "      <td>Moscow</td>\n",
       "      <td>08:34:34</td>\n",
       "      <td>Monday</td>\n",
       "    </tr>\n",
       "    <tr>\n",
       "      <th>5</th>\n",
       "      <td>842029A1</td>\n",
       "      <td>Преданная</td>\n",
       "      <td>IMPERVTOR</td>\n",
       "      <td>rusrap</td>\n",
       "      <td>Saint-Petersburg</td>\n",
       "      <td>13:09:41</td>\n",
       "      <td>Friday</td>\n",
       "    </tr>\n",
       "    <tr>\n",
       "      <th>6</th>\n",
       "      <td>4CB90AA5</td>\n",
       "      <td>True</td>\n",
       "      <td>Roman Messer</td>\n",
       "      <td>dance</td>\n",
       "      <td>Moscow</td>\n",
       "      <td>13:00:07</td>\n",
       "      <td>Wednesday</td>\n",
       "    </tr>\n",
       "    <tr>\n",
       "      <th>7</th>\n",
       "      <td>F03E1C1F</td>\n",
       "      <td>Feeling This Way</td>\n",
       "      <td>Polina Griffith</td>\n",
       "      <td>dance</td>\n",
       "      <td>Moscow</td>\n",
       "      <td>20:47:49</td>\n",
       "      <td>Wednesday</td>\n",
       "    </tr>\n",
       "    <tr>\n",
       "      <th>8</th>\n",
       "      <td>8FA1D3BE</td>\n",
       "      <td>И вновь продолжается бой</td>\n",
       "      <td>NaN</td>\n",
       "      <td>ruspop</td>\n",
       "      <td>Moscow</td>\n",
       "      <td>09:17:40</td>\n",
       "      <td>Friday</td>\n",
       "    </tr>\n",
       "    <tr>\n",
       "      <th>9</th>\n",
       "      <td>E772D5C0</td>\n",
       "      <td>Pessimist</td>\n",
       "      <td>NaN</td>\n",
       "      <td>dance</td>\n",
       "      <td>Saint-Petersburg</td>\n",
       "      <td>21:20:49</td>\n",
       "      <td>Wednesday</td>\n",
       "    </tr>\n",
       "  </tbody>\n",
       "</table>\n",
       "</div>"
      ],
      "text/plain": [
       "     userID                        Track            artist   genre  \\\n",
       "0  FFB692EC            Kamigata To Boots  The Mass Missile    rock   \n",
       "1  55204538  Delayed Because of Accident  Andreas Rönnberg    rock   \n",
       "2    20EC38            Funiculì funiculà       Mario Lanza     pop   \n",
       "3  A3DD03C9        Dragons in the Sunset        Fire + Ice    folk   \n",
       "4  E2DC1FAE                  Soul People        Space Echo   dance   \n",
       "5  842029A1                    Преданная         IMPERVTOR  rusrap   \n",
       "6  4CB90AA5                         True      Roman Messer   dance   \n",
       "7  F03E1C1F             Feeling This Way   Polina Griffith   dance   \n",
       "8  8FA1D3BE     И вновь продолжается бой               NaN  ruspop   \n",
       "9  E772D5C0                    Pessimist               NaN   dance   \n",
       "\n",
       "             City        time        Day  \n",
       "0  Saint-Petersburg  20:28:33  Wednesday  \n",
       "1            Moscow  14:07:09     Friday  \n",
       "2  Saint-Petersburg  20:58:07  Wednesday  \n",
       "3  Saint-Petersburg  08:37:09     Monday  \n",
       "4            Moscow  08:34:34     Monday  \n",
       "5  Saint-Petersburg  13:09:41     Friday  \n",
       "6            Moscow  13:00:07  Wednesday  \n",
       "7            Moscow  20:47:49  Wednesday  \n",
       "8            Moscow  09:17:40     Friday  \n",
       "9  Saint-Petersburg  21:20:49  Wednesday  "
      ]
     },
     "execution_count": 3,
     "metadata": {},
     "output_type": "execute_result"
    }
   ],
   "source": [
    "# First 10 rows\n",
    "df.head(10) "
   ]
  },
  {
   "cell_type": "code",
   "execution_count": 4,
   "metadata": {
    "colab": {},
    "colab_type": "code",
    "deletable": false,
    "id": "K7t8OdZsYN2y"
   },
   "outputs": [
    {
     "name": "stdout",
     "output_type": "stream",
     "text": [
      "<class 'pandas.core.frame.DataFrame'>\n",
      "Int64Index: 65079 entries, 0 to 65078\n",
      "Data columns (total 7 columns):\n",
      " #   Column    Non-Null Count  Dtype \n",
      "---  ------    --------------  ----- \n",
      " 0     userID  65079 non-null  object\n",
      " 1   Track     63848 non-null  object\n",
      " 2   artist    57876 non-null  object\n",
      " 3   genre     63881 non-null  object\n",
      " 4     City    65079 non-null  object\n",
      " 5   time      65079 non-null  object\n",
      " 6   Day       65079 non-null  object\n",
      "dtypes: object(7)\n",
      "memory usage: 4.0+ MB\n"
     ]
    }
   ],
   "source": [
    "# Info\n",
    "df.info() "
   ]
  },
  {
   "cell_type": "markdown",
   "metadata": {
    "colab_type": "text",
    "deletable": false,
    "id": "CnHv9HZCc7LN"
   },
   "source": [
    "Let's consider the information received in more detail.\n",
    "\n",
    "There are a total of 7 columns in the table, the data type of each column is object.\n",
    "\n",
    "Let's take a closer look at what *df* columns are and what information they contain:\n",
    "\n",
    "* userID — user identifier;\n",
    "* Track — track name;\n",
    "* artist — name of the artist;\n",
    "* genre — genre name;\n",
    "* City — the city in which the audition took place;\n",
    "* time — time at which the user listened to the track;\n",
    "* Day - day of the week.\n",
    "\n",
    "The number of values in the columns varies. This indicates that there are empty values in the data."
   ]
  },
  {
   "cell_type": "markdown",
   "metadata": {
    "colab_type": "text",
    "deletable": false,
    "id": "DCYFm5VrevuB"
   },
   "source": [
    "## Summary"
   ]
  },
  {
   "cell_type": "markdown",
   "metadata": {
    "colab_type": "text",
    "deletable": false,
    "id": "PCEtjdmvezRm"
   },
   "source": [
    "Each row of the table contains information about compositions of a certain genre in a certain performance that users listened to in one of the cities at a certain time and day of the week. Two problems that need to be addressed are omissions and poor-quality column names. The *time*, *day*, and *City* columns are especially valuable for testing working hypotheses. Data from the *genre* column will allow you to find out the most popular genres."
   ]
  },
  {
   "cell_type": "code",
   "execution_count": 5,
   "metadata": {
    "colab": {},
    "colab_type": "code",
    "deletable": false,
    "id": "Tag65F_Uitsx"
   },
   "outputs": [
    {
     "data": {
      "text/plain": [
       "Index(['  userID', 'Track', 'artist', 'genre', '  City  ', 'time', 'Day'], dtype='object')"
      ]
     },
     "execution_count": 5,
     "metadata": {},
     "output_type": "execute_result"
    }
   ],
   "source": [
    "# Columns\n",
    "df.columns"
   ]
  },
  {
   "cell_type": "markdown",
   "metadata": {
    "colab_type": "text",
    "deletable": false,
    "id": "x6iJC-cEhnRL"
   },
   "source": [
    "There are spaces in the column names, which can make the data difficult to access."
   ]
  },
  {
   "cell_type": "code",
   "execution_count": 6,
   "metadata": {
    "colab": {},
    "colab_type": "code",
    "deletable": false,
    "id": "XintVfCniw2-"
   },
   "outputs": [],
   "source": [
    "# Rename columns\n",
    "df.set_axis(['user_id', 'track_name', 'artist_name', 'genre_name', 'city', 'time', 'weekday'], axis='columns', inplace = True)"
   ]
  },
  {
   "cell_type": "code",
   "execution_count": 7,
   "metadata": {
    "colab": {},
    "colab_type": "code",
    "deletable": false,
    "id": "ozQL91G4izdp"
   },
   "outputs": [
    {
     "data": {
      "text/plain": [
       "Index(['user_id', 'track_name', 'artist_name', 'genre_name', 'city', 'time',\n",
       "       'weekday'],\n",
       "      dtype='object')"
      ]
     },
     "execution_count": 7,
     "metadata": {},
     "output_type": "execute_result"
    }
   ],
   "source": [
    "# checking the results - list of column names\n",
    "df.columns "
   ]
  },
  {
   "cell_type": "code",
   "execution_count": 8,
   "metadata": {
    "colab": {},
    "colab_type": "code",
    "deletable": false,
    "id": "BZh9yLHhjy_R"
   },
   "outputs": [
    {
     "data": {
      "text/plain": [
       "user_id           0\n",
       "track_name     1231\n",
       "artist_name    7203\n",
       "genre_name     1198\n",
       "city              0\n",
       "time              0\n",
       "weekday           0\n",
       "dtype: int64"
      ]
     },
     "execution_count": 8,
     "metadata": {},
     "output_type": "execute_result"
    }
   ],
   "source": [
    "# total number of gaps\n",
    "df.isnull().sum()"
   ]
  },
  {
   "cell_type": "markdown",
   "metadata": {
    "colab_type": "text",
    "deletable": false,
    "id": "OJXGaa02tSJJ"
   },
   "source": [
    "Empty values indicate that not all information is available for some tracks. The reasons may be different: for example, a specific performer of a folk song has not been named. It's worse if there are problems with data recording. Each individual case must be analyzed and the cause identified."
   ]
  },
  {
   "cell_type": "markdown",
   "metadata": {
    "colab_type": "text",
    "deletable": false,
    "id": "-fBDAWZUkAg-"
   },
   "source": [
    "Replace missing values in the track name and artist columns with the string 'unknown'. After this operation, you need to make sure that the table no longer contains gaps."
   ]
  },
  {
   "cell_type": "code",
   "execution_count": 9,
   "metadata": {
    "colab": {},
    "colab_type": "code",
    "deletable": false,
    "id": "EO8zFcJPlbvV"
   },
   "outputs": [],
   "source": [
    "# replacing missing values in the 'track_name' column with the string 'unknown' using a special replacement method\n",
    "df['track_name'] = df['track_name'].fillna('unknown') "
   ]
  },
  {
   "cell_type": "code",
   "execution_count": 10,
   "metadata": {
    "colab": {},
    "colab_type": "code",
    "deletable": false,
    "id": "3hsNZcLST0UW"
   },
   "outputs": [],
   "source": [
    "# replacing missing values in the 'artist_name' column with the string 'unknown' using a special replacement method\n",
    "df['artist_name'] = df['artist_name'].fillna('unknown') "
   ]
  },
  {
   "cell_type": "code",
   "execution_count": 11,
   "metadata": {
    "colab": {},
    "colab_type": "code",
    "deletable": false,
    "id": "Ua-Z8TAblgzC"
   },
   "outputs": [
    {
     "data": {
      "text/plain": [
       "user_id           0\n",
       "track_name        0\n",
       "artist_name       0\n",
       "genre_name     1198\n",
       "city              0\n",
       "time              0\n",
       "weekday           0\n",
       "dtype: int64"
      ]
     },
     "execution_count": 11,
     "metadata": {},
     "output_type": "execute_result"
    }
   ],
   "source": [
    "# total number of gaps\n",
    "df.isnull().sum() "
   ]
  },
  {
   "cell_type": "code",
   "execution_count": 12,
   "metadata": {
    "colab": {},
    "colab_type": "code",
    "deletable": false,
    "id": "TIpk7lwtnZkZ"
   },
   "outputs": [],
   "source": [
    "# removing missing values in column 'genre_name'\n",
    "df.dropna(subset = ['genre_name'], inplace = True) "
   ]
  },
  {
   "cell_type": "code",
   "execution_count": 13,
   "metadata": {
    "colab": {},
    "colab_type": "code",
    "deletable": false,
    "id": "-1CT-CCZnzTA"
   },
   "outputs": [
    {
     "data": {
      "text/plain": [
       "user_id        0\n",
       "track_name     0\n",
       "artist_name    0\n",
       "genre_name     0\n",
       "city           0\n",
       "time           0\n",
       "weekday        0\n",
       "dtype: int64"
      ]
     },
     "execution_count": 13,
     "metadata": {},
     "output_type": "execute_result"
    }
   ],
   "source": [
    "# Check\n",
    "df.isnull().sum() "
   ]
  },
  {
   "cell_type": "code",
   "execution_count": 14,
   "metadata": {
    "colab": {},
    "colab_type": "code",
    "deletable": false,
    "id": "VRVI_B0RqIgT"
   },
   "outputs": [
    {
     "data": {
      "text/plain": [
       "3755"
      ]
     },
     "execution_count": 14,
     "metadata": {},
     "output_type": "execute_result"
    }
   ],
   "source": [
    "# Check duplicates\n",
    "df.duplicated().sum() "
   ]
  },
  {
   "cell_type": "code",
   "execution_count": 15,
   "metadata": {
    "colab": {},
    "colab_type": "code",
    "deletable": false,
    "id": "nSYF38OeqZn-"
   },
   "outputs": [],
   "source": [
    "# Drop duplicates\n",
    "df = df.drop_duplicates().reset_index(drop=True) "
   ]
  },
  {
   "cell_type": "code",
   "execution_count": 16,
   "metadata": {
    "colab": {},
    "colab_type": "code",
    "deletable": false,
    "id": "O-RfjmkCqIgV"
   },
   "outputs": [
    {
     "data": {
      "text/plain": [
       "0"
      ]
     },
     "execution_count": 16,
     "metadata": {},
     "output_type": "execute_result"
    }
   ],
   "source": [
    "# Check\n",
    "df.duplicated().sum() "
   ]
  },
  {
   "cell_type": "markdown",
   "metadata": {
    "colab_type": "text",
    "deletable": false,
    "id": "e6cyWPTwsLKw"
   },
   "source": [
    "Duplicates may have appeared due to a failure in data recording. It is worth paying attention and understanding the reasons for the appearance of such “information garbage”."
   ]
  },
  {
   "cell_type": "markdown",
   "metadata": {
    "colab_type": "text",
    "deletable": false,
    "id": "QH-HgrApInjO",
    "tags": []
   },
   "source": [
    "We store a list of unique values of the genre column in the *genres_list* variable.\n",
    "\n",
    "Let's declare a function *find_genre()* to find implicit duplicates in the genre column. For example, when the name of the same genre is written in different words."
   ]
  },
  {
   "cell_type": "code",
   "execution_count": 17,
   "metadata": {
    "colab": {},
    "colab_type": "code",
    "deletable": false,
    "id": "FfaTfKAN-PCx"
   },
   "outputs": [],
   "source": [
    "# storing in the genres_list variable a list of unique values identified by a special method in the 'genre_name' column\n",
    "genres_list = df['genre_name'].unique() "
   ]
  },
  {
   "cell_type": "code",
   "execution_count": 18,
   "metadata": {
    "colab": {},
    "colab_type": "code",
    "deletable": false,
    "id": "TA_k-VLi-S0R"
   },
   "outputs": [],
   "source": [
    "# creating the find_genre() function \n",
    "def find_genre(genre):  \n",
    "    count = 0 \n",
    "    for row in genres_list:\n",
    "        if row == genre:\n",
    "            count += 1\n",
    "    return count "
   ]
  },
  {
   "cell_type": "markdown",
   "metadata": {
    "colab_type": "text",
    "deletable": false,
    "id": "vb3CTOciIL27",
    "tags": []
   },
   "source": [
    "Call the *find_genre()* function to search for different variations of the hip-hop genre name in a table.\n",
    "\n",
    "The correct name is *hiphop*. Let's look for other options:\n",
    "\n",
    "* hip\n",
    "* hop\n",
    "* hip-hop"
   ]
  },
  {
   "cell_type": "code",
   "execution_count": 19,
   "metadata": {
    "colab": {},
    "colab_type": "code",
    "deletable": false,
    "id": "YrwqExZS-dyQ"
   },
   "outputs": [
    {
     "data": {
      "text/plain": [
       "1"
      ]
     },
     "execution_count": 19,
     "metadata": {},
     "output_type": "execute_result"
    }
   ],
   "source": [
    "# calling the find_genre() function checks for the presence of the 'hip' variant\n",
    "find_genre('hip') "
   ]
  },
  {
   "cell_type": "code",
   "execution_count": 20,
   "metadata": {
    "colab": {},
    "colab_type": "code",
    "deletable": false,
    "id": "ZoL4EEcR-dyU"
   },
   "outputs": [
    {
     "data": {
      "text/plain": [
       "0"
      ]
     },
     "execution_count": 20,
     "metadata": {},
     "output_type": "execute_result"
    }
   ],
   "source": [
    "# checks for the presence of the 'hop' option\n",
    "find_genre('hop')"
   ]
  },
  {
   "cell_type": "code",
   "execution_count": 21,
   "metadata": {
    "colab": {},
    "colab_type": "code",
    "deletable": false,
    "id": "MFowmiug-qZD"
   },
   "outputs": [
    {
     "data": {
      "text/plain": [
       "0"
      ]
     },
     "execution_count": 21,
     "metadata": {},
     "output_type": "execute_result"
    }
   ],
   "source": [
    "# checks for the presence of the 'hip-hop' option\n",
    "find_genre('hip=hop')"
   ]
  },
  {
   "cell_type": "markdown",
   "metadata": {
    "colab_type": "text",
    "deletable": false,
    "id": "a7BQY6ORLMSG",
    "tags": []
   },
   "source": [
    "Let's declare a function *find_hip_hop()* that replaces the incorrect name of this genre in the *'genre_name'* column with *'hiphop'* and checks that the replacement was successful.\n",
    "\n",
    "So we correct all spelling variants that the check revealed."
   ]
  },
  {
   "cell_type": "code",
   "execution_count": 22,
   "metadata": {
    "colab": {},
    "colab_type": "code",
    "deletable": false,
    "id": "31xlzL_c_FgB"
   },
   "outputs": [],
   "source": [
    "def find_hip_hop(df, wrong):\n",
    "    df['genre_name'] = df['genre_name'].replace(wrong, 'hiphop')\n",
    "    result = df[df['genre_name'] == wrong]['genre_name'].count()\n",
    "    return result"
   ]
  },
  {
   "cell_type": "code",
   "execution_count": 23,
   "metadata": {
    "colab": {},
    "colab_type": "code",
    "deletable": false,
    "id": "ZFXMV2qW_FgE"
   },
   "outputs": [
    {
     "data": {
      "text/plain": [
       "0"
      ]
     },
     "execution_count": 23,
     "metadata": {},
     "output_type": "execute_result"
    }
   ],
   "source": [
    "# replacing one incorrect option with hiphop by calling the find_hip_hop() function\n",
    "find_hip_hop(df, 'hip') "
   ]
  },
  {
   "cell_type": "code",
   "execution_count": 24,
   "metadata": {
    "colab": {},
    "colab_type": "code",
    "deletable": false,
    "id": "-yyvdzHA_uJm"
   },
   "outputs": [
    {
     "name": "stdout",
     "output_type": "stream",
     "text": [
      "<class 'pandas.core.frame.DataFrame'>\n",
      "RangeIndex: 60126 entries, 0 to 60125\n",
      "Data columns (total 7 columns):\n",
      " #   Column       Non-Null Count  Dtype \n",
      "---  ------       --------------  ----- \n",
      " 0   user_id      60126 non-null  object\n",
      " 1   track_name   60126 non-null  object\n",
      " 2   artist_name  60126 non-null  object\n",
      " 3   genre_name   60126 non-null  object\n",
      " 4   city         60126 non-null  object\n",
      " 5   time         60126 non-null  object\n",
      " 6   weekday      60126 non-null  object\n",
      "dtypes: object(7)\n",
      "memory usage: 3.2+ MB\n"
     ]
    }
   ],
   "source": [
    "# Info\n",
    "df.info() "
   ]
  },
  {
   "cell_type": "markdown",
   "metadata": {
    "colab_type": "text",
    "deletable": false,
    "id": "AReHO17cMRPM"
   },
   "source": [
    "## Summary"
   ]
  },
  {
   "cell_type": "markdown",
   "metadata": {
    "colab_type": "text",
    "deletable": false,
    "id": "yscfstUqMS4c"
   },
   "source": [
    "During the preprocessing stage, the data revealed not only gaps and problems with column names, but also all kinds of duplicates. Removing them will allow for more accurate analysis. Since information about genres is important to preserve for analysis, we do not simply remove all missing values, but fill in the missing artist names and track titles. Column names are now correct and convenient for further work."
   ]
  },
  {
   "cell_type": "markdown",
   "metadata": {
    "colab_type": "text",
    "deletable": false,
    "id": "AYSL1OvyM2pL"
   },
   "source": [
    "It was hypothesized that in Moscow and St. Petersburg users listen to music differently. We check this assumption using data on three days of the week - Monday, Wednesday and Friday.\n",
    "\n",
    "For each city, we determine the number of songs with a known genre listened to these days, and compare the results."
   ]
  },
  {
   "cell_type": "markdown",
   "metadata": {
    "colab_type": "text",
    "deletable": false,
    "id": "OM5Eeh7FNWC-"
   },
   "source": [
    "We group the data by city and call the *count()* method to count the compositions for which the genre is known."
   ]
  },
  {
   "cell_type": "code",
   "execution_count": 25,
   "metadata": {
    "colab": {},
    "colab_type": "code",
    "deletable": false,
    "id": "AtH_pP1i_0m1"
   },
   "outputs": [
    {
     "data": {
      "text/plain": [
       "city\n",
       "Moscow              41892\n",
       "Saint-Petersburg    18234\n",
       "Name: genre_name, dtype: int64"
      ]
     },
     "execution_count": 25,
     "metadata": {},
     "output_type": "execute_result"
    }
   ],
   "source": [
    "# grouping df table data by 'city' column and counting the number of values in 'genre_name' column\n",
    "df.groupby('city')['genre_name'].count() "
   ]
  },
  {
   "cell_type": "markdown",
   "metadata": {
    "colab_type": "text",
    "deletable": false,
    "id": "XBR226DMpIDf"
   },
   "source": [
    "There are more auditions in Moscow than in St. Petersburg, but this does not mean that Moscow is more active. Yandex.Music generally has more users in Moscow, so the values are comparable."
   ]
  },
  {
   "cell_type": "markdown",
   "metadata": {
    "colab_type": "text",
    "deletable": false,
    "id": "P7EcNQuyNbNB",
    "tags": []
   },
   "source": [
    "Let's group the data by day of the week and count the songs listened to on Monday, Wednesday and Friday, for which the genre is known."
   ]
  },
  {
   "cell_type": "code",
   "execution_count": 26,
   "metadata": {
    "colab": {},
    "colab_type": "code",
    "deletable": false,
    "id": "A8E_Tb2b_3un"
   },
   "outputs": [
    {
     "data": {
      "text/plain": [
       "weekday\n",
       "Friday       21482\n",
       "Monday       20866\n",
       "Wednesday    17778\n",
       "Name: genre_name, dtype: int64"
      ]
     },
     "execution_count": 26,
     "metadata": {},
     "output_type": "execute_result"
    }
   ],
   "source": [
    "# grouping data by column 'weekday' and counting the number of values in column 'genre_name'\n",
    "df.groupby('weekday')['genre_name'].count() "
   ]
  },
  {
   "cell_type": "markdown",
   "metadata": {
    "colab_type": "text",
    "deletable": false,
    "id": "Zhh6hehCpq_U"
   },
   "source": [
    "Monday and Friday are time for music; on Wednesdays, users are a little more engaged."
   ]
  },
  {
   "cell_type": "markdown",
   "metadata": {
    "colab_type": "text",
    "deletable": false,
    "id": "bYab2U5BNdmZ",
    "tags": []
   },
   "source": [
    "We create a function *number_tracks()*, which takes a table, day of the week and city name as parameters, and returns the number of tracks listened to for which the genre is known. We check the number of songs listened to for each city and on Monday, then Wednesday and Friday."
   ]
  },
  {
   "cell_type": "code",
   "execution_count": 27,
   "metadata": {
    "colab": {},
    "colab_type": "code",
    "deletable": false,
    "id": "4SqpGSi5_7hA"
   },
   "outputs": [],
   "source": [
    "def number_tracks(df, day, city):\n",
    "    track_list = df[(df['weekday'] == day) & (df['city'] == city)]         \n",
    "    track_list_count = track_list['genre_name'].count()\n",
    "    return track_list_count"
   ]
  },
  {
   "cell_type": "code",
   "execution_count": 28,
   "metadata": {
    "deletable": false
   },
   "outputs": [
    {
     "data": {
      "text/plain": [
       "15347"
      ]
     },
     "execution_count": 28,
     "metadata": {},
     "output_type": "execute_result"
    }
   ],
   "source": [
    "# list of compositions for Moscow on Monday\n",
    "number_tracks(df, 'Monday', 'Moscow') "
   ]
  },
  {
   "cell_type": "code",
   "execution_count": 29,
   "metadata": {
    "deletable": false
   },
   "outputs": [
    {
     "data": {
      "text/plain": [
       "5519"
      ]
     },
     "execution_count": 29,
     "metadata": {},
     "output_type": "execute_result"
    }
   ],
   "source": [
    "# list of compositions for St. Petersburg on Monday\n",
    "number_tracks(df, 'Monday', 'Saint-Petersburg')"
   ]
  },
  {
   "cell_type": "code",
   "execution_count": 30,
   "metadata": {
    "deletable": false
   },
   "outputs": [
    {
     "data": {
      "text/plain": [
       "10865"
      ]
     },
     "execution_count": 30,
     "metadata": {},
     "output_type": "execute_result"
    }
   ],
   "source": [
    "# list of compositions for Moscow on Wednesday\n",
    "number_tracks(df, 'Wednesday', 'Moscow')"
   ]
  },
  {
   "cell_type": "code",
   "execution_count": 31,
   "metadata": {
    "deletable": false
   },
   "outputs": [
    {
     "data": {
      "text/plain": [
       "6913"
      ]
     },
     "execution_count": 31,
     "metadata": {},
     "output_type": "execute_result"
    }
   ],
   "source": [
    "# list of compositions for St. Petersburg on Wednesday\n",
    "number_tracks(df, 'Wednesday', 'Saint-Petersburg')"
   ]
  },
  {
   "cell_type": "code",
   "execution_count": 32,
   "metadata": {
    "deletable": false
   },
   "outputs": [
    {
     "data": {
      "text/plain": [
       "15680"
      ]
     },
     "execution_count": 32,
     "metadata": {},
     "output_type": "execute_result"
    }
   ],
   "source": [
    "# list of compositions for Moscow on Friday\n",
    "number_tracks(df, 'Friday', 'Moscow')"
   ]
  },
  {
   "cell_type": "code",
   "execution_count": 33,
   "metadata": {
    "deletable": false
   },
   "outputs": [
    {
     "data": {
      "text/plain": [
       "5802"
      ]
     },
     "execution_count": 33,
     "metadata": {},
     "output_type": "execute_result"
    }
   ],
   "source": [
    "# list of compositions for St. Petersburg on Friday\n",
    "number_tracks(df, 'Friday', 'Saint-Petersburg')"
   ]
  },
  {
   "cell_type": "markdown",
   "metadata": {
    "colab_type": "text",
    "deletable": false,
    "id": "tCB9zwzzqZ8g",
    "tags": []
   },
   "source": [
    "Let's summarize the received information into one table, where ['city', 'monday', 'wednesday', 'friday'] are the names of the columns."
   ]
  },
  {
   "cell_type": "code",
   "execution_count": 34,
   "metadata": {
    "deletable": false
   },
   "outputs": [],
   "source": [
    "data = [['Moscow', 15347, 10865, 15680],\n",
    "        ['Saint-Petersburg', 5519, 6913, 5802]]\n",
    "\n",
    "columns = ['city', 'monday', 'wednesday', 'friday']\n",
    "table = pd.DataFrame(data = data, columns = columns)\n"
   ]
  },
  {
   "cell_type": "markdown",
   "metadata": {
    "colab_type": "text",
    "deletable": false,
    "id": "LKCYeMXgqPxD"
   },
   "source": [
    "## Summary"
   ]
  },
  {
   "cell_type": "markdown",
   "metadata": {
    "colab_type": "text",
    "deletable": false,
    "id": "RJpg6I8jqQ0x"
   },
   "source": [
    "The results show that, relative to Wednesday, music is listened to in a “mirror way” in St. Petersburg and Moscow: in Moscow the peaks occur on Monday and Friday, and on Wednesday the listening time decreases. Whereas in St. Petersburg, Wednesday is the day of the greatest interest in music, and on Monday and Friday it is less, and almost equally less."
   ]
  },
  {
   "cell_type": "markdown",
   "metadata": {
    "colab_type": "text",
    "deletable": false,
    "id": "SaQlxcVntL3x"
   },
   "source": [
    "We are looking for an answer to the question of what genres predominate in different cities on Monday morning and Friday evening. There is an assumption that on Monday morning users listen to more uplifting music (for example, pop), and on Friday evening - more dance music (for example, electronica)."
   ]
  },
  {
   "cell_type": "markdown",
   "metadata": {
    "colab_type": "text",
    "deletable": false,
    "id": "lYGAneOaPBhS"
   },
   "source": [
    "We will receive data tables for Moscow *moscow_general* and St. Petersburg *spb_general*."
   ]
  },
  {
   "cell_type": "code",
   "execution_count": 35,
   "metadata": {
    "colab": {},
    "colab_type": "code",
    "deletable": false,
    "id": "Pyz1i56nA5IS"
   },
   "outputs": [],
   "source": [
    "moscow_general = df[(df['city'] == 'Moscow')]"
   ]
  },
  {
   "cell_type": "code",
   "execution_count": 36,
   "metadata": {
    "colab": {},
    "colab_type": "code",
    "deletable": false,
    "id": "w3NNN-2hA-al"
   },
   "outputs": [],
   "source": [
    "spb_general = df[(df['city'] == 'Saint-Petersburg')] "
   ]
  },
  {
   "cell_type": "markdown",
   "metadata": {
    "colab_type": "text",
    "deletable": false,
    "id": "duDdH_WiPLky",
    "tags": []
   },
   "source": [
    "We create a function *genre_weekday()* that returns a list of genres by the requested day of the week and time of day from such and such an hour to such and such."
   ]
  },
  {
   "cell_type": "code",
   "execution_count": 37,
   "metadata": {
    "colab": {},
    "colab_type": "code",
    "deletable": false,
    "id": "JhUdQynHBEYw"
   },
   "outputs": [],
   "source": [
    "# declaration of the function genre_weekday() with parameters df, day, time1, time2\n",
    "def genre_weekday(df, day, time1, time2):\n",
    "    genre_list = df[(df['weekday'] == day) & (df['time'] > time1) & (df['time'] < time2)]\n",
    "    genre_list_sorted = genre_list.groupby('genre_name')['genre_name'].count()\n",
    "    return genre_list_sorted"
   ]
  },
  {
   "cell_type": "markdown",
   "metadata": {
    "colab_type": "text",
    "deletable": false,
    "id": "bxGC8kXkP7B-",
    "tags": []
   },
   "source": [
    "We compare the results obtained in the table for Moscow and St. Petersburg on Monday morning (from 7 to 11) and on Friday evening (from 17 to 23)."
   ]
  },
  {
   "cell_type": "code",
   "execution_count": 38,
   "metadata": {
    "colab": {},
    "colab_type": "code",
    "deletable": false,
    "id": "kbgeq-55BLEI"
   },
   "outputs": [
    {
     "data": {
      "text/plain": [
       "genre_name\n",
       "adult            1\n",
       "africa           2\n",
       "alternative    164\n",
       "ambient         22\n",
       "americana        1\n",
       "              ... \n",
       "videogame        7\n",
       "vocal            8\n",
       "western         10\n",
       "world          181\n",
       "worldbeat        1\n",
       "Name: genre_name, Length: 152, dtype: int64"
      ]
     },
     "execution_count": 38,
     "metadata": {},
     "output_type": "execute_result"
    }
   ],
   "source": [
    "# calling a function for Monday morning in Moscow (instead of df table moscow_general)\n",
    "genre_weekday(moscow_general, 'Monday', '07:00:00', '11:00:00') "
   ]
  },
  {
   "cell_type": "code",
   "execution_count": 39,
   "metadata": {
    "colab": {},
    "colab_type": "code",
    "deletable": false,
    "id": "XHwa8N2EBRXO"
   },
   "outputs": [
    {
     "data": {
      "text/plain": [
       "genre_name\n",
       "adult           1\n",
       "alternative    58\n",
       "ambient         5\n",
       "balkan          1\n",
       "beats           1\n",
       "               ..\n",
       "variété         3\n",
       "videogame       1\n",
       "vocal           2\n",
       "western         7\n",
       "world          36\n",
       "Name: genre_name, Length: 107, dtype: int64"
      ]
     },
     "execution_count": 39,
     "metadata": {},
     "output_type": "execute_result"
    }
   ],
   "source": [
    "# calling a function for Monday morning in St. Petersburg (instead of df table spb_general)\n",
    "genre_weekday(spb_general,'Monday','07:00:00','11:00:00')  "
   ]
  },
  {
   "cell_type": "code",
   "execution_count": 40,
   "metadata": {
    "colab": {},
    "colab_type": "code",
    "deletable": false,
    "id": "YvdSbg2jBUeq"
   },
   "outputs": [
    {
     "data": {
      "text/plain": [
       "genre_name\n",
       "adult            1\n",
       "africa           1\n",
       "alternative    163\n",
       "ambient         18\n",
       "americana        2\n",
       "              ... \n",
       "variété          6\n",
       "videogame        5\n",
       "vocal            9\n",
       "western          4\n",
       "world          208\n",
       "Name: genre_name, Length: 163, dtype: int64"
      ]
     },
     "execution_count": 40,
     "metadata": {},
     "output_type": "execute_result"
    }
   ],
   "source": [
    "# calling a function for Friday evening in Moscow\n",
    "genre_weekday(moscow_general,'Friday','17:00:00','23:00:00') "
   ]
  },
  {
   "cell_type": "code",
   "execution_count": 41,
   "metadata": {
    "colab": {},
    "colab_type": "code",
    "deletable": false,
    "id": "Ew3ig4fPBUeu"
   },
   "outputs": [
    {
     "data": {
      "text/plain": [
       "genre_name\n",
       "acoustic        1\n",
       "adult           1\n",
       "alternative    63\n",
       "ambient         7\n",
       "americana       1\n",
       "               ..\n",
       "variété         4\n",
       "videogame       3\n",
       "vocal           2\n",
       "western         5\n",
       "world          54\n",
       "Name: genre_name, Length: 126, dtype: int64"
      ]
     },
     "execution_count": 41,
     "metadata": {},
     "output_type": "execute_result"
    }
   ],
   "source": [
    "# calling a function for Friday evening in St. Petersburg\n",
    "genre_weekday(spb_general,'Friday','17:00:00','23:00:00') "
   ]
  },
  {
   "cell_type": "markdown",
   "metadata": {
    "colab_type": "text",
    "deletable": false,
    "id": "UenYBZTIwYT-"
   },
   "source": [
    "Popular genres on Monday morning in St. Petersburg and Moscow turned out to be similar: pop was popular everywhere, as expected. Despite this, the end of the top 10 for the two cities is different: in St. Petersburg the top 10 includes jazz and Russian rap, and in Moscow the *world* genre is included.\n",
    "\n",
    "At the end of the week the situation does not change. Pop music is still in first place. Again, the difference is noticeable only at the end of the top 10, where the *world* genre is also present in St. Petersburg on a Friday evening."
   ]
  },
  {
   "cell_type": "markdown",
   "metadata": {
    "colab_type": "text",
    "deletable": false,
    "id": "MBxfrKPAykp_"
   },
   "source": [
    "## Summary"
   ]
  },
  {
   "cell_type": "markdown",
   "metadata": {
    "colab_type": "text",
    "deletable": false,
    "id": "j8ypBMwSymL6"
   },
   "source": [
    "The pop genre is the undisputed leader, and the top 5 as a whole does not differ in both capitals. At the same time, it is clear that the end of the list is more “live”: for each city, more characteristic genres are identified, which actually change their positions depending on the day of the week and time."
   ]
  },
  {
   "cell_type": "markdown",
   "metadata": {
    "colab_type": "text",
    "deletable": false,
    "id": "Wc5srT13zb4Z"
   },
   "source": [
    "Hypothesis: St. Petersburg is rich in its rap culture, so this genre is listened to more often there, and Moscow is a city of contrasts, but the bulk of users listen to pop music."
   ]
  },
  {
   "cell_type": "markdown",
   "metadata": {
    "colab_type": "text",
    "deletable": false,
    "id": "2SFE9_RV2KEL"
   },
   "source": [
    "Let's group the *moscow_general* table by genre, count the number of compositions of each genre using the *count()* method, sort in descending order and save the result in the *moscow_genres* table.\n",
    "\n",
    "Let's look at the first 10 rows of this new table."
   ]
  },
  {
   "cell_type": "code",
   "execution_count": 42,
   "metadata": {
    "colab": {},
    "colab_type": "code",
    "deletable": false,
    "id": "OohoTcsYBheo"
   },
   "outputs": [],
   "source": [
    "moscow_genres = moscow_general.groupby('genre_name')['genre_name'].count().sort_values(ascending = False)"
   ]
  },
  {
   "cell_type": "code",
   "execution_count": 43,
   "metadata": {
    "colab": {},
    "colab_type": "code",
    "deletable": false,
    "id": "h7IhIKDrBher"
   },
   "outputs": [
    {
     "data": {
      "text/plain": [
       "genre_name\n",
       "pop            5892\n",
       "dance          4435\n",
       "rock           3965\n",
       "electronic     3786\n",
       "hiphop         2096\n",
       "classical      1616\n",
       "world          1432\n",
       "alternative    1379\n",
       "ruspop         1372\n",
       "rusrap         1161\n",
       "Name: genre_name, dtype: int64"
      ]
     },
     "execution_count": 43,
     "metadata": {},
     "output_type": "execute_result"
    }
   ],
   "source": [
    "# First 10 rows\n",
    "moscow_genres.head(10) "
   ]
  },
  {
   "cell_type": "markdown",
   "metadata": {
    "colab_type": "text",
    "deletable": false,
    "id": "gjnf0lol2fUy",
    "tags": []
   },
   "source": [
    "Let's group the *spb_general* table by genre, count the number of compositions of each genre using the *count()* method, sort in descending order and save the result in the *spb_genres* table.\n",
    "\n",
    "Let's look at the first 10 rows of this table. Now you can compare the two cities."
   ]
  },
  {
   "cell_type": "code",
   "execution_count": 44,
   "metadata": {
    "colab": {},
    "colab_type": "code",
    "deletable": false,
    "id": "eQrdA85dB1LO"
   },
   "outputs": [],
   "source": [
    "spb_genres = spb_general.groupby('genre_name')['genre_name'].count().sort_values(ascending = False)"
   ]
  },
  {
   "cell_type": "code",
   "execution_count": 45,
   "metadata": {
    "colab": {},
    "colab_type": "code",
    "deletable": false,
    "id": "AE-Z-1wCB1LS"
   },
   "outputs": [
    {
     "data": {
      "text/plain": [
       "genre_name\n",
       "pop            2431\n",
       "dance          1932\n",
       "rock           1879\n",
       "electronic     1736\n",
       "hiphop          960\n",
       "alternative     649\n",
       "classical       646\n",
       "rusrap          564\n",
       "ruspop          538\n",
       "world           515\n",
       "Name: genre_name, dtype: int64"
      ]
     },
     "execution_count": 45,
     "metadata": {},
     "output_type": "execute_result"
    }
   ],
   "source": [
    "# First 10 rows\n",
    "spb_genres.head(10)"
   ]
  },
  {
   "cell_type": "markdown",
   "metadata": {
    "colab_type": "text",
    "deletable": false,
    "id": "J5E-kLgK2piO"
   },
   "source": [
    "## Summary"
   ]
  },
  {
   "cell_type": "markdown",
   "metadata": {
    "colab_type": "text",
    "deletable": false,
    "id": "-9R3-Qh02tNt"
   },
   "source": [
    "In Moscow, in addition to the absolutely popular pop genre, there is a direction of Russian popular music. This means that interest in this genre is wider. And rap, contrary to assumption, occupies close positions in both cities."
   ]
  },
  {
   "cell_type": "markdown",
   "metadata": {
    "colab_type": "text",
    "deletable": false,
    "id": "gLlT9nKMQ3ky",
    "tags": [
     "0d44c8c0-390b-4c9e-b797-ddc3993f6e58"
    ]
   },
   "source": [
    "# Summary\n"
   ]
  },
  {
   "cell_type": "markdown",
   "metadata": {
    "colab_type": "text",
    "deletable": false,
    "id": "GtvyRBbD7dv5"
   },
   "source": [
    "Working hypotheses:\n",
    "\n",
    "* music in two cities - Moscow and St. Petersburg - is listened to in different modes;\n",
    "\n",
    "* the lists of the ten most popular genres on Monday morning and Friday evening have characteristic differences;\n",
    "\n",
    "* the population of two cities prefers different musical genres.\n",
    "\n",
    "**General results**\n",
    "\n",
    "Moscow and St. Petersburg have similar tastes: popular music predominates everywhere. At the same time, there is no dependence of preferences on the day of the week in each individual city - people constantly listen to what they like. But between cities, in terms of days of the week, there is a mirror image relative to Wednesday: Moscow listens more on Monday and Friday, and St. Petersburg, on the contrary, listens more on Wednesday, but less on Monday and Friday."
   ]
  }
 ],
 "metadata": {
  "ExecuteTimeLog": [
   {
    "duration": 571,
    "start_time": "2022-08-15T09:41:56.991Z"
   }
  ],
  "kernelspec": {
   "display_name": "Python 3.9.12 ('base')",
   "language": "python",
   "name": "python3"
  },
  "language_info": {
   "codemirror_mode": {
    "name": "ipython",
    "version": 3
   },
   "file_extension": ".py",
   "mimetype": "text/x-python",
   "name": "python",
   "nbconvert_exporter": "python",
   "pygments_lexer": "ipython3",
   "version": "3.9.12"
  },
  "toc": {
   "base_numbering": 1,
   "nav_menu": {},
   "number_sections": true,
   "sideBar": true,
   "skip_h1_title": true,
   "title_cell": "Table of Contents",
   "title_sidebar": "Contents",
   "toc_cell": false,
   "toc_position": {},
   "toc_section_display": true,
   "toc_window_display": false
  },
  "vscode": {
   "interpreter": {
    "hash": "0c74b0a454e3c9d730ef9fb08a167c1214258abf4e1cbd79a5eb93a13b26ba0f"
   }
  }
 },
 "nbformat": 4,
 "nbformat_minor": 1
}
